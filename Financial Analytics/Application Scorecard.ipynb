{
 "cells": [
  {
   "cell_type": "code",
   "execution_count": 642,
   "id": "617b6fc6-94cf-482b-8e68-c486d2048ddc",
   "metadata": {
    "tags": []
   },
   "outputs": [],
   "source": [
    "import numpy as np\n",
    "import pandas as pd\n",
    "import matplotlib.pyplot as plt\n",
    "import seaborn as sns\n",
    "from collections import Counter\n",
    "from sklearn.model_selection import train_test_split\n",
    "from sklearn.linear_model import LogisticRegression\n",
    "from sklearn.tree import DecisionTreeClassifier\n",
    "from sklearn.ensemble import RandomForestClassifier\n",
    "from sklearn.metrics import roc_auc_score, classification_report\n",
    "from statsmodels.stats.outliers_influence import variance_inflation_factor\n",
    "from varclushi import VarClusHi\n",
    "from imblearn.over_sampling import SMOTE,SMOTENC, RandomOverSampler\n",
    "import joblib\n",
    "sm = SMOTE(random_state=32)\n",
    "smc = SMOTENC(random_state=52,categorical_features=[14,15,16])\n",
    "rs = RandomOverSampler(random_state=37)\n",
    "import warnings\n",
    "warnings.filterwarnings(\"ignore\")\n",
    "pd.set_option('display.max_rows', 50000)\n",
    "pd.set_option('display.max_columns', 500)\n",
    "pd.set_option('float_format', '{:f}'.format)\n",
    "sns.set(rc={'figure.figsize':(11.7,8.27)})"
   ]
  },
  {
   "cell_type": "code",
   "execution_count": 2,
   "id": "95ca24a9-d5f6-46e7-9c35-27fc8f441b66",
   "metadata": {
    "tags": []
   },
   "outputs": [],
   "source": [
    "df = pd.read_excel('../Data- acquisition scorecard.xlsx')"
   ]
  },
  {
   "cell_type": "code",
   "execution_count": 3,
   "id": "9a5b7364-438a-4447-a6c6-61910d099dab",
   "metadata": {
    "tags": []
   },
   "outputs": [],
   "source": [
    "df.rename(columns={'ENQ_1':'days_last_enq','ENQ_2':'days_hl_last_enq','ENQ_3':'#_enq_3mnths','ENQ_4':'#_hle_enq_3mnths','ENQ_5':'#_enq_12mnths','ENQ_6':'#_hle_enq_12mnths','ENQ_7':'Tot_enq','ENQ_8':'Tot_hle_enq','ACCOUNT_9':'#_defaults_3mnths','ACCOUNT_10':'#_defaults_12mnths','ACCOUNT_11':'days_last_acc_open','ACCOUNT_12':'Tot_accounts','ACCOUNT_13':'Tot_hle_accounts','ACCOUNT_14':'Tot_unsecured_loans','ACCOUNT_15':'Tot_live_loans','ACCOUNT_16':'Tot_live_homeloans','ACCOUNT_17':'Tot_live_unsecuredloans','ACCOUNT_18':'Tot_amt_outstanding','ACCOUNT_19':'Tot_secured_outstanding_amt','ACCOUNT_20':'Tot_unsecured_outstanding_amt','ACCOUNT_21':'Avg_days_in_debt'},inplace=True)"
   ]
  },
  {
   "cell_type": "code",
   "execution_count": 4,
   "id": "b86117c7-8eab-42e2-a9f4-bd4a9c928829",
   "metadata": {
    "tags": []
   },
   "outputs": [
    {
     "data": {
      "text/html": [
       "<div>\n",
       "<style scoped>\n",
       "    .dataframe tbody tr th:only-of-type {\n",
       "        vertical-align: middle;\n",
       "    }\n",
       "\n",
       "    .dataframe tbody tr th {\n",
       "        vertical-align: top;\n",
       "    }\n",
       "\n",
       "    .dataframe thead th {\n",
       "        text-align: right;\n",
       "    }\n",
       "</style>\n",
       "<table border=\"1\" class=\"dataframe\">\n",
       "  <thead>\n",
       "    <tr style=\"text-align: right;\">\n",
       "      <th></th>\n",
       "      <th>ID</th>\n",
       "      <th>Age</th>\n",
       "      <th>Customer_type</th>\n",
       "      <th>Gross_income</th>\n",
       "      <th>Net_income</th>\n",
       "      <th>SEX</th>\n",
       "      <th>Type_of_industry</th>\n",
       "      <th>Marital_Status</th>\n",
       "      <th>Months_in_city</th>\n",
       "      <th>Months_in_current_job</th>\n",
       "      <th>Org_Type</th>\n",
       "      <th>Bank_balance</th>\n",
       "      <th>Debt_ratio</th>\n",
       "      <th>Target</th>\n",
       "      <th>days_last_enq</th>\n",
       "      <th>days_hl_last_enq</th>\n",
       "      <th>#_enq_3mnths</th>\n",
       "      <th>#_hle_enq_3mnths</th>\n",
       "      <th>#_enq_12mnths</th>\n",
       "      <th>#_hle_enq_12mnths</th>\n",
       "      <th>Tot_enq</th>\n",
       "      <th>Tot_hle_enq</th>\n",
       "      <th>#_defaults_3mnths</th>\n",
       "      <th>#_defaults_12mnths</th>\n",
       "      <th>days_last_acc_open</th>\n",
       "      <th>Tot_accounts</th>\n",
       "      <th>Tot_hle_accounts</th>\n",
       "      <th>Tot_unsecured_loans</th>\n",
       "      <th>Tot_live_loans</th>\n",
       "      <th>Tot_live_homeloans</th>\n",
       "      <th>Tot_live_unsecuredloans</th>\n",
       "      <th>Tot_amt_outstanding</th>\n",
       "      <th>Tot_secured_outstanding_amt</th>\n",
       "      <th>Tot_unsecured_outstanding_amt</th>\n",
       "      <th>Avg_days_in_debt</th>\n",
       "    </tr>\n",
       "  </thead>\n",
       "  <tbody>\n",
       "    <tr>\n",
       "      <th>0</th>\n",
       "      <td>1794</td>\n",
       "      <td>40.000</td>\n",
       "      <td>SALARIED</td>\n",
       "      <td>70891.000</td>\n",
       "      <td>62491.000</td>\n",
       "      <td>MALE</td>\n",
       "      <td>OTHERS</td>\n",
       "      <td>MARRIED</td>\n",
       "      <td>229.000</td>\n",
       "      <td>108</td>\n",
       "      <td>INDIVIDUAL</td>\n",
       "      <td>37806.000</td>\n",
       "      <td>0.190</td>\n",
       "      <td>0</td>\n",
       "      <td>324</td>\n",
       "      <td>0</td>\n",
       "      <td>0</td>\n",
       "      <td>0</td>\n",
       "      <td>1</td>\n",
       "      <td>0</td>\n",
       "      <td>14</td>\n",
       "      <td>0</td>\n",
       "      <td>0</td>\n",
       "      <td>0</td>\n",
       "      <td>1486</td>\n",
       "      <td>9</td>\n",
       "      <td>0</td>\n",
       "      <td>8</td>\n",
       "      <td>2</td>\n",
       "      <td>0</td>\n",
       "      <td>2</td>\n",
       "      <td>275606</td>\n",
       "      <td>0</td>\n",
       "      <td>275606</td>\n",
       "      <td>5311</td>\n",
       "    </tr>\n",
       "    <tr>\n",
       "      <th>1</th>\n",
       "      <td>3183</td>\n",
       "      <td>35.000</td>\n",
       "      <td>SALARIED</td>\n",
       "      <td>53617.000</td>\n",
       "      <td>53617.000</td>\n",
       "      <td>MALE</td>\n",
       "      <td>OTHERS</td>\n",
       "      <td>MARRIED</td>\n",
       "      <td>408.000</td>\n",
       "      <td>60</td>\n",
       "      <td>INDIVIDUAL</td>\n",
       "      <td>15499.000</td>\n",
       "      <td>0.420</td>\n",
       "      <td>0</td>\n",
       "      <td>616</td>\n",
       "      <td>1978</td>\n",
       "      <td>0</td>\n",
       "      <td>0</td>\n",
       "      <td>0</td>\n",
       "      <td>0</td>\n",
       "      <td>11</td>\n",
       "      <td>1</td>\n",
       "      <td>5</td>\n",
       "      <td>5</td>\n",
       "      <td>1912</td>\n",
       "      <td>8</td>\n",
       "      <td>0</td>\n",
       "      <td>6</td>\n",
       "      <td>1</td>\n",
       "      <td>0</td>\n",
       "      <td>0</td>\n",
       "      <td>4844</td>\n",
       "      <td>4824</td>\n",
       "      <td>20</td>\n",
       "      <td>5289</td>\n",
       "    </tr>\n",
       "    <tr>\n",
       "      <th>2</th>\n",
       "      <td>1841</td>\n",
       "      <td>46.000</td>\n",
       "      <td>SALARIED</td>\n",
       "      <td>20000.000</td>\n",
       "      <td>45912.000</td>\n",
       "      <td>MALE</td>\n",
       "      <td>OTHERS</td>\n",
       "      <td>MARRIED</td>\n",
       "      <td>552.000</td>\n",
       "      <td>204</td>\n",
       "      <td>INDIVIDUAL</td>\n",
       "      <td>15034.000</td>\n",
       "      <td>0.340</td>\n",
       "      <td>0</td>\n",
       "      <td>688</td>\n",
       "      <td>0</td>\n",
       "      <td>0</td>\n",
       "      <td>0</td>\n",
       "      <td>0</td>\n",
       "      <td>0</td>\n",
       "      <td>3</td>\n",
       "      <td>0</td>\n",
       "      <td>0</td>\n",
       "      <td>0</td>\n",
       "      <td>681</td>\n",
       "      <td>4</td>\n",
       "      <td>2</td>\n",
       "      <td>1</td>\n",
       "      <td>1</td>\n",
       "      <td>1</td>\n",
       "      <td>0</td>\n",
       "      <td>15695</td>\n",
       "      <td>15695</td>\n",
       "      <td>0</td>\n",
       "      <td>5153</td>\n",
       "    </tr>\n",
       "    <tr>\n",
       "      <th>3</th>\n",
       "      <td>1115</td>\n",
       "      <td>49.000</td>\n",
       "      <td>SALARIED</td>\n",
       "      <td>40000.000</td>\n",
       "      <td>77440.000</td>\n",
       "      <td>FEMALE</td>\n",
       "      <td>OTHERS</td>\n",
       "      <td>MARRIED</td>\n",
       "      <td>0.000</td>\n",
       "      <td>0</td>\n",
       "      <td>INDIVIDUAL</td>\n",
       "      <td>27349.000</td>\n",
       "      <td>0.080</td>\n",
       "      <td>0</td>\n",
       "      <td>52</td>\n",
       "      <td>52</td>\n",
       "      <td>2</td>\n",
       "      <td>2</td>\n",
       "      <td>3</td>\n",
       "      <td>2</td>\n",
       "      <td>3</td>\n",
       "      <td>2</td>\n",
       "      <td>0</td>\n",
       "      <td>0</td>\n",
       "      <td>5143</td>\n",
       "      <td>1</td>\n",
       "      <td>1</td>\n",
       "      <td>0</td>\n",
       "      <td>1</td>\n",
       "      <td>1</td>\n",
       "      <td>0</td>\n",
       "      <td>480051</td>\n",
       "      <td>480051</td>\n",
       "      <td>0</td>\n",
       "      <td>5143</td>\n",
       "    </tr>\n",
       "    <tr>\n",
       "      <th>4</th>\n",
       "      <td>3125</td>\n",
       "      <td>45.000</td>\n",
       "      <td>SELF EMPLOYED</td>\n",
       "      <td>36526.000</td>\n",
       "      <td>36526.000</td>\n",
       "      <td>MALE</td>\n",
       "      <td>OTHERS</td>\n",
       "      <td>MARRIED</td>\n",
       "      <td>540.000</td>\n",
       "      <td>22</td>\n",
       "      <td>INDIVIDUAL</td>\n",
       "      <td>28520.000</td>\n",
       "      <td>0.480</td>\n",
       "      <td>0</td>\n",
       "      <td>33</td>\n",
       "      <td>0</td>\n",
       "      <td>1</td>\n",
       "      <td>0</td>\n",
       "      <td>1</td>\n",
       "      <td>0</td>\n",
       "      <td>2</td>\n",
       "      <td>0</td>\n",
       "      <td>5</td>\n",
       "      <td>5</td>\n",
       "      <td>3310</td>\n",
       "      <td>2</td>\n",
       "      <td>0</td>\n",
       "      <td>0</td>\n",
       "      <td>1</td>\n",
       "      <td>0</td>\n",
       "      <td>0</td>\n",
       "      <td>2781</td>\n",
       "      <td>2781</td>\n",
       "      <td>0</td>\n",
       "      <td>5093</td>\n",
       "    </tr>\n",
       "  </tbody>\n",
       "</table>\n",
       "</div>"
      ],
      "text/plain": [
       "     ID    Age  Customer_type  Gross_income  Net_income     SEX  \\\n",
       "0  1794 40.000       SALARIED     70891.000   62491.000    MALE   \n",
       "1  3183 35.000       SALARIED     53617.000   53617.000    MALE   \n",
       "2  1841 46.000       SALARIED     20000.000   45912.000    MALE   \n",
       "3  1115 49.000       SALARIED     40000.000   77440.000  FEMALE   \n",
       "4  3125 45.000  SELF EMPLOYED     36526.000   36526.000    MALE   \n",
       "\n",
       "  Type_of_industry Marital_Status  Months_in_city  Months_in_current_job  \\\n",
       "0           OTHERS        MARRIED         229.000                    108   \n",
       "1           OTHERS        MARRIED         408.000                     60   \n",
       "2           OTHERS        MARRIED         552.000                    204   \n",
       "3           OTHERS        MARRIED           0.000                      0   \n",
       "4           OTHERS        MARRIED         540.000                     22   \n",
       "\n",
       "     Org_Type  Bank_balance  Debt_ratio  Target  days_last_enq  \\\n",
       "0  INDIVIDUAL     37806.000       0.190       0            324   \n",
       "1  INDIVIDUAL     15499.000       0.420       0            616   \n",
       "2  INDIVIDUAL     15034.000       0.340       0            688   \n",
       "3  INDIVIDUAL     27349.000       0.080       0             52   \n",
       "4  INDIVIDUAL     28520.000       0.480       0             33   \n",
       "\n",
       "   days_hl_last_enq  #_enq_3mnths  #_hle_enq_3mnths  #_enq_12mnths  \\\n",
       "0                 0             0                 0              1   \n",
       "1              1978             0                 0              0   \n",
       "2                 0             0                 0              0   \n",
       "3                52             2                 2              3   \n",
       "4                 0             1                 0              1   \n",
       "\n",
       "   #_hle_enq_12mnths  Tot_enq  Tot_hle_enq  #_defaults_3mnths  \\\n",
       "0                  0       14            0                  0   \n",
       "1                  0       11            1                  5   \n",
       "2                  0        3            0                  0   \n",
       "3                  2        3            2                  0   \n",
       "4                  0        2            0                  5   \n",
       "\n",
       "   #_defaults_12mnths  days_last_acc_open  Tot_accounts  Tot_hle_accounts  \\\n",
       "0                   0                1486             9                 0   \n",
       "1                   5                1912             8                 0   \n",
       "2                   0                 681             4                 2   \n",
       "3                   0                5143             1                 1   \n",
       "4                   5                3310             2                 0   \n",
       "\n",
       "   Tot_unsecured_loans  Tot_live_loans  Tot_live_homeloans  \\\n",
       "0                    8               2                   0   \n",
       "1                    6               1                   0   \n",
       "2                    1               1                   1   \n",
       "3                    0               1                   1   \n",
       "4                    0               1                   0   \n",
       "\n",
       "   Tot_live_unsecuredloans  Tot_amt_outstanding  Tot_secured_outstanding_amt  \\\n",
       "0                        2               275606                            0   \n",
       "1                        0                 4844                         4824   \n",
       "2                        0                15695                        15695   \n",
       "3                        0               480051                       480051   \n",
       "4                        0                 2781                         2781   \n",
       "\n",
       "   Tot_unsecured_outstanding_amt  Avg_days_in_debt  \n",
       "0                         275606              5311  \n",
       "1                             20              5289  \n",
       "2                              0              5153  \n",
       "3                              0              5143  \n",
       "4                              0              5093  "
      ]
     },
     "execution_count": 4,
     "metadata": {},
     "output_type": "execute_result"
    }
   ],
   "source": [
    "df.head()"
   ]
  },
  {
   "cell_type": "code",
   "execution_count": 5,
   "id": "0ae8fe5c-52f6-466b-9509-d72c20e882cb",
   "metadata": {
    "tags": []
   },
   "outputs": [],
   "source": [
    "df_copy = df.copy()"
   ]
  },
  {
   "cell_type": "markdown",
   "id": "097b3e08-94b5-4363-a299-9471a0556e29",
   "metadata": {},
   "source": [
    "### Data Pre Processing"
   ]
  },
  {
   "cell_type": "code",
   "execution_count": 6,
   "id": "4e2b5983-b921-4525-8e16-4e9089d30817",
   "metadata": {
    "tags": []
   },
   "outputs": [
    {
     "data": {
      "text/plain": [
       "3980"
      ]
     },
     "execution_count": 6,
     "metadata": {},
     "output_type": "execute_result"
    }
   ],
   "source": [
    "len(df)"
   ]
  },
  {
   "cell_type": "code",
   "execution_count": 7,
   "id": "db2f2b14-d2b4-44e0-ad31-07e2ceb6f678",
   "metadata": {
    "tags": []
   },
   "outputs": [
    {
     "data": {
      "text/plain": [
       "3894"
      ]
     },
     "execution_count": 7,
     "metadata": {},
     "output_type": "execute_result"
    }
   ],
   "source": [
    "df.ID.nunique()"
   ]
  },
  {
   "cell_type": "code",
   "execution_count": 8,
   "id": "f7557323-fb8a-4566-8507-799947519afb",
   "metadata": {
    "tags": []
   },
   "outputs": [],
   "source": [
    "df.drop(df[df.duplicated()].index,inplace=True)"
   ]
  },
  {
   "cell_type": "code",
   "execution_count": 9,
   "id": "7cc1a4ec-ae85-408e-9f43-4b12e22c64c2",
   "metadata": {
    "tags": []
   },
   "outputs": [
    {
     "data": {
      "text/plain": [
       "Bank_balance           626\n",
       "Type_of_industry         5\n",
       "SEX                      4\n",
       "Marital_Status           4\n",
       "Months_in_city           4\n",
       "Age                      1\n",
       "ID                       0\n",
       "Tot_unsecured_loans      0\n",
       "#_defaults_12mnths       0\n",
       "days_last_acc_open       0\n",
       "dtype: int64"
      ]
     },
     "execution_count": 9,
     "metadata": {},
     "output_type": "execute_result"
    }
   ],
   "source": [
    "df.isnull().sum().sort_values(ascending=False).head(10)"
   ]
  },
  {
   "cell_type": "code",
   "execution_count": 10,
   "id": "f78ba71c-2b05-46d7-8054-cda50219460c",
   "metadata": {
    "tags": []
   },
   "outputs": [],
   "source": [
    "sal_bb = df.loc[df['Customer_type'] == 'SALARIED','Bank_balance'].mean()\n",
    "se_bb = df.loc[df['Customer_type'] == 'SELF EMPLOYED','Bank_balance'].mean()\n",
    "ne_bb = df.loc[df['Customer_type'] == 'NON EARNING','Bank_balance'].mean()"
   ]
  },
  {
   "cell_type": "code",
   "execution_count": 11,
   "id": "45e9a351-c9b0-4c3d-ac49-64c6929a533b",
   "metadata": {
    "tags": []
   },
   "outputs": [],
   "source": [
    "df['Bank_balance'] = np.where((df['Customer_type'] == 'SALARIED') & (df['Bank_balance'].isna()),sal_bb,np.where(((df['Customer_type'] == 'SELF EMPLOYED')&(df['Bank_balance'].isna())),se_bb,np.where(((df['Customer_type'] == 'NON EARNING') & (df['Bank_balance'].isna())),ne_bb,df['Bank_balance'])))"
   ]
  },
  {
   "cell_type": "code",
   "execution_count": 12,
   "id": "6c89bdff-801a-47fc-befe-ffbc5e47e2ac",
   "metadata": {
    "tags": []
   },
   "outputs": [
    {
     "data": {
      "text/plain": [
       "Type_of_industry       5\n",
       "SEX                    4\n",
       "Marital_Status         4\n",
       "Months_in_city         4\n",
       "Age                    1\n",
       "ID                     0\n",
       "Tot_unsecured_loans    0\n",
       "#_defaults_3mnths      0\n",
       "#_defaults_12mnths     0\n",
       "days_last_acc_open     0\n",
       "dtype: int64"
      ]
     },
     "execution_count": 12,
     "metadata": {},
     "output_type": "execute_result"
    }
   ],
   "source": [
    "df.isnull().sum().sort_values(ascending=False).head(10)"
   ]
  },
  {
   "cell_type": "code",
   "execution_count": 13,
   "id": "cabba89d-87a4-4ca2-b3cc-804466a09db7",
   "metadata": {
    "tags": []
   },
   "outputs": [],
   "source": [
    "df.dropna(inplace=True)"
   ]
  },
  {
   "cell_type": "markdown",
   "id": "1794a68d-312b-4e3d-8eb0-17a3a28bcee9",
   "metadata": {},
   "source": [
    "----"
   ]
  },
  {
   "cell_type": "code",
   "execution_count": null,
   "id": "94ce8467-09d7-4616-976c-1b937513ca31",
   "metadata": {
    "tags": []
   },
   "outputs": [],
   "source": [
    "sns.pairplot(df,hue='Target')"
   ]
  },
  {
   "cell_type": "code",
   "execution_count": 620,
   "id": "5af156b7-1055-4f71-8ee3-ac4bfc9c96e1",
   "metadata": {
    "tags": []
   },
   "outputs": [
    {
     "name": "stdout",
     "output_type": "stream",
     "text": [
      "0\n",
      "0\n",
      "2575\n",
      "1473\n"
     ]
    }
   ],
   "source": [
    "print((df['#_enq_3mnths'] < df['#_hle_enq_3mnths']).sum())\n",
    "print((df['#_enq_12mnths'] < df['#_hle_enq_12mnths']).sum())\n",
    "print((df['#_enq_3mnths'] == df['#_hle_enq_3mnths']).sum())\n",
    "print((df['#_enq_12mnths'] == df['#_hle_enq_12mnths']).sum())"
   ]
  },
  {
   "cell_type": "code",
   "execution_count": 621,
   "id": "31e7c863-28c8-45c4-adcc-74ab22307c51",
   "metadata": {
    "tags": []
   },
   "outputs": [
    {
     "data": {
      "text/html": [
       "<div>\n",
       "<style scoped>\n",
       "    .dataframe tbody tr th:only-of-type {\n",
       "        vertical-align: middle;\n",
       "    }\n",
       "\n",
       "    .dataframe tbody tr th {\n",
       "        vertical-align: top;\n",
       "    }\n",
       "\n",
       "    .dataframe thead th {\n",
       "        text-align: right;\n",
       "    }\n",
       "</style>\n",
       "<table border=\"1\" class=\"dataframe\">\n",
       "  <thead>\n",
       "    <tr style=\"text-align: right;\">\n",
       "      <th></th>\n",
       "      <th></th>\n",
       "      <th>Proportion of defaults</th>\n",
       "    </tr>\n",
       "    <tr>\n",
       "      <th>Customer_type</th>\n",
       "      <th>#_defaults_3mnths</th>\n",
       "      <th></th>\n",
       "    </tr>\n",
       "  </thead>\n",
       "  <tbody>\n",
       "    <tr>\n",
       "      <th rowspan=\"4\" valign=\"top\">NON EARNING</th>\n",
       "      <th>0</th>\n",
       "      <td>0.826087</td>\n",
       "    </tr>\n",
       "    <tr>\n",
       "      <th>1</th>\n",
       "      <td>0.086957</td>\n",
       "    </tr>\n",
       "    <tr>\n",
       "      <th>2</th>\n",
       "      <td>0.043478</td>\n",
       "    </tr>\n",
       "    <tr>\n",
       "      <th>6</th>\n",
       "      <td>0.043478</td>\n",
       "    </tr>\n",
       "    <tr>\n",
       "      <th rowspan=\"8\" valign=\"top\">SALARIED</th>\n",
       "      <th>0</th>\n",
       "      <td>0.882422</td>\n",
       "    </tr>\n",
       "    <tr>\n",
       "      <th>1</th>\n",
       "      <td>0.052322</td>\n",
       "    </tr>\n",
       "    <tr>\n",
       "      <th>6</th>\n",
       "      <td>0.017637</td>\n",
       "    </tr>\n",
       "    <tr>\n",
       "      <th>2</th>\n",
       "      <td>0.017637</td>\n",
       "    </tr>\n",
       "    <tr>\n",
       "      <th>3</th>\n",
       "      <td>0.015873</td>\n",
       "    </tr>\n",
       "    <tr>\n",
       "      <th>5</th>\n",
       "      <td>0.007643</td>\n",
       "    </tr>\n",
       "    <tr>\n",
       "      <th>4</th>\n",
       "      <td>0.003527</td>\n",
       "    </tr>\n",
       "    <tr>\n",
       "      <th>7</th>\n",
       "      <td>0.002939</td>\n",
       "    </tr>\n",
       "    <tr>\n",
       "      <th rowspan=\"8\" valign=\"top\">SELF EMPLOYED</th>\n",
       "      <th>0</th>\n",
       "      <td>0.835550</td>\n",
       "    </tr>\n",
       "    <tr>\n",
       "      <th>1</th>\n",
       "      <td>0.074911</td>\n",
       "    </tr>\n",
       "    <tr>\n",
       "      <th>2</th>\n",
       "      <td>0.030585</td>\n",
       "    </tr>\n",
       "    <tr>\n",
       "      <th>6</th>\n",
       "      <td>0.024379</td>\n",
       "    </tr>\n",
       "    <tr>\n",
       "      <th>3</th>\n",
       "      <td>0.017287</td>\n",
       "    </tr>\n",
       "    <tr>\n",
       "      <th>5</th>\n",
       "      <td>0.007979</td>\n",
       "    </tr>\n",
       "    <tr>\n",
       "      <th>4</th>\n",
       "      <td>0.004876</td>\n",
       "    </tr>\n",
       "    <tr>\n",
       "      <th>7</th>\n",
       "      <td>0.004433</td>\n",
       "    </tr>\n",
       "  </tbody>\n",
       "</table>\n",
       "</div>"
      ],
      "text/plain": [
       "                                 Proportion of defaults\n",
       "Customer_type #_defaults_3mnths                        \n",
       "NON EARNING   0                                0.826087\n",
       "              1                                0.086957\n",
       "              2                                0.043478\n",
       "              6                                0.043478\n",
       "SALARIED      0                                0.882422\n",
       "              1                                0.052322\n",
       "              6                                0.017637\n",
       "              2                                0.017637\n",
       "              3                                0.015873\n",
       "              5                                0.007643\n",
       "              4                                0.003527\n",
       "              7                                0.002939\n",
       "SELF EMPLOYED 0                                0.835550\n",
       "              1                                0.074911\n",
       "              2                                0.030585\n",
       "              6                                0.024379\n",
       "              3                                0.017287\n",
       "              5                                0.007979\n",
       "              4                                0.004876\n",
       "              7                                0.004433"
      ]
     },
     "execution_count": 621,
     "metadata": {},
     "output_type": "execute_result"
    }
   ],
   "source": [
    "pd.DataFrame(df.groupby('Customer_type')[['#_defaults_3mnths']].value_counts(normalize=True)).rename(columns={0:'Proportion of defaults'})"
   ]
  },
  {
   "cell_type": "code",
   "execution_count": 622,
   "id": "14643637-8139-44e0-9065-13261f7423f5",
   "metadata": {
    "tags": []
   },
   "outputs": [
    {
     "data": {
      "text/html": [
       "<div>\n",
       "<style scoped>\n",
       "    .dataframe tbody tr th:only-of-type {\n",
       "        vertical-align: middle;\n",
       "    }\n",
       "\n",
       "    .dataframe tbody tr th {\n",
       "        vertical-align: top;\n",
       "    }\n",
       "\n",
       "    .dataframe thead th {\n",
       "        text-align: right;\n",
       "    }\n",
       "</style>\n",
       "<table border=\"1\" class=\"dataframe\">\n",
       "  <thead>\n",
       "    <tr style=\"text-align: right;\">\n",
       "      <th></th>\n",
       "      <th>Gross_income</th>\n",
       "      <th>Net_income</th>\n",
       "      <th>Bank_balance</th>\n",
       "      <th>Debt_ratio</th>\n",
       "    </tr>\n",
       "    <tr>\n",
       "      <th>Customer_type</th>\n",
       "      <th></th>\n",
       "      <th></th>\n",
       "      <th></th>\n",
       "      <th></th>\n",
       "    </tr>\n",
       "  </thead>\n",
       "  <tbody>\n",
       "    <tr>\n",
       "      <th>NON EARNING</th>\n",
       "      <td>25235.130435</td>\n",
       "      <td>30519.710000</td>\n",
       "      <td>11147.000000</td>\n",
       "      <td>0.693913</td>\n",
       "    </tr>\n",
       "    <tr>\n",
       "      <th>SALARIED</th>\n",
       "      <td>60032.507554</td>\n",
       "      <td>42543.267625</td>\n",
       "      <td>47105.382682</td>\n",
       "      <td>452.230735</td>\n",
       "    </tr>\n",
       "    <tr>\n",
       "      <th>SELF EMPLOYED</th>\n",
       "      <td>108471.387775</td>\n",
       "      <td>108076.720143</td>\n",
       "      <td>214506.598219</td>\n",
       "      <td>14995.725940</td>\n",
       "    </tr>\n",
       "  </tbody>\n",
       "</table>\n",
       "</div>"
      ],
      "text/plain": [
       "               Gross_income    Net_income  Bank_balance   Debt_ratio\n",
       "Customer_type                                                       \n",
       "NON EARNING    25235.130435  30519.710000  11147.000000     0.693913\n",
       "SALARIED       60032.507554  42543.267625  47105.382682   452.230735\n",
       "SELF EMPLOYED 108471.387775 108076.720143 214506.598219 14995.725940"
      ]
     },
     "execution_count": 622,
     "metadata": {},
     "output_type": "execute_result"
    }
   ],
   "source": [
    "df.groupby(['Customer_type'])[['Gross_income','Net_income','Bank_balance','Debt_ratio']].mean()"
   ]
  },
  {
   "cell_type": "code",
   "execution_count": 623,
   "id": "74044f70-e702-4e40-8a16-b42495c68d69",
   "metadata": {
    "tags": []
   },
   "outputs": [],
   "source": [
    "income_diff = df.loc[df[(df['Gross_income'] < df['Net_income'])].index,['ID','Customer_type','Gross_income','Net_income']]"
   ]
  },
  {
   "cell_type": "code",
   "execution_count": 624,
   "id": "7fef27f1-9164-4c65-9450-217a637be4c7",
   "metadata": {
    "tags": []
   },
   "outputs": [
    {
     "data": {
      "text/html": [
       "<div>\n",
       "<style scoped>\n",
       "    .dataframe tbody tr th:only-of-type {\n",
       "        vertical-align: middle;\n",
       "    }\n",
       "\n",
       "    .dataframe tbody tr th {\n",
       "        vertical-align: top;\n",
       "    }\n",
       "\n",
       "    .dataframe thead th {\n",
       "        text-align: right;\n",
       "    }\n",
       "</style>\n",
       "<table border=\"1\" class=\"dataframe\">\n",
       "  <thead>\n",
       "    <tr style=\"text-align: right;\">\n",
       "      <th></th>\n",
       "      <th>ID</th>\n",
       "      <th>Customer_type</th>\n",
       "      <th>Gross_income</th>\n",
       "      <th>Net_income</th>\n",
       "    </tr>\n",
       "  </thead>\n",
       "  <tbody>\n",
       "    <tr>\n",
       "      <th>2</th>\n",
       "      <td>1841</td>\n",
       "      <td>SALARIED</td>\n",
       "      <td>20000.000000</td>\n",
       "      <td>45912.000000</td>\n",
       "    </tr>\n",
       "    <tr>\n",
       "      <th>3</th>\n",
       "      <td>1115</td>\n",
       "      <td>SALARIED</td>\n",
       "      <td>40000.000000</td>\n",
       "      <td>77440.000000</td>\n",
       "    </tr>\n",
       "    <tr>\n",
       "      <th>6</th>\n",
       "      <td>3602</td>\n",
       "      <td>SELF EMPLOYED</td>\n",
       "      <td>74455.580000</td>\n",
       "      <td>74455.583300</td>\n",
       "    </tr>\n",
       "    <tr>\n",
       "      <th>14</th>\n",
       "      <td>1277</td>\n",
       "      <td>SALARIED</td>\n",
       "      <td>31631.000000</td>\n",
       "      <td>41200.000000</td>\n",
       "    </tr>\n",
       "    <tr>\n",
       "      <th>15</th>\n",
       "      <td>2181</td>\n",
       "      <td>SELF EMPLOYED</td>\n",
       "      <td>66083.330000</td>\n",
       "      <td>66083.333300</td>\n",
       "    </tr>\n",
       "  </tbody>\n",
       "</table>\n",
       "</div>"
      ],
      "text/plain": [
       "      ID  Customer_type  Gross_income   Net_income\n",
       "2   1841       SALARIED  20000.000000 45912.000000\n",
       "3   1115       SALARIED  40000.000000 77440.000000\n",
       "6   3602  SELF EMPLOYED  74455.580000 74455.583300\n",
       "14  1277       SALARIED  31631.000000 41200.000000\n",
       "15  2181  SELF EMPLOYED  66083.330000 66083.333300"
      ]
     },
     "execution_count": 624,
     "metadata": {},
     "output_type": "execute_result"
    }
   ],
   "source": [
    "income_diff.head()"
   ]
  },
  {
   "cell_type": "code",
   "execution_count": 625,
   "id": "bf16f4a3-0153-4511-9243-515429e0ac3d",
   "metadata": {
    "tags": []
   },
   "outputs": [
    {
     "data": {
      "text/html": [
       "<div>\n",
       "<style scoped>\n",
       "    .dataframe tbody tr th:only-of-type {\n",
       "        vertical-align: middle;\n",
       "    }\n",
       "\n",
       "    .dataframe tbody tr th {\n",
       "        vertical-align: top;\n",
       "    }\n",
       "\n",
       "    .dataframe thead th {\n",
       "        text-align: right;\n",
       "    }\n",
       "</style>\n",
       "<table border=\"1\" class=\"dataframe\">\n",
       "  <thead>\n",
       "    <tr style=\"text-align: right;\">\n",
       "      <th></th>\n",
       "      <th>ID</th>\n",
       "      <th>Customer_type</th>\n",
       "      <th>Gross_income</th>\n",
       "      <th>Net_income</th>\n",
       "    </tr>\n",
       "  </thead>\n",
       "  <tbody>\n",
       "    <tr>\n",
       "      <th>333</th>\n",
       "      <td>1928</td>\n",
       "      <td>NON EARNING</td>\n",
       "      <td>30000.000000</td>\n",
       "      <td>30700.000000</td>\n",
       "    </tr>\n",
       "    <tr>\n",
       "      <th>409</th>\n",
       "      <td>2041</td>\n",
       "      <td>NON EARNING</td>\n",
       "      <td>63710.000000</td>\n",
       "      <td>69973.330000</td>\n",
       "    </tr>\n",
       "    <tr>\n",
       "      <th>1171</th>\n",
       "      <td>2745</td>\n",
       "      <td>NON EARNING</td>\n",
       "      <td>11173.000000</td>\n",
       "      <td>14252.000000</td>\n",
       "    </tr>\n",
       "    <tr>\n",
       "      <th>2310</th>\n",
       "      <td>2157</td>\n",
       "      <td>NON EARNING</td>\n",
       "      <td>20000.000000</td>\n",
       "      <td>40000.000000</td>\n",
       "    </tr>\n",
       "    <tr>\n",
       "      <th>2470</th>\n",
       "      <td>2031</td>\n",
       "      <td>NON EARNING</td>\n",
       "      <td>17000.000000</td>\n",
       "      <td>18000.000000</td>\n",
       "    </tr>\n",
       "    <tr>\n",
       "      <th>2493</th>\n",
       "      <td>1010</td>\n",
       "      <td>NON EARNING</td>\n",
       "      <td>1.000000</td>\n",
       "      <td>91234.000000</td>\n",
       "    </tr>\n",
       "    <tr>\n",
       "      <th>3023</th>\n",
       "      <td>2040</td>\n",
       "      <td>NON EARNING</td>\n",
       "      <td>26433.330000</td>\n",
       "      <td>26433.333300</td>\n",
       "    </tr>\n",
       "    <tr>\n",
       "      <th>3053</th>\n",
       "      <td>2081</td>\n",
       "      <td>NON EARNING</td>\n",
       "      <td>37566.000000</td>\n",
       "      <td>50359.000000</td>\n",
       "    </tr>\n",
       "  </tbody>\n",
       "</table>\n",
       "</div>"
      ],
      "text/plain": [
       "        ID Customer_type  Gross_income   Net_income\n",
       "333   1928   NON EARNING  30000.000000 30700.000000\n",
       "409   2041   NON EARNING  63710.000000 69973.330000\n",
       "1171  2745   NON EARNING  11173.000000 14252.000000\n",
       "2310  2157   NON EARNING  20000.000000 40000.000000\n",
       "2470  2031   NON EARNING  17000.000000 18000.000000\n",
       "2493  1010   NON EARNING      1.000000 91234.000000\n",
       "3023  2040   NON EARNING  26433.330000 26433.333300\n",
       "3053  2081   NON EARNING  37566.000000 50359.000000"
      ]
     },
     "execution_count": 625,
     "metadata": {},
     "output_type": "execute_result"
    }
   ],
   "source": [
    "income_diff.loc[income_diff['Customer_type'] == 'NON EARNING',:]"
   ]
  },
  {
   "cell_type": "code",
   "execution_count": 626,
   "id": "8b747f17-9e78-40f3-bf44-b5e9c4981f35",
   "metadata": {
    "tags": []
   },
   "outputs": [
    {
     "data": {
      "text/plain": [
       "Customer_type\n",
       "NON EARNING        8\n",
       "SALARIED         798\n",
       "SELF EMPLOYED    783\n",
       "dtype: int64"
      ]
     },
     "execution_count": 626,
     "metadata": {},
     "output_type": "execute_result"
    }
   ],
   "source": [
    "income_diff.groupby('Customer_type').size()"
   ]
  },
  {
   "cell_type": "code",
   "execution_count": 643,
   "id": "d96fe2a8-23f1-4cf1-8139-1f614708acdc",
   "metadata": {
    "tags": []
   },
   "outputs": [
    {
     "data": {
      "text/plain": [
       "<Axes: xlabel='Age', ylabel='Count'>"
      ]
     },
     "execution_count": 643,
     "metadata": {},
     "output_type": "execute_result"
    },
    {
     "data": {
      "image/png": "[encoded data removed]",
      "text/plain": [
       "<Figure size 1170x827 with 1 Axes>"
      ]
     },
     "metadata": {},
     "output_type": "display_data"
    }
   ],
   "source": [
    "sns.histplot(x='Age',hue='Target',data=df)"
   ]
  },
  {
   "cell_type": "code",
   "execution_count": 644,
   "id": "f61d66a2-c173-4e8f-a3f0-96c8a718c291",
   "metadata": {
    "tags": []
   },
   "outputs": [
    {
     "data": {
      "text/plain": [
       "<Axes: xlabel='Months_in_city', ylabel='Count'>"
      ]
     },
     "execution_count": 644,
     "metadata": {},
     "output_type": "execute_result"
    },
    {
     "data": {
      "image/png": "[encoded data removed]",
      "text/plain": [
       "<Figure size 1170x827 with 1 Axes>"
      ]
     },
     "metadata": {},
     "output_type": "display_data"
    }
   ],
   "source": [
    "sns.histplot(x='Months_in_city',hue='Target',data=df)"
   ]
  },
  {
   "cell_type": "code",
   "execution_count": null,
   "id": "8c6f9497-d3be-43ec-904f-436306faa608",
   "metadata": {
    "tags": []
   },
   "outputs": [],
   "source": [
    "sns.histplot(x='Debt_ratio',hue='Target',data=df)"
   ]
  },
  {
   "cell_type": "code",
   "execution_count": 648,
   "id": "8641b919-e0e0-4ccb-9b69-5343c644edf5",
   "metadata": {
    "tags": []
   },
   "outputs": [
    {
     "data": {
      "text/plain": [
       "<Axes: xlabel='days_last_enq', ylabel='Count'>"
      ]
     },
     "execution_count": 648,
     "metadata": {},
     "output_type": "execute_result"
    },
    {
     "data": {
      "image/png": "[encoded data removed]",
      "text/plain": [
       "<Figure size 1170x827 with 1 Axes>"
      ]
     },
     "metadata": {},
     "output_type": "display_data"
    }
   ],
   "source": [
    "sns.histplot(x='days_last_enq',hue='Target',data=df)"
   ]
  },
  {
   "cell_type": "code",
   "execution_count": 649,
   "id": "73d240c1-771d-4be0-91eb-9f979c3ffa0a",
   "metadata": {
    "tags": []
   },
   "outputs": [
    {
     "data": {
      "text/plain": [
       "<Axes: xlabel='days_hl_last_enq', ylabel='Count'>"
      ]
     },
     "execution_count": 649,
     "metadata": {},
     "output_type": "execute_result"
    },
    {
     "data": {
      "image/png": "[encoded data removed]",
      "text/plain": [
       "<Figure size 1170x827 with 1 Axes>"
      ]
     },
     "metadata": {},
     "output_type": "display_data"
    }
   ],
   "source": [
    "sns.histplot(x='days_hl_last_enq',hue='Target',data=df)"
   ]
  },
  {
   "cell_type": "code",
   "execution_count": 650,
   "id": "8a62ba1b-9626-4aed-93a9-d73d6cccfc4f",
   "metadata": {
    "tags": []
   },
   "outputs": [
    {
     "data": {
      "text/plain": [
       "<Axes: xlabel='#_enq_3mnths', ylabel='Count'>"
      ]
     },
     "execution_count": 650,
     "metadata": {},
     "output_type": "execute_result"
    },
    {
     "data": {
      "image/png": "[encoded data removed]",
      "text/plain": [
       "<Figure size 1170x827 with 1 Axes>"
      ]
     },
     "metadata": {},
     "output_type": "display_data"
    }
   ],
   "source": [
    "sns.histplot(x='#_enq_3mnths',hue='Target',data=df)"
   ]
  },
  {
   "cell_type": "code",
   "execution_count": 652,
   "id": "76d73b40-6e0a-4ec4-8a04-b71df7babe5b",
   "metadata": {
    "tags": []
   },
   "outputs": [
    {
     "data": {
      "text/plain": [
       "<Axes: xlabel='#_enq_12mnths', ylabel='Count'>"
      ]
     },
     "execution_count": 652,
     "metadata": {},
     "output_type": "execute_result"
    },
    {
     "data": {
      "image/png": "[encoded data removed]",
      "text/plain": [
       "<Figure size 1170x827 with 1 Axes>"
      ]
     },
     "metadata": {},
     "output_type": "display_data"
    }
   ],
   "source": [
    "sns.histplot(x='#_enq_12mnths',hue='Target',data=df)"
   ]
  },
  {
   "cell_type": "code",
   "execution_count": 651,
   "id": "c52cbd17-fe10-4282-a1ed-a418ebcef81d",
   "metadata": {
    "tags": []
   },
   "outputs": [
    {
     "data": {
      "text/plain": [
       "<Axes: xlabel='#_hle_enq_3mnths', ylabel='Count'>"
      ]
     },
     "execution_count": 651,
     "metadata": {},
     "output_type": "execute_result"
    },
    {
     "data": {
      "image/png": "[encoded data removed]",
      "text/plain": [
       "<Figure size 1170x827 with 1 Axes>"
      ]
     },
     "metadata": {},
     "output_type": "display_data"
    }
   ],
   "source": [
    "sns.histplot(x='#_hle_enq_3mnths',hue='Target',data=df)"
   ]
  },
  {
   "cell_type": "code",
   "execution_count": 653,
   "id": "c6a25559-12d4-49bb-8c44-0ead3da0c76c",
   "metadata": {
    "tags": []
   },
   "outputs": [
    {
     "data": {
      "text/plain": [
       "<Axes: xlabel='#_hle_enq_12mnths', ylabel='Count'>"
      ]
     },
     "execution_count": 653,
     "metadata": {},
     "output_type": "execute_result"
    },
    {
     "data": {
      "image/png": "[encoded data removed]",
      "text/plain": [
       "<Figure size 1170x827 with 1 Axes>"
      ]
     },
     "metadata": {},
     "output_type": "display_data"
    }
   ],
   "source": [
    "sns.histplot(x='#_hle_enq_12mnths',hue='Target',data=df)"
   ]
  },
  {
   "cell_type": "code",
   "execution_count": 654,
   "id": "262db104-48ef-4ce7-bf7c-24510180c5f9",
   "metadata": {
    "tags": []
   },
   "outputs": [
    {
     "data": {
      "text/plain": [
       "<Axes: xlabel='Tot_accounts', ylabel='Count'>"
      ]
     },
     "execution_count": 654,
     "metadata": {},
     "output_type": "execute_result"
    },
    {
     "data": {
      "image/png": "[encoded data removed]",
      "text/plain": [
       "<Figure size 1170x827 with 1 Axes>"
      ]
     },
     "metadata": {},
     "output_type": "display_data"
    }
   ],
   "source": [
    "sns.histplot(x='Tot_accounts',hue='Target',data=df)"
   ]
  },
  {
   "cell_type": "code",
   "execution_count": 655,
   "id": "53480961-74e2-4568-873e-d7d9016ba730",
   "metadata": {
    "tags": []
   },
   "outputs": [
    {
     "data": {
      "text/plain": [
       "<Axes: xlabel='Tot_hle_accounts', ylabel='Count'>"
      ]
     },
     "execution_count": 655,
     "metadata": {},
     "output_type": "execute_result"
    },
    {
     "data": {
      "image/png": "[encoded data removed]",
      "text/plain": [
       "<Figure size 1170x827 with 1 Axes>"
      ]
     },
     "metadata": {},
     "output_type": "display_data"
    }
   ],
   "source": [
    "sns.histplot(x='Tot_hle_accounts',hue='Target',data=df)"
   ]
  },
  {
   "cell_type": "code",
   "execution_count": 656,
   "id": "b3791fdb-9b11-4735-80f6-ece36eb5afef",
   "metadata": {
    "tags": []
   },
   "outputs": [
    {
     "data": {
      "text/plain": [
       "<Axes: xlabel='Tot_unsecured_loans', ylabel='Count'>"
      ]
     },
     "execution_count": 656,
     "metadata": {},
     "output_type": "execute_result"
    },
    {
     "data": {
      "image/png": "[encoded data removed]",
      "text/plain": [
       "<Figure size 1170x827 with 1 Axes>"
      ]
     },
     "metadata": {},
     "output_type": "display_data"
    }
   ],
   "source": [
    "sns.histplot(x='Tot_unsecured_loans',hue='Target',data=df)"
   ]
  },
  {
   "cell_type": "code",
   "execution_count": 658,
   "id": "699ff525-ed5d-4e65-af0f-28558315308d",
   "metadata": {
    "tags": []
   },
   "outputs": [
    {
     "data": {
      "text/plain": [
       "<Axes: xlabel='Tot_live_unsecuredloans', ylabel='Count'>"
      ]
     },
     "execution_count": 658,
     "metadata": {},
     "output_type": "execute_result"
    },
    {
     "data": {
      "image/png": "[encoded data removed]",
      "text/plain": [
       "<Figure size 1170x827 with 1 Axes>"
      ]
     },
     "metadata": {},
     "output_type": "display_data"
    }
   ],
   "source": [
    "sns.histplot(x='Tot_live_unsecuredloans',hue='Target',data=df)"
   ]
  },
  {
   "cell_type": "code",
   "execution_count": 660,
   "id": "785bf7e8-ddba-427b-aab2-8cac51ab9d51",
   "metadata": {
    "tags": []
   },
   "outputs": [
    {
     "data": {
      "text/plain": [
       "<Axes: xlabel='Tot_live_loans', ylabel='Count'>"
      ]
     },
     "execution_count": 660,
     "metadata": {},
     "output_type": "execute_result"
    },
    {
     "data": {
      "image/png": "[encoded data removed]",
      "text/plain": [
       "<Figure size 1170x827 with 1 Axes>"
      ]
     },
     "metadata": {},
     "output_type": "display_data"
    }
   ],
   "source": [
    "sns.histplot(x='Tot_live_loans',hue='Target',data=df)"
   ]
  },
  {
   "cell_type": "code",
   "execution_count": 661,
   "id": "3066bc59-deff-4351-b3ac-8fa807e23662",
   "metadata": {
    "tags": []
   },
   "outputs": [
    {
     "data": {
      "text/plain": [
       "<Axes: xlabel='Tot_live_homeloans', ylabel='Count'>"
      ]
     },
     "execution_count": 661,
     "metadata": {},
     "output_type": "execute_result"
    },
    {
     "data": {
      "image/png": "[encoded data removed]",
      "text/plain": [
       "<Figure size 1170x827 with 1 Axes>"
      ]
     },
     "metadata": {},
     "output_type": "display_data"
    }
   ],
   "source": [
    "sns.histplot(x='Tot_live_homeloans',hue='Target',data=df)"
   ]
  },
  {
   "cell_type": "code",
   "execution_count": 662,
   "id": "4da3661f-2384-4b37-a021-cb3e12d6ce72",
   "metadata": {
    "tags": []
   },
   "outputs": [
    {
     "data": {
      "text/plain": [
       "<Axes: xlabel='Avg_days_in_debt', ylabel='Count'>"
      ]
     },
     "execution_count": 662,
     "metadata": {},
     "output_type": "execute_result"
    },
    {
     "data": {
      "image/png": "[encoded data removed]",
      "text/plain": [
       "<Figure size 1170x827 with 1 Axes>"
      ]
     },
     "metadata": {},
     "output_type": "display_data"
    }
   ],
   "source": [
    "sns.histplot(x='Avg_days_in_debt',hue='Target',data=df)"
   ]
  },
  {
   "cell_type": "code",
   "execution_count": 663,
   "id": "72412344-db7b-4886-90bc-aaf989d48930",
   "metadata": {
    "tags": []
   },
   "outputs": [
    {
     "data": {
      "text/plain": [
       "<Axes: xlabel='SEX', ylabel='count'>"
      ]
     },
     "execution_count": 663,
     "metadata": {},
     "output_type": "execute_result"
    },
    {
     "data": {
      "image/png": "[encoded data removed]",
      "text/plain": [
       "<Figure size 1170x827 with 1 Axes>"
      ]
     },
     "metadata": {},
     "output_type": "display_data"
    }
   ],
   "source": [
    "sns.countplot(x='SEX',data=df)"
   ]
  },
  {
   "cell_type": "code",
   "execution_count": 666,
   "id": "47d1aac6-2385-4d9e-88b8-d2796626a16a",
   "metadata": {
    "tags": []
   },
   "outputs": [
    {
     "data": {
      "text/plain": [
       "<Axes: xlabel='Customer_type', ylabel='Debt_ratio'>"
      ]
     },
     "execution_count": 666,
     "metadata": {},
     "output_type": "execute_result"
    },
    {
     "data": {
      "image/png": "[encoded data removed]",
      "text/plain": [
       "<Figure size 1170x827 with 1 Axes>"
      ]
     },
     "metadata": {},
     "output_type": "display_data"
    }
   ],
   "source": [
    "sns.scatterplot(x='Customer_type',y='Debt_ratio',data=df)"
   ]
  },
  {
   "cell_type": "code",
   "execution_count": 671,
   "id": "bc967b60-46ba-4b4f-ae44-0ca5c70010a8",
   "metadata": {
    "tags": []
   },
   "outputs": [
    {
     "data": {
      "text/plain": [
       "<Axes: xlabel='Marital_Status', ylabel='count'>"
      ]
     },
     "execution_count": 671,
     "metadata": {},
     "output_type": "execute_result"
    },
    {
     "data": {
      "image/png": "[encoded data removed]",
      "text/plain": [
       "<Figure size 1170x827 with 1 Axes>"
      ]
     },
     "metadata": {},
     "output_type": "display_data"
    }
   ],
   "source": [
    "sns.countplot(x='Marital_Status',hue='Target',data=df)"
   ]
  },
  {
   "cell_type": "code",
   "execution_count": 672,
   "id": "13f02c70-19a0-4aef-a701-16e04f41a18c",
   "metadata": {
    "tags": []
   },
   "outputs": [
    {
     "data": {
      "text/plain": [
       "<Axes: xlabel='Age', ylabel='Net_income'>"
      ]
     },
     "execution_count": 672,
     "metadata": {},
     "output_type": "execute_result"
    },
    {
     "data": {
      "image/png": "[encoded data removed]",
      "text/plain": [
       "<Figure size 1170x827 with 1 Axes>"
      ]
     },
     "metadata": {},
     "output_type": "display_data"
    }
   ],
   "source": [
    "sns.scatterplot(x='Age',y='Net_income',hue='Target',data=df)"
   ]
  },
  {
   "cell_type": "markdown",
   "id": "711635e0-dbb5-4d1b-b95e-551b0038d6bb",
   "metadata": {},
   "source": [
    "-----"
   ]
  },
  {
   "cell_type": "code",
   "execution_count": 627,
   "id": "f7e71e04-d7d0-4e4e-8d81-84bfd2e4eed2",
   "metadata": {
    "tags": []
   },
   "outputs": [
    {
     "data": {
      "text/plain": [
       "<Axes: xlabel='Customer_type', ylabel='count'>"
      ]
     },
     "execution_count": 627,
     "metadata": {},
     "output_type": "execute_result"
    },
    {
     "data": {
      "image/png": "[encoded data removed]",
      "text/plain": [
       "<Figure size 640x480 with 1 Axes>"
      ]
     },
     "metadata": {},
     "output_type": "display_data"
    }
   ],
   "source": [
    "sns.countplot(x='Customer_type',hue='Target',data=df)"
   ]
  },
  {
   "cell_type": "markdown",
   "id": "74d2c0e0-b93f-4c86-99ed-c07c93dacd12",
   "metadata": {},
   "source": [
    "-----"
   ]
  },
  {
   "cell_type": "code",
   "execution_count": 14,
   "id": "453d9a36-4e4d-46d6-a08c-c26aaf12ea87",
   "metadata": {
    "tags": []
   },
   "outputs": [],
   "source": [
    "dt = df.dtypes.to_frame()"
   ]
  },
  {
   "cell_type": "code",
   "execution_count": 15,
   "id": "cb3e9c35-e5cf-4711-baff-5b88b0eac8ae",
   "metadata": {
    "tags": []
   },
   "outputs": [],
   "source": [
    "non_obj = dt.loc[dt[0] != 'object',:].index.tolist()"
   ]
  },
  {
   "cell_type": "code",
   "execution_count": 16,
   "id": "2f9b21b8-b5d7-4a96-b321-002a70abdd7a",
   "metadata": {
    "tags": []
   },
   "outputs": [],
   "source": [
    "non_obj.remove('ID')\n",
    "non_obj.remove('Target')"
   ]
  },
  {
   "cell_type": "code",
   "execution_count": 17,
   "id": "51faa10a-1b8e-4088-aa3e-f942c92f2c72",
   "metadata": {
    "tags": []
   },
   "outputs": [],
   "source": [
    "for i in non_obj:\n",
    "    for ii in non_obj:\n",
    "        if ii != i:\n",
    "            df.loc[:,'{}/{}'.format(i,ii)] = df[i]/df[ii]\n",
    "        else:\n",
    "            continue"
   ]
  },
  {
   "cell_type": "code",
   "execution_count": 18,
   "id": "024021dc-455b-4d04-941e-8d5936d8e0cb",
   "metadata": {
    "tags": []
   },
   "outputs": [],
   "source": [
    "df.replace([np.inf, -np.inf], np.nan, inplace=True)"
   ]
  },
  {
   "cell_type": "code",
   "execution_count": 19,
   "id": "aee10bd4-da4d-475d-9448-9308f3405d84",
   "metadata": {
    "tags": []
   },
   "outputs": [],
   "source": [
    "df.fillna(0,inplace=True)"
   ]
  },
  {
   "cell_type": "code",
   "execution_count": 23,
   "id": "d3503ce0-1366-486d-b611-f3075c294aa7",
   "metadata": {
    "tags": []
   },
   "outputs": [
    {
     "data": {
      "text/plain": [
       "ID                           0\n",
       "Tot_accounts/Age             0\n",
       "Tot_accounts/Gross_income    0\n",
       "dtype: int64"
      ]
     },
     "execution_count": 23,
     "metadata": {},
     "output_type": "execute_result"
    }
   ],
   "source": [
    "df.isnull().sum().sort_values().head(3)"
   ]
  },
  {
   "cell_type": "code",
   "execution_count": 24,
   "id": "d75517fc-ae39-4b9b-9f3b-2595543ce300",
   "metadata": {
    "tags": []
   },
   "outputs": [
    {
     "data": {
      "text/plain": [
       "(3885, 791)"
      ]
     },
     "execution_count": 24,
     "metadata": {},
     "output_type": "execute_result"
    }
   ],
   "source": [
    "df.shape"
   ]
  },
  {
   "cell_type": "code",
   "execution_count": 25,
   "id": "1a83d8b0-7477-468e-bafc-86a5678d7ce7",
   "metadata": {
    "tags": []
   },
   "outputs": [],
   "source": [
    "dt = df.dtypes.to_frame()"
   ]
  },
  {
   "cell_type": "code",
   "execution_count": 26,
   "id": "d08d1dae-49c4-4bf5-bd92-e48f5db231cc",
   "metadata": {
    "tags": []
   },
   "outputs": [],
   "source": [
    "obj = dt.loc[dt[0] == 'object',:].index.tolist()"
   ]
  },
  {
   "cell_type": "code",
   "execution_count": 27,
   "id": "9ce74b8a-1bd2-4cbc-ba27-b5c63184138e",
   "metadata": {
    "tags": []
   },
   "outputs": [],
   "source": [
    "new_df = pd.get_dummies(df,columns=obj)"
   ]
  },
  {
   "cell_type": "code",
   "execution_count": 28,
   "id": "08c358f6-0b12-4915-ad75-8542271a29ec",
   "metadata": {
    "tags": []
   },
   "outputs": [],
   "source": [
    "x = new_df.drop(columns=['ID','Target'])\n",
    "y = new_df['Target']"
   ]
  },
  {
   "cell_type": "code",
   "execution_count": 29,
   "id": "ef87e300-6e37-4ecc-a199-e570075d5c4d",
   "metadata": {
    "tags": []
   },
   "outputs": [],
   "source": [
    "model_rf = RandomForestClassifier(criterion='gini',n_estimators=150,n_jobs=-1,max_features='auto')"
   ]
  },
  {
   "cell_type": "code",
   "execution_count": 30,
   "id": "c1713873-c87d-4d9d-ab62-f5257474dc07",
   "metadata": {
    "tags": []
   },
   "outputs": [
    {
     "data": {
      "text/html": [
       "<style>#sk-container-id-1 {color: black;background-color: white;}#sk-container-id-1 pre{padding: 0;}#sk-container-id-1 div.sk-toggleable {background-color: white;}#sk-container-id-1 label.sk-toggleable__label {cursor: pointer;display: block;width: 100%;margin-bottom: 0;padding: 0.3em;box-sizing: border-box;text-align: center;}#sk-container-id-1 label.sk-toggleable__label-arrow:before {content: \"▸\";float: left;margin-right: 0.25em;color: #696969;}#sk-container-id-1 label.sk-toggleable__label-arrow:hover:before {color: black;}#sk-container-id-1 div.sk-estimator:hover label.sk-toggleable__label-arrow:before {color: black;}#sk-container-id-1 div.sk-toggleable__content {max-height: 0;max-width: 0;overflow: hidden;text-align: left;background-color: #f0f8ff;}#sk-container-id-1 div.sk-toggleable__content pre {margin: 0.2em;color: black;border-radius: 0.25em;background-color: #f0f8ff;}#sk-container-id-1 input.sk-toggleable__control:checked~div.sk-toggleable__content {max-height: 200px;max-width: 100%;overflow: auto;}#sk-container-id-1 input.sk-toggleable__control:checked~label.sk-toggleable__label-arrow:before {content: \"▾\";}#sk-container-id-1 div.sk-estimator input.sk-toggleable__control:checked~label.sk-toggleable__label {background-color: #d4ebff;}#sk-container-id-1 div.sk-label input.sk-toggleable__control:checked~label.sk-toggleable__label {background-color: #d4ebff;}#sk-container-id-1 input.sk-hidden--visually {border: 0;clip: rect(1px 1px 1px 1px);clip: rect(1px, 1px, 1px, 1px);height: 1px;margin: -1px;overflow: hidden;padding: 0;position: absolute;width: 1px;}#sk-container-id-1 div.sk-estimator {font-family: monospace;background-color: #f0f8ff;border: 1px dotted black;border-radius: 0.25em;box-sizing: border-box;margin-bottom: 0.5em;}#sk-container-id-1 div.sk-estimator:hover {background-color: #d4ebff;}#sk-container-id-1 div.sk-parallel-item::after {content: \"\";width: 100%;border-bottom: 1px solid gray;flex-grow: 1;}#sk-container-id-1 div.sk-label:hover label.sk-toggleable__label {background-color: #d4ebff;}#sk-container-id-1 div.sk-serial::before {content: \"\";position: absolute;border-left: 1px solid gray;box-sizing: border-box;top: 0;bottom: 0;left: 50%;z-index: 0;}#sk-container-id-1 div.sk-serial {display: flex;flex-direction: column;align-items: center;background-color: white;padding-right: 0.2em;padding-left: 0.2em;position: relative;}#sk-container-id-1 div.sk-item {position: relative;z-index: 1;}#sk-container-id-1 div.sk-parallel {display: flex;align-items: stretch;justify-content: center;background-color: white;position: relative;}#sk-container-id-1 div.sk-item::before, #sk-container-id-1 div.sk-parallel-item::before {content: \"\";position: absolute;border-left: 1px solid gray;box-sizing: border-box;top: 0;bottom: 0;left: 50%;z-index: -1;}#sk-container-id-1 div.sk-parallel-item {display: flex;flex-direction: column;z-index: 1;position: relative;background-color: white;}#sk-container-id-1 div.sk-parallel-item:first-child::after {align-self: flex-end;width: 50%;}#sk-container-id-1 div.sk-parallel-item:last-child::after {align-self: flex-start;width: 50%;}#sk-container-id-1 div.sk-parallel-item:only-child::after {width: 0;}#sk-container-id-1 div.sk-dashed-wrapped {border: 1px dashed gray;margin: 0 0.4em 0.5em 0.4em;box-sizing: border-box;padding-bottom: 0.4em;background-color: white;}#sk-container-id-1 div.sk-label label {font-family: monospace;font-weight: bold;display: inline-block;line-height: 1.2em;}#sk-container-id-1 div.sk-label-container {text-align: center;}#sk-container-id-1 div.sk-container {/* jupyter's `normalize.less` sets `[hidden] { display: none; }` but bootstrap.min.css set `[hidden] { display: none !important; }` so we also need the `!important` here to be able to override the default hidden behavior on the sphinx rendered scikit-learn.org. See: https://github.com/scikit-learn/scikit-learn/issues/21755 */display: inline-block !important;position: relative;}#sk-container-id-1 div.sk-text-repr-fallback {display: none;}</style><div id=\"sk-container-id-1\" class=\"sk-top-container\"><div class=\"sk-text-repr-fallback\"><pre>RandomForestClassifier(max_features=&#x27;auto&#x27;, n_estimators=150, n_jobs=-1)</pre><b>In a Jupyter environment, please rerun this cell to show the HTML representation or trust the notebook. <br />On GitHub, the HTML representation is unable to render, please try loading this page with nbviewer.org.</b></div><div class=\"sk-container\" hidden><div class=\"sk-item\"><div class=\"sk-estimator sk-toggleable\"><input class=\"sk-toggleable__control sk-hidden--visually\" id=\"sk-estimator-id-1\" type=\"checkbox\" checked><label for=\"sk-estimator-id-1\" class=\"sk-toggleable__label sk-toggleable__label-arrow\">RandomForestClassifier</label><div class=\"sk-toggleable__content\"><pre>RandomForestClassifier(max_features=&#x27;auto&#x27;, n_estimators=150, n_jobs=-1)</pre></div></div></div></div></div>"
      ],
      "text/plain": [
       "RandomForestClassifier(max_features='auto', n_estimators=150, n_jobs=-1)"
      ]
     },
     "execution_count": 30,
     "metadata": {},
     "output_type": "execute_result"
    }
   ],
   "source": [
    "model_rf.fit(x,y)"
   ]
  },
  {
   "cell_type": "code",
   "execution_count": 31,
   "id": "8b955a5f-a652-46a9-ae5a-a3910f3bc741",
   "metadata": {
    "tags": []
   },
   "outputs": [],
   "source": [
    "rf_df = pd.DataFrame(model_rf.feature_importances_,index=model_rf.feature_names_in_)"
   ]
  },
  {
   "cell_type": "code",
   "execution_count": 196,
   "id": "bda6d39b-6b7b-4315-838e-a29ff32f4f0f",
   "metadata": {
    "tags": []
   },
   "outputs": [
    {
     "data": {
      "text/html": [
       "<div>\n",
       "<style scoped>\n",
       "    .dataframe tbody tr th:only-of-type {\n",
       "        vertical-align: middle;\n",
       "    }\n",
       "\n",
       "    .dataframe tbody tr th {\n",
       "        vertical-align: top;\n",
       "    }\n",
       "\n",
       "    .dataframe thead th {\n",
       "        text-align: right;\n",
       "    }\n",
       "</style>\n",
       "<table border=\"1\" class=\"dataframe\">\n",
       "  <thead>\n",
       "    <tr style=\"text-align: right;\">\n",
       "      <th></th>\n",
       "      <th>0</th>\n",
       "    </tr>\n",
       "  </thead>\n",
       "  <tbody>\n",
       "    <tr>\n",
       "      <th>#_enq_3mnths/Age</th>\n",
       "      <td>0.005</td>\n",
       "    </tr>\n",
       "    <tr>\n",
       "      <th>#_enq_12mnths/Age</th>\n",
       "      <td>0.004</td>\n",
       "    </tr>\n",
       "    <tr>\n",
       "      <th>Net_income/Bank_balance</th>\n",
       "      <td>0.004</td>\n",
       "    </tr>\n",
       "    <tr>\n",
       "      <th>days_hl_last_enq/days_last_enq</th>\n",
       "      <td>0.004</td>\n",
       "    </tr>\n",
       "    <tr>\n",
       "      <th>Tot_enq/Avg_days_in_debt</th>\n",
       "      <td>0.004</td>\n",
       "    </tr>\n",
       "    <tr>\n",
       "      <th>#_hle_enq_12mnths/Age</th>\n",
       "      <td>0.004</td>\n",
       "    </tr>\n",
       "    <tr>\n",
       "      <th>Bank_balance/Age</th>\n",
       "      <td>0.003</td>\n",
       "    </tr>\n",
       "    <tr>\n",
       "      <th>Age</th>\n",
       "      <td>0.003</td>\n",
       "    </tr>\n",
       "    <tr>\n",
       "      <th>Age/Bank_balance</th>\n",
       "      <td>0.003</td>\n",
       "    </tr>\n",
       "    <tr>\n",
       "      <th>#_enq_12mnths/Debt_ratio</th>\n",
       "      <td>0.003</td>\n",
       "    </tr>\n",
       "    <tr>\n",
       "      <th>Tot_enq/Tot_accounts</th>\n",
       "      <td>0.003</td>\n",
       "    </tr>\n",
       "    <tr>\n",
       "      <th>#_enq_12mnths</th>\n",
       "      <td>0.003</td>\n",
       "    </tr>\n",
       "    <tr>\n",
       "      <th>Debt_ratio/Bank_balance</th>\n",
       "      <td>0.003</td>\n",
       "    </tr>\n",
       "    <tr>\n",
       "      <th>#_enq_12mnths/Bank_balance</th>\n",
       "      <td>0.003</td>\n",
       "    </tr>\n",
       "    <tr>\n",
       "      <th>Months_in_city/Tot_enq</th>\n",
       "      <td>0.003</td>\n",
       "    </tr>\n",
       "    <tr>\n",
       "      <th>Tot_enq/Gross_income</th>\n",
       "      <td>0.003</td>\n",
       "    </tr>\n",
       "    <tr>\n",
       "      <th>Bank_balance/Gross_income</th>\n",
       "      <td>0.003</td>\n",
       "    </tr>\n",
       "    <tr>\n",
       "      <th>Tot_unsecured_outstanding_amt/#_defaults_3mnths</th>\n",
       "      <td>0.003</td>\n",
       "    </tr>\n",
       "    <tr>\n",
       "      <th>Months_in_city/Tot_accounts</th>\n",
       "      <td>0.003</td>\n",
       "    </tr>\n",
       "    <tr>\n",
       "      <th>Tot_enq/Net_income</th>\n",
       "      <td>0.003</td>\n",
       "    </tr>\n",
       "    <tr>\n",
       "      <th>days_last_enq/Bank_balance</th>\n",
       "      <td>0.003</td>\n",
       "    </tr>\n",
       "    <tr>\n",
       "      <th>#_enq_12mnths/#_hle_enq_3mnths</th>\n",
       "      <td>0.003</td>\n",
       "    </tr>\n",
       "    <tr>\n",
       "      <th>Bank_balance/Net_income</th>\n",
       "      <td>0.003</td>\n",
       "    </tr>\n",
       "    <tr>\n",
       "      <th>Months_in_current_job/Bank_balance</th>\n",
       "      <td>0.003</td>\n",
       "    </tr>\n",
       "    <tr>\n",
       "      <th>Gross_income/Bank_balance</th>\n",
       "      <td>0.003</td>\n",
       "    </tr>\n",
       "    <tr>\n",
       "      <th>days_last_acc_open/Bank_balance</th>\n",
       "      <td>0.003</td>\n",
       "    </tr>\n",
       "    <tr>\n",
       "      <th>#_enq_12mnths/Tot_accounts</th>\n",
       "      <td>0.003</td>\n",
       "    </tr>\n",
       "    <tr>\n",
       "      <th>Gross_income/Tot_accounts</th>\n",
       "      <td>0.003</td>\n",
       "    </tr>\n",
       "    <tr>\n",
       "      <th>Gross_income/days_last_enq</th>\n",
       "      <td>0.003</td>\n",
       "    </tr>\n",
       "    <tr>\n",
       "      <th>Bank_balance/days_last_acc_open</th>\n",
       "      <td>0.003</td>\n",
       "    </tr>\n",
       "    <tr>\n",
       "      <th>Bank_balance/Tot_enq</th>\n",
       "      <td>0.003</td>\n",
       "    </tr>\n",
       "    <tr>\n",
       "      <th>Months_in_city/Age</th>\n",
       "      <td>0.003</td>\n",
       "    </tr>\n",
       "    <tr>\n",
       "      <th>Tot_enq/Bank_balance</th>\n",
       "      <td>0.003</td>\n",
       "    </tr>\n",
       "    <tr>\n",
       "      <th>Age/Tot_enq</th>\n",
       "      <td>0.003</td>\n",
       "    </tr>\n",
       "    <tr>\n",
       "      <th>#_enq_12mnths/days_last_enq</th>\n",
       "      <td>0.003</td>\n",
       "    </tr>\n",
       "    <tr>\n",
       "      <th>Months_in_city/Bank_balance</th>\n",
       "      <td>0.003</td>\n",
       "    </tr>\n",
       "    <tr>\n",
       "      <th>days_last_acc_open/Net_income</th>\n",
       "      <td>0.003</td>\n",
       "    </tr>\n",
       "    <tr>\n",
       "      <th>Months_in_city/#_enq_12mnths</th>\n",
       "      <td>0.003</td>\n",
       "    </tr>\n",
       "    <tr>\n",
       "      <th>Bank_balance</th>\n",
       "      <td>0.003</td>\n",
       "    </tr>\n",
       "    <tr>\n",
       "      <th>Net_income/days_last_acc_open</th>\n",
       "      <td>0.003</td>\n",
       "    </tr>\n",
       "    <tr>\n",
       "      <th>#_enq_12mnths/Avg_days_in_debt</th>\n",
       "      <td>0.003</td>\n",
       "    </tr>\n",
       "    <tr>\n",
       "      <th>days_hl_last_enq/#_enq_3mnths</th>\n",
       "      <td>0.002</td>\n",
       "    </tr>\n",
       "    <tr>\n",
       "      <th>#_defaults_12mnths/Bank_balance</th>\n",
       "      <td>0.002</td>\n",
       "    </tr>\n",
       "    <tr>\n",
       "      <th>Tot_live_loans/Avg_days_in_debt</th>\n",
       "      <td>0.002</td>\n",
       "    </tr>\n",
       "    <tr>\n",
       "      <th>Bank_balance/Months_in_city</th>\n",
       "      <td>0.002</td>\n",
       "    </tr>\n",
       "    <tr>\n",
       "      <th>days_last_enq/Tot_enq</th>\n",
       "      <td>0.002</td>\n",
       "    </tr>\n",
       "    <tr>\n",
       "      <th>Tot_amt_outstanding/Bank_balance</th>\n",
       "      <td>0.002</td>\n",
       "    </tr>\n",
       "    <tr>\n",
       "      <th>#_enq_12mnths/Gross_income</th>\n",
       "      <td>0.002</td>\n",
       "    </tr>\n",
       "    <tr>\n",
       "      <th>Age/Net_income</th>\n",
       "      <td>0.002</td>\n",
       "    </tr>\n",
       "    <tr>\n",
       "      <th>Tot_accounts/Age</th>\n",
       "      <td>0.002</td>\n",
       "    </tr>\n",
       "  </tbody>\n",
       "</table>\n",
       "</div>"
      ],
      "text/plain": [
       "                                                    0\n",
       "#_enq_3mnths/Age                                0.005\n",
       "#_enq_12mnths/Age                               0.004\n",
       "Net_income/Bank_balance                         0.004\n",
       "days_hl_last_enq/days_last_enq                  0.004\n",
       "Tot_enq/Avg_days_in_debt                        0.004\n",
       "#_hle_enq_12mnths/Age                           0.004\n",
       "Bank_balance/Age                                0.003\n",
       "Age                                             0.003\n",
       "Age/Bank_balance                                0.003\n",
       "#_enq_12mnths/Debt_ratio                        0.003\n",
       "Tot_enq/Tot_accounts                            0.003\n",
       "#_enq_12mnths                                   0.003\n",
       "Debt_ratio/Bank_balance                         0.003\n",
       "#_enq_12mnths/Bank_balance                      0.003\n",
       "Months_in_city/Tot_enq                          0.003\n",
       "Tot_enq/Gross_income                            0.003\n",
       "Bank_balance/Gross_income                       0.003\n",
       "Tot_unsecured_outstanding_amt/#_defaults_3mnths 0.003\n",
       "Months_in_city/Tot_accounts                     0.003\n",
       "Tot_enq/Net_income                              0.003\n",
       "days_last_enq/Bank_balance                      0.003\n",
       "#_enq_12mnths/#_hle_enq_3mnths                  0.003\n",
       "Bank_balance/Net_income                         0.003\n",
       "Months_in_current_job/Bank_balance              0.003\n",
       "Gross_income/Bank_balance                       0.003\n",
       "days_last_acc_open/Bank_balance                 0.003\n",
       "#_enq_12mnths/Tot_accounts                      0.003\n",
       "Gross_income/Tot_accounts                       0.003\n",
       "Gross_income/days_last_enq                      0.003\n",
       "Bank_balance/days_last_acc_open                 0.003\n",
       "Bank_balance/Tot_enq                            0.003\n",
       "Months_in_city/Age                              0.003\n",
       "Tot_enq/Bank_balance                            0.003\n",
       "Age/Tot_enq                                     0.003\n",
       "#_enq_12mnths/days_last_enq                     0.003\n",
       "Months_in_city/Bank_balance                     0.003\n",
       "days_last_acc_open/Net_income                   0.003\n",
       "Months_in_city/#_enq_12mnths                    0.003\n",
       "Bank_balance                                    0.003\n",
       "Net_income/days_last_acc_open                   0.003\n",
       "#_enq_12mnths/Avg_days_in_debt                  0.003\n",
       "days_hl_last_enq/#_enq_3mnths                   0.002\n",
       "#_defaults_12mnths/Bank_balance                 0.002\n",
       "Tot_live_loans/Avg_days_in_debt                 0.002\n",
       "Bank_balance/Months_in_city                     0.002\n",
       "days_last_enq/Tot_enq                           0.002\n",
       "Tot_amt_outstanding/Bank_balance                0.002\n",
       "#_enq_12mnths/Gross_income                      0.002\n",
       "Age/Net_income                                  0.002\n",
       "Tot_accounts/Age                                0.002"
      ]
     },
     "execution_count": 196,
     "metadata": {},
     "output_type": "execute_result"
    }
   ],
   "source": [
    "rf_df.sort_values(by=0,ascending=False).head(50)"
   ]
  },
  {
   "cell_type": "code",
   "execution_count": 206,
   "id": "bc388d9a-ed8c-4bb7-87e5-411901a69048",
   "metadata": {
    "tags": []
   },
   "outputs": [],
   "source": [
    "features_rf = list(set(rf_df.sort_values(by=0,ascending=False).head(30).index))"
   ]
  },
  {
   "cell_type": "code",
   "execution_count": 207,
   "id": "3cb39afb-e058-4989-98a6-a0e08f3459e9",
   "metadata": {
    "tags": []
   },
   "outputs": [
    {
     "data": {
      "text/plain": [
       "['Months_in_city/Tot_enq',\n",
       " 'Bank_balance/Net_income',\n",
       " 'Debt_ratio/Bank_balance',\n",
       " '#_enq_12mnths/#_hle_enq_3mnths',\n",
       " 'days_last_enq/Bank_balance',\n",
       " 'Bank_balance/Gross_income',\n",
       " 'Gross_income/days_last_enq',\n",
       " 'Tot_enq/Net_income',\n",
       " '#_hle_enq_12mnths/Age',\n",
       " 'Months_in_city/Tot_accounts',\n",
       " '#_enq_12mnths/Debt_ratio',\n",
       " '#_enq_12mnths/Tot_accounts',\n",
       " 'Age',\n",
       " 'Tot_enq/Avg_days_in_debt',\n",
       " 'Tot_enq/Gross_income',\n",
       " 'Bank_balance/days_last_acc_open',\n",
       " 'days_hl_last_enq/days_last_enq',\n",
       " 'Bank_balance/Age',\n",
       " 'Net_income/Bank_balance',\n",
       " 'Gross_income/Bank_balance',\n",
       " '#_enq_12mnths',\n",
       " 'Tot_unsecured_outstanding_amt/#_defaults_3mnths',\n",
       " 'days_last_acc_open/Bank_balance',\n",
       " 'Months_in_current_job/Bank_balance',\n",
       " '#_enq_3mnths/Age',\n",
       " 'Gross_income/Tot_accounts',\n",
       " '#_enq_12mnths/Age',\n",
       " 'Age/Bank_balance',\n",
       " '#_enq_12mnths/Bank_balance',\n",
       " 'Tot_enq/Tot_accounts']"
      ]
     },
     "execution_count": 207,
     "metadata": {},
     "output_type": "execute_result"
    }
   ],
   "source": [
    "features_rf"
   ]
  },
  {
   "cell_type": "code",
   "execution_count": 37,
   "id": "e6d0312c-de0d-4267-a859-724731564ce4",
   "metadata": {},
   "outputs": [],
   "source": [
    "dt = df.dtypes.to_frame()"
   ]
  },
  {
   "cell_type": "code",
   "execution_count": 38,
   "id": "e0a36ef1-65ed-44f0-945b-63f70e6788c8",
   "metadata": {
    "tags": []
   },
   "outputs": [],
   "source": [
    "non_obj = dt.loc[dt[0] != 'object',:].index.tolist()"
   ]
  },
  {
   "cell_type": "code",
   "execution_count": 39,
   "id": "26e14d63-b824-4367-9791-91e0a7d29c90",
   "metadata": {
    "tags": []
   },
   "outputs": [],
   "source": [
    "non_obj.remove('ID')\n",
    "non_obj.remove('Target')"
   ]
  },
  {
   "cell_type": "code",
   "execution_count": 40,
   "id": "7dea8405-50bf-4f25-b9c8-f734e19ffd3e",
   "metadata": {
    "tags": []
   },
   "outputs": [],
   "source": [
    "non_obj_iv = pd.DataFrame()\n",
    "for i in non_obj:\n",
    "    temp = df.loc[:,[i,'Target']]\n",
    "    temp['qcut'] = pd.qcut(temp[i],10,duplicates='drop')\n",
    "    res = pd.crosstab(temp['qcut'],temp['Target'],normalize='columns').assign(woe=lambda x:np.log(x[0]/x[1])).assign(iv=lambda x:np.sum(x['woe']*(x[0]-x[1])))\n",
    "    res['name'] = i\n",
    "    non_obj_iv = pd.concat([non_obj_iv,res])"
   ]
  },
  {
   "cell_type": "code",
   "execution_count": 41,
   "id": "f266edec-e536-48fb-875a-8bbce4c701ec",
   "metadata": {
    "tags": []
   },
   "outputs": [],
   "source": [
    "obj = dt.loc[dt[0] == 'object'][0].index.tolist()"
   ]
  },
  {
   "cell_type": "code",
   "execution_count": 42,
   "id": "505b92f8-6294-4607-b82f-9ffc24c463ff",
   "metadata": {
    "tags": []
   },
   "outputs": [],
   "source": [
    "obj_iv = pd.DataFrame()\n",
    "for i in obj:\n",
    "    res = pd.crosstab(df[i],df['Target'],normalize='columns').assign(woe=lambda x:np.log(x[0]/x[1])).assign(iv=lambda x:np.sum(x['woe']*(x[0]-x[1])))\n",
    "    res['name'] = i\n",
    "    obj_iv = pd.concat([obj_iv,res])"
   ]
  },
  {
   "cell_type": "code",
   "execution_count": 43,
   "id": "766ddbca-f49e-4e42-9f09-3254a9a065de",
   "metadata": {
    "tags": []
   },
   "outputs": [],
   "source": [
    "iv = pd.concat([non_obj_iv,obj_iv])"
   ]
  },
  {
   "cell_type": "code",
   "execution_count": 44,
   "id": "bc72684d-ed26-4de5-882a-8a8b125159ce",
   "metadata": {
    "tags": []
   },
   "outputs": [
    {
     "data": {
      "text/html": [
       "<div>\n",
       "<style scoped>\n",
       "    .dataframe tbody tr th:only-of-type {\n",
       "        vertical-align: middle;\n",
       "    }\n",
       "\n",
       "    .dataframe tbody tr th {\n",
       "        vertical-align: top;\n",
       "    }\n",
       "\n",
       "    .dataframe thead th {\n",
       "        text-align: right;\n",
       "    }\n",
       "</style>\n",
       "<table border=\"1\" class=\"dataframe\">\n",
       "  <thead>\n",
       "    <tr style=\"text-align: right;\">\n",
       "      <th>Target</th>\n",
       "      <th>0</th>\n",
       "      <th>1</th>\n",
       "      <th>woe</th>\n",
       "      <th>iv</th>\n",
       "      <th>name</th>\n",
       "    </tr>\n",
       "  </thead>\n",
       "  <tbody>\n",
       "    <tr>\n",
       "      <th>(20.999, 28.0]</th>\n",
       "      <td>0.118</td>\n",
       "      <td>0.115</td>\n",
       "      <td>0.022</td>\n",
       "      <td>0.057</td>\n",
       "      <td>Age</td>\n",
       "    </tr>\n",
       "    <tr>\n",
       "      <th>(28.0, 31.0]</th>\n",
       "      <td>0.114</td>\n",
       "      <td>0.092</td>\n",
       "      <td>0.216</td>\n",
       "      <td>0.057</td>\n",
       "      <td>Age</td>\n",
       "    </tr>\n",
       "    <tr>\n",
       "      <th>(31.0, 33.0]</th>\n",
       "      <td>0.093</td>\n",
       "      <td>0.092</td>\n",
       "      <td>0.013</td>\n",
       "      <td>0.057</td>\n",
       "      <td>Age</td>\n",
       "    </tr>\n",
       "    <tr>\n",
       "      <th>(33.0, 35.0]</th>\n",
       "      <td>0.080</td>\n",
       "      <td>0.129</td>\n",
       "      <td>-0.474</td>\n",
       "      <td>0.057</td>\n",
       "      <td>Age</td>\n",
       "    </tr>\n",
       "    <tr>\n",
       "      <th>(35.0, 38.0]</th>\n",
       "      <td>0.131</td>\n",
       "      <td>0.095</td>\n",
       "      <td>0.326</td>\n",
       "      <td>0.057</td>\n",
       "      <td>Age</td>\n",
       "    </tr>\n",
       "  </tbody>\n",
       "</table>\n",
       "</div>"
      ],
      "text/plain": [
       "Target             0     1    woe    iv name\n",
       "(20.999, 28.0] 0.118 0.115  0.022 0.057  Age\n",
       "(28.0, 31.0]   0.114 0.092  0.216 0.057  Age\n",
       "(31.0, 33.0]   0.093 0.092  0.013 0.057  Age\n",
       "(33.0, 35.0]   0.080 0.129 -0.474 0.057  Age\n",
       "(35.0, 38.0]   0.131 0.095  0.326 0.057  Age"
      ]
     },
     "execution_count": 44,
     "metadata": {},
     "output_type": "execute_result"
    }
   ],
   "source": [
    "iv.head()"
   ]
  },
  {
   "cell_type": "code",
   "execution_count": 47,
   "id": "0202a278-568b-4015-b9ae-766e672650f6",
   "metadata": {
    "tags": []
   },
   "outputs": [],
   "source": [
    "iv_df = iv.groupby('name')[['iv']].sum()"
   ]
  },
  {
   "cell_type": "code",
   "execution_count": 124,
   "id": "aebbd46f-71b5-4012-8c85-3b9a8bd818e5",
   "metadata": {
    "tags": []
   },
   "outputs": [
    {
     "data": {
      "text/html": [
       "<div>\n",
       "<style scoped>\n",
       "    .dataframe tbody tr th:only-of-type {\n",
       "        vertical-align: middle;\n",
       "    }\n",
       "\n",
       "    .dataframe tbody tr th {\n",
       "        vertical-align: top;\n",
       "    }\n",
       "\n",
       "    .dataframe thead th {\n",
       "        text-align: right;\n",
       "    }\n",
       "</style>\n",
       "<table border=\"1\" class=\"dataframe\">\n",
       "  <thead>\n",
       "    <tr style=\"text-align: right;\">\n",
       "      <th>Target</th>\n",
       "      <th>iv</th>\n",
       "    </tr>\n",
       "    <tr>\n",
       "      <th>name</th>\n",
       "      <th></th>\n",
       "    </tr>\n",
       "  </thead>\n",
       "  <tbody>\n",
       "    <tr>\n",
       "      <th>#_enq_12mnths/Age</th>\n",
       "      <td>2.834</td>\n",
       "    </tr>\n",
       "    <tr>\n",
       "      <th>Tot_enq/Age</th>\n",
       "      <td>2.269</td>\n",
       "    </tr>\n",
       "    <tr>\n",
       "      <th>Tot_enq</th>\n",
       "      <td>2.261</td>\n",
       "    </tr>\n",
       "    <tr>\n",
       "      <th>Net_income/Age</th>\n",
       "      <td>2.215</td>\n",
       "    </tr>\n",
       "    <tr>\n",
       "      <th>#_enq_12mnths</th>\n",
       "      <td>2.190</td>\n",
       "    </tr>\n",
       "  </tbody>\n",
       "</table>\n",
       "</div>"
      ],
      "text/plain": [
       "Target               iv\n",
       "name                   \n",
       "#_enq_12mnths/Age 2.834\n",
       "Tot_enq/Age       2.269\n",
       "Tot_enq           2.261\n",
       "Net_income/Age    2.215\n",
       "#_enq_12mnths     2.190"
      ]
     },
     "execution_count": 124,
     "metadata": {},
     "output_type": "execute_result"
    }
   ],
   "source": [
    "iv_df.sort_values(by='iv',ascending=False).head()"
   ]
  },
  {
   "cell_type": "code",
   "execution_count": 199,
   "id": "a799c70c-28c1-4523-9135-423f74b793a8",
   "metadata": {
    "tags": []
   },
   "outputs": [],
   "source": [
    "iv_df_co = iv_df[iv_df['iv'] >= 0.8].sort_values(by='iv',ascending=False)"
   ]
  },
  {
   "cell_type": "code",
   "execution_count": 200,
   "id": "ca674b78-b0f6-4704-8ba0-bae913d8d97f",
   "metadata": {
    "tags": []
   },
   "outputs": [],
   "source": [
    "features_iv = list(set(iv_df_co.index))"
   ]
  },
  {
   "cell_type": "code",
   "execution_count": 65,
   "id": "5f29b4b7-56ed-4efc-a46f-ad068ad937ae",
   "metadata": {
    "tags": []
   },
   "outputs": [],
   "source": [
    "model_vc = VarClusHi(x,maxeigval2=1,maxclus=20)"
   ]
  },
  {
   "cell_type": "code",
   "execution_count": null,
   "id": "3883f883-c697-488c-a579-6847414d420d",
   "metadata": {
    "tags": []
   },
   "outputs": [],
   "source": [
    "model_vc.varclus()"
   ]
  },
  {
   "cell_type": "code",
   "execution_count": null,
   "id": "a4b7d66e-2d11-4ae2-bef1-1db883349c3d",
   "metadata": {},
   "outputs": [],
   "source": [
    "vc_rs_df = model_vc.rsquare"
   ]
  },
  {
   "cell_type": "code",
   "execution_count": 175,
   "id": "44ee5cbb-09d1-43ec-8941-445c2cb2ca88",
   "metadata": {
    "tags": []
   },
   "outputs": [],
   "source": [
    "vc_in_df = model_vc.info"
   ]
  },
  {
   "cell_type": "code",
   "execution_count": 179,
   "id": "717b8902-a1f5-4594-a0f0-06ff806a0f42",
   "metadata": {
    "tags": []
   },
   "outputs": [
    {
     "data": {
      "text/html": [
       "<div>\n",
       "<style scoped>\n",
       "    .dataframe tbody tr th:only-of-type {\n",
       "        vertical-align: middle;\n",
       "    }\n",
       "\n",
       "    .dataframe tbody tr th {\n",
       "        vertical-align: top;\n",
       "    }\n",
       "\n",
       "    .dataframe thead th {\n",
       "        text-align: right;\n",
       "    }\n",
       "</style>\n",
       "<table border=\"1\" class=\"dataframe\">\n",
       "  <thead>\n",
       "    <tr style=\"text-align: right;\">\n",
       "      <th></th>\n",
       "      <th>Cluster</th>\n",
       "      <th>N_Vars</th>\n",
       "      <th>Eigval1</th>\n",
       "      <th>Eigval2</th>\n",
       "      <th>VarProp</th>\n",
       "    </tr>\n",
       "  </thead>\n",
       "  <tbody>\n",
       "    <tr>\n",
       "      <th>0</th>\n",
       "      <td>0</td>\n",
       "      <td>6</td>\n",
       "      <td>3.666</td>\n",
       "      <td>0.912</td>\n",
       "      <td>0.611</td>\n",
       "    </tr>\n",
       "    <tr>\n",
       "      <th>1</th>\n",
       "      <td>1</td>\n",
       "      <td>6</td>\n",
       "      <td>3.604</td>\n",
       "      <td>0.999</td>\n",
       "      <td>0.601</td>\n",
       "    </tr>\n",
       "    <tr>\n",
       "      <th>2</th>\n",
       "      <td>2</td>\n",
       "      <td>11</td>\n",
       "      <td>2.162</td>\n",
       "      <td>1.008</td>\n",
       "      <td>0.197</td>\n",
       "    </tr>\n",
       "    <tr>\n",
       "      <th>3</th>\n",
       "      <td>3</td>\n",
       "      <td>9</td>\n",
       "      <td>2.211</td>\n",
       "      <td>1.006</td>\n",
       "      <td>0.246</td>\n",
       "    </tr>\n",
       "    <tr>\n",
       "      <th>4</th>\n",
       "      <td>4</td>\n",
       "      <td>4</td>\n",
       "      <td>3.055</td>\n",
       "      <td>0.523</td>\n",
       "      <td>0.764</td>\n",
       "    </tr>\n",
       "  </tbody>\n",
       "</table>\n",
       "</div>"
      ],
      "text/plain": [
       "   Cluster  N_Vars  Eigval1  Eigval2  VarProp\n",
       "0        0       6    3.666    0.912    0.611\n",
       "1        1       6    3.604    0.999    0.601\n",
       "2        2      11    2.162    1.008    0.197\n",
       "3        3       9    2.211    1.006    0.246\n",
       "4        4       4    3.055    0.523    0.764"
      ]
     },
     "execution_count": 179,
     "metadata": {},
     "output_type": "execute_result"
    }
   ],
   "source": [
    "vc_in_df.head()"
   ]
  },
  {
   "cell_type": "code",
   "execution_count": 81,
   "id": "16a29b55-a715-4db9-a92a-d4491669a1d7",
   "metadata": {
    "tags": []
   },
   "outputs": [
    {
     "data": {
      "text/html": [
       "<div>\n",
       "<style scoped>\n",
       "    .dataframe tbody tr th:only-of-type {\n",
       "        vertical-align: middle;\n",
       "    }\n",
       "\n",
       "    .dataframe tbody tr th {\n",
       "        vertical-align: top;\n",
       "    }\n",
       "\n",
       "    .dataframe thead th {\n",
       "        text-align: right;\n",
       "    }\n",
       "</style>\n",
       "<table border=\"1\" class=\"dataframe\">\n",
       "  <thead>\n",
       "    <tr style=\"text-align: right;\">\n",
       "      <th></th>\n",
       "      <th>Cluster</th>\n",
       "      <th>Variable</th>\n",
       "      <th>RS_Own</th>\n",
       "      <th>RS_NC</th>\n",
       "      <th>RS_Ratio</th>\n",
       "    </tr>\n",
       "  </thead>\n",
       "  <tbody>\n",
       "    <tr>\n",
       "      <th>0</th>\n",
       "      <td>0</td>\n",
       "      <td>Tot_enq</td>\n",
       "      <td>0.630</td>\n",
       "      <td>0.422</td>\n",
       "      <td>0.639</td>\n",
       "    </tr>\n",
       "    <tr>\n",
       "      <th>1</th>\n",
       "      <td>0</td>\n",
       "      <td>Tot_accounts</td>\n",
       "      <td>0.679</td>\n",
       "      <td>0.148</td>\n",
       "      <td>0.377</td>\n",
       "    </tr>\n",
       "    <tr>\n",
       "      <th>2</th>\n",
       "      <td>0</td>\n",
       "      <td>Tot_unsecured_loans</td>\n",
       "      <td>0.748</td>\n",
       "      <td>0.119</td>\n",
       "      <td>0.286</td>\n",
       "    </tr>\n",
       "    <tr>\n",
       "      <th>3</th>\n",
       "      <td>0</td>\n",
       "      <td>Tot_live_loans</td>\n",
       "      <td>0.756</td>\n",
       "      <td>0.255</td>\n",
       "      <td>0.327</td>\n",
       "    </tr>\n",
       "    <tr>\n",
       "      <th>4</th>\n",
       "      <td>0</td>\n",
       "      <td>Tot_live_unsecuredloans</td>\n",
       "      <td>0.703</td>\n",
       "      <td>0.141</td>\n",
       "      <td>0.346</td>\n",
       "    </tr>\n",
       "  </tbody>\n",
       "</table>\n",
       "</div>"
      ],
      "text/plain": [
       "   Cluster                 Variable  RS_Own  RS_NC  RS_Ratio\n",
       "0        0                  Tot_enq   0.630  0.422     0.639\n",
       "1        0             Tot_accounts   0.679  0.148     0.377\n",
       "2        0      Tot_unsecured_loans   0.748  0.119     0.286\n",
       "3        0           Tot_live_loans   0.756  0.255     0.327\n",
       "4        0  Tot_live_unsecuredloans   0.703  0.141     0.346"
      ]
     },
     "execution_count": 81,
     "metadata": {},
     "output_type": "execute_result"
    }
   ],
   "source": [
    "vc_df.head()"
   ]
  },
  {
   "cell_type": "code",
   "execution_count": 190,
   "id": "a0884c05-5e36-43af-a118-d988abfb59f6",
   "metadata": {
    "tags": []
   },
   "outputs": [],
   "source": [
    "features_vc = []\n",
    "for i in range(30):\n",
    "    features_vc.append(vc_rs_df[vc_rs_df['Cluster'] == i][['Variable','RS_Ratio']].nsmallest(1,'RS_Ratio')['Variable'].values[0])"
   ]
  },
  {
   "cell_type": "code",
   "execution_count": 208,
   "id": "3247e346-632e-47cf-9617-68f1bd24266d",
   "metadata": {
    "tags": []
   },
   "outputs": [],
   "source": [
    "fin_features = features_rf + features_iv + features_vc"
   ]
  },
  {
   "cell_type": "code",
   "execution_count": 209,
   "id": "46d79cfe-bf47-4e52-9154-370fb652e6fe",
   "metadata": {
    "tags": []
   },
   "outputs": [],
   "source": [
    "dict_ = Counter(fin_features)"
   ]
  },
  {
   "cell_type": "code",
   "execution_count": 210,
   "id": "162feb9a-246d-4a21-859d-df4e2422c996",
   "metadata": {
    "tags": []
   },
   "outputs": [
    {
     "data": {
      "text/plain": [
       "154"
      ]
     },
     "execution_count": 210,
     "metadata": {},
     "output_type": "execute_result"
    }
   ],
   "source": [
    "len(dict_)"
   ]
  },
  {
   "cell_type": "code",
   "execution_count": 212,
   "id": "14407b29-6de8-4a1a-82b5-57e3742801d2",
   "metadata": {
    "tags": []
   },
   "outputs": [],
   "source": [
    "fin_features = [i for i,ii in dict_.items() if ii >= 2]"
   ]
  },
  {
   "cell_type": "code",
   "execution_count": 215,
   "id": "1f9c1a8c-6acd-49fc-90ae-b9abba850423",
   "metadata": {
    "tags": []
   },
   "outputs": [],
   "source": [
    "fin_features.append('Customer_type')\n",
    "fin_features.append('Bank_balance')\n",
    "fin_features.append('Target')"
   ]
  },
  {
   "cell_type": "code",
   "execution_count": 216,
   "id": "5a1813c6-b95f-43b3-a14c-32ed5ac86db1",
   "metadata": {
    "tags": []
   },
   "outputs": [
    {
     "data": {
      "text/plain": [
       "['Bank_balance/Net_income',\n",
       " 'Debt_ratio/Bank_balance',\n",
       " '#_enq_12mnths/#_hle_enq_3mnths',\n",
       " 'Bank_balance/Gross_income',\n",
       " 'Gross_income/days_last_enq',\n",
       " '#_enq_12mnths/Debt_ratio',\n",
       " '#_enq_12mnths/Tot_accounts',\n",
       " 'Tot_enq/Avg_days_in_debt',\n",
       " 'Net_income/Bank_balance',\n",
       " 'Gross_income/Bank_balance',\n",
       " '#_enq_12mnths',\n",
       " '#_enq_3mnths/Age',\n",
       " '#_enq_12mnths/Age',\n",
       " '#_enq_12mnths/Bank_balance',\n",
       " 'Tot_enq/Tot_accounts',\n",
       " 'Debt_ratio',\n",
       " 'Net_income',\n",
       " '#_enq_3mnths',\n",
       " 'Customer_type',\n",
       " 'Bank_balance']"
      ]
     },
     "execution_count": 216,
     "metadata": {},
     "output_type": "execute_result"
    }
   ],
   "source": [
    "fin_features"
   ]
  },
  {
   "cell_type": "code",
   "execution_count": 381,
   "id": "311f8802-f807-42b8-801b-24ce81c9ca7c",
   "metadata": {
    "tags": []
   },
   "outputs": [],
   "source": [
    "fin_df = df[fin_features]"
   ]
  },
  {
   "cell_type": "code",
   "execution_count": 382,
   "id": "bc35a5c3-9037-4633-a5d2-3b8b29f0092e",
   "metadata": {
    "tags": []
   },
   "outputs": [
    {
     "data": {
      "text/html": [
       "<div>\n",
       "<style scoped>\n",
       "    .dataframe tbody tr th:only-of-type {\n",
       "        vertical-align: middle;\n",
       "    }\n",
       "\n",
       "    .dataframe tbody tr th {\n",
       "        vertical-align: top;\n",
       "    }\n",
       "\n",
       "    .dataframe thead th {\n",
       "        text-align: right;\n",
       "    }\n",
       "</style>\n",
       "<table border=\"1\" class=\"dataframe\">\n",
       "  <thead>\n",
       "    <tr style=\"text-align: right;\">\n",
       "      <th></th>\n",
       "      <th>Bank_balance/Net_income</th>\n",
       "      <th>Debt_ratio/Bank_balance</th>\n",
       "      <th>#_enq_12mnths/#_hle_enq_3mnths</th>\n",
       "      <th>Bank_balance/Gross_income</th>\n",
       "      <th>Gross_income/days_last_enq</th>\n",
       "      <th>#_enq_12mnths/Debt_ratio</th>\n",
       "      <th>#_enq_12mnths/Tot_accounts</th>\n",
       "      <th>Tot_enq/Avg_days_in_debt</th>\n",
       "      <th>Net_income/Bank_balance</th>\n",
       "      <th>Gross_income/Bank_balance</th>\n",
       "      <th>#_enq_12mnths</th>\n",
       "      <th>#_enq_3mnths/Age</th>\n",
       "      <th>#_enq_12mnths/Age</th>\n",
       "      <th>#_enq_12mnths/Bank_balance</th>\n",
       "      <th>Tot_enq/Tot_accounts</th>\n",
       "      <th>Debt_ratio</th>\n",
       "      <th>Net_income</th>\n",
       "      <th>#_enq_3mnths</th>\n",
       "      <th>Customer_type</th>\n",
       "      <th>Bank_balance</th>\n",
       "      <th>Target</th>\n",
       "    </tr>\n",
       "  </thead>\n",
       "  <tbody>\n",
       "    <tr>\n",
       "      <th>0</th>\n",
       "      <td>0.605</td>\n",
       "      <td>0.000</td>\n",
       "      <td>0.000</td>\n",
       "      <td>0.533</td>\n",
       "      <td>218.799</td>\n",
       "      <td>5.263</td>\n",
       "      <td>0.111</td>\n",
       "      <td>0.003</td>\n",
       "      <td>1.653</td>\n",
       "      <td>1.875</td>\n",
       "      <td>1</td>\n",
       "      <td>0.000</td>\n",
       "      <td>0.025</td>\n",
       "      <td>0.000</td>\n",
       "      <td>1.556</td>\n",
       "      <td>0.190</td>\n",
       "      <td>62491.000</td>\n",
       "      <td>0</td>\n",
       "      <td>SALARIED</td>\n",
       "      <td>37806.000</td>\n",
       "      <td>0</td>\n",
       "    </tr>\n",
       "    <tr>\n",
       "      <th>1</th>\n",
       "      <td>0.289</td>\n",
       "      <td>0.000</td>\n",
       "      <td>0.000</td>\n",
       "      <td>0.289</td>\n",
       "      <td>87.041</td>\n",
       "      <td>0.000</td>\n",
       "      <td>0.000</td>\n",
       "      <td>0.002</td>\n",
       "      <td>3.459</td>\n",
       "      <td>3.459</td>\n",
       "      <td>0</td>\n",
       "      <td>0.000</td>\n",
       "      <td>0.000</td>\n",
       "      <td>0.000</td>\n",
       "      <td>1.375</td>\n",
       "      <td>0.420</td>\n",
       "      <td>53617.000</td>\n",
       "      <td>0</td>\n",
       "      <td>SALARIED</td>\n",
       "      <td>15499.000</td>\n",
       "      <td>0</td>\n",
       "    </tr>\n",
       "    <tr>\n",
       "      <th>2</th>\n",
       "      <td>0.327</td>\n",
       "      <td>0.000</td>\n",
       "      <td>0.000</td>\n",
       "      <td>0.752</td>\n",
       "      <td>29.070</td>\n",
       "      <td>0.000</td>\n",
       "      <td>0.000</td>\n",
       "      <td>0.001</td>\n",
       "      <td>3.054</td>\n",
       "      <td>1.330</td>\n",
       "      <td>0</td>\n",
       "      <td>0.000</td>\n",
       "      <td>0.000</td>\n",
       "      <td>0.000</td>\n",
       "      <td>0.750</td>\n",
       "      <td>0.340</td>\n",
       "      <td>45912.000</td>\n",
       "      <td>0</td>\n",
       "      <td>SALARIED</td>\n",
       "      <td>15034.000</td>\n",
       "      <td>0</td>\n",
       "    </tr>\n",
       "    <tr>\n",
       "      <th>3</th>\n",
       "      <td>0.353</td>\n",
       "      <td>0.000</td>\n",
       "      <td>1.500</td>\n",
       "      <td>0.684</td>\n",
       "      <td>769.231</td>\n",
       "      <td>37.500</td>\n",
       "      <td>3.000</td>\n",
       "      <td>0.001</td>\n",
       "      <td>2.832</td>\n",
       "      <td>1.463</td>\n",
       "      <td>3</td>\n",
       "      <td>0.041</td>\n",
       "      <td>0.061</td>\n",
       "      <td>0.000</td>\n",
       "      <td>3.000</td>\n",
       "      <td>0.080</td>\n",
       "      <td>77440.000</td>\n",
       "      <td>2</td>\n",
       "      <td>SALARIED</td>\n",
       "      <td>27349.000</td>\n",
       "      <td>0</td>\n",
       "    </tr>\n",
       "    <tr>\n",
       "      <th>4</th>\n",
       "      <td>0.781</td>\n",
       "      <td>0.000</td>\n",
       "      <td>0.000</td>\n",
       "      <td>0.781</td>\n",
       "      <td>1106.848</td>\n",
       "      <td>2.083</td>\n",
       "      <td>0.500</td>\n",
       "      <td>0.000</td>\n",
       "      <td>1.281</td>\n",
       "      <td>1.281</td>\n",
       "      <td>1</td>\n",
       "      <td>0.022</td>\n",
       "      <td>0.022</td>\n",
       "      <td>0.000</td>\n",
       "      <td>1.000</td>\n",
       "      <td>0.480</td>\n",
       "      <td>36526.000</td>\n",
       "      <td>1</td>\n",
       "      <td>SELF EMPLOYED</td>\n",
       "      <td>28520.000</td>\n",
       "      <td>0</td>\n",
       "    </tr>\n",
       "  </tbody>\n",
       "</table>\n",
       "</div>"
      ],
      "text/plain": [
       "   Bank_balance/Net_income  Debt_ratio/Bank_balance  \\\n",
       "0                    0.605                    0.000   \n",
       "1                    0.289                    0.000   \n",
       "2                    0.327                    0.000   \n",
       "3                    0.353                    0.000   \n",
       "4                    0.781                    0.000   \n",
       "\n",
       "   #_enq_12mnths/#_hle_enq_3mnths  Bank_balance/Gross_income  \\\n",
       "0                           0.000                      0.533   \n",
       "1                           0.000                      0.289   \n",
       "2                           0.000                      0.752   \n",
       "3                           1.500                      0.684   \n",
       "4                           0.000                      0.781   \n",
       "\n",
       "   Gross_income/days_last_enq  #_enq_12mnths/Debt_ratio  \\\n",
       "0                     218.799                     5.263   \n",
       "1                      87.041                     0.000   \n",
       "2                      29.070                     0.000   \n",
       "3                     769.231                    37.500   \n",
       "4                    1106.848                     2.083   \n",
       "\n",
       "   #_enq_12mnths/Tot_accounts  Tot_enq/Avg_days_in_debt  \\\n",
       "0                       0.111                     0.003   \n",
       "1                       0.000                     0.002   \n",
       "2                       0.000                     0.001   \n",
       "3                       3.000                     0.001   \n",
       "4                       0.500                     0.000   \n",
       "\n",
       "   Net_income/Bank_balance  Gross_income/Bank_balance  #_enq_12mnths  \\\n",
       "0                    1.653                      1.875              1   \n",
       "1                    3.459                      3.459              0   \n",
       "2                    3.054                      1.330              0   \n",
       "3                    2.832                      1.463              3   \n",
       "4                    1.281                      1.281              1   \n",
       "\n",
       "   #_enq_3mnths/Age  #_enq_12mnths/Age  #_enq_12mnths/Bank_balance  \\\n",
       "0             0.000              0.025                       0.000   \n",
       "1             0.000              0.000                       0.000   \n",
       "2             0.000              0.000                       0.000   \n",
       "3             0.041              0.061                       0.000   \n",
       "4             0.022              0.022                       0.000   \n",
       "\n",
       "   Tot_enq/Tot_accounts  Debt_ratio  Net_income  #_enq_3mnths  Customer_type  \\\n",
       "0                 1.556       0.190   62491.000             0       SALARIED   \n",
       "1                 1.375       0.420   53617.000             0       SALARIED   \n",
       "2                 0.750       0.340   45912.000             0       SALARIED   \n",
       "3                 3.000       0.080   77440.000             2       SALARIED   \n",
       "4                 1.000       0.480   36526.000             1  SELF EMPLOYED   \n",
       "\n",
       "   Bank_balance  Target  \n",
       "0     37806.000       0  \n",
       "1     15499.000       0  \n",
       "2     15034.000       0  \n",
       "3     27349.000       0  \n",
       "4     28520.000       0  "
      ]
     },
     "execution_count": 382,
     "metadata": {},
     "output_type": "execute_result"
    }
   ],
   "source": [
    "fin_df.head()"
   ]
  },
  {
   "cell_type": "code",
   "execution_count": 383,
   "id": "53356486-6138-47f3-a89f-0e77ca68aa01",
   "metadata": {
    "tags": []
   },
   "outputs": [],
   "source": [
    "vif_cols = [i for i in fin_features if i not in ['Customer_type','Target']]"
   ]
  },
  {
   "cell_type": "code",
   "execution_count": 384,
   "id": "c9737c20-e079-43fb-846a-18e5921ab6aa",
   "metadata": {
    "tags": []
   },
   "outputs": [],
   "source": [
    "vif_data = fin_df[vif_cols]"
   ]
  },
  {
   "cell_type": "code",
   "execution_count": 385,
   "id": "580a032c-606d-402c-9266-c299086a80bb",
   "metadata": {
    "tags": []
   },
   "outputs": [],
   "source": [
    "vif_df = pd.DataFrame([variance_inflation_factor(vif_data.values,i) for i in range(len(vif_data.columns))],index=vif_data.columns)"
   ]
  },
  {
   "cell_type": "code",
   "execution_count": 386,
   "id": "f5623af2-e591-4a08-a115-c7ea3f42b61d",
   "metadata": {
    "tags": []
   },
   "outputs": [
    {
     "data": {
      "text/html": [
       "<div>\n",
       "<style scoped>\n",
       "    .dataframe tbody tr th:only-of-type {\n",
       "        vertical-align: middle;\n",
       "    }\n",
       "\n",
       "    .dataframe tbody tr th {\n",
       "        vertical-align: top;\n",
       "    }\n",
       "\n",
       "    .dataframe thead th {\n",
       "        text-align: right;\n",
       "    }\n",
       "</style>\n",
       "<table border=\"1\" class=\"dataframe\">\n",
       "  <thead>\n",
       "    <tr style=\"text-align: right;\">\n",
       "      <th></th>\n",
       "      <th>0</th>\n",
       "    </tr>\n",
       "  </thead>\n",
       "  <tbody>\n",
       "    <tr>\n",
       "      <th>Bank_balance/Net_income</th>\n",
       "      <td>419.097</td>\n",
       "    </tr>\n",
       "    <tr>\n",
       "      <th>Bank_balance/Gross_income</th>\n",
       "      <td>416.370</td>\n",
       "    </tr>\n",
       "    <tr>\n",
       "      <th>#_enq_12mnths</th>\n",
       "      <td>97.809</td>\n",
       "    </tr>\n",
       "    <tr>\n",
       "      <th>#_enq_3mnths</th>\n",
       "      <td>95.285</td>\n",
       "    </tr>\n",
       "    <tr>\n",
       "      <th>#_enq_3mnths/Age</th>\n",
       "      <td>94.108</td>\n",
       "    </tr>\n",
       "    <tr>\n",
       "      <th>#_enq_12mnths/Age</th>\n",
       "      <td>92.542</td>\n",
       "    </tr>\n",
       "    <tr>\n",
       "      <th>Net_income/Bank_balance</th>\n",
       "      <td>35.884</td>\n",
       "    </tr>\n",
       "    <tr>\n",
       "      <th>Gross_income/Bank_balance</th>\n",
       "      <td>35.614</td>\n",
       "    </tr>\n",
       "    <tr>\n",
       "      <th>Tot_enq/Tot_accounts</th>\n",
       "      <td>4.440</td>\n",
       "    </tr>\n",
       "    <tr>\n",
       "      <th>#_enq_12mnths/Tot_accounts</th>\n",
       "      <td>4.318</td>\n",
       "    </tr>\n",
       "  </tbody>\n",
       "</table>\n",
       "</div>"
      ],
      "text/plain": [
       "                                 0\n",
       "Bank_balance/Net_income    419.097\n",
       "Bank_balance/Gross_income  416.370\n",
       "#_enq_12mnths               97.809\n",
       "#_enq_3mnths                95.285\n",
       "#_enq_3mnths/Age            94.108\n",
       "#_enq_12mnths/Age           92.542\n",
       "Net_income/Bank_balance     35.884\n",
       "Gross_income/Bank_balance   35.614\n",
       "Tot_enq/Tot_accounts         4.440\n",
       "#_enq_12mnths/Tot_accounts   4.318"
      ]
     },
     "execution_count": 386,
     "metadata": {},
     "output_type": "execute_result"
    }
   ],
   "source": [
    "vif_df.sort_values(by=0,ascending=False).head(10)"
   ]
  },
  {
   "cell_type": "code",
   "execution_count": 387,
   "id": "5f25ad6a-7978-4fc6-8d05-a889593877dd",
   "metadata": {
    "tags": []
   },
   "outputs": [],
   "source": [
    "vif_cols.remove('Bank_balance/Net_income')\n",
    "vif_cols.remove('Bank_balance/Gross_income')\n",
    "vif_cols.remove('#_enq_12mnths')\n",
    "vif_cols.remove('Net_income/Bank_balance')\n",
    "vif_cols.remove('#_enq_3mnths/Age')"
   ]
  },
  {
   "cell_type": "code",
   "execution_count": 388,
   "id": "e89c2d3d-9436-45b8-a9ed-9b1596c5a916",
   "metadata": {
    "tags": []
   },
   "outputs": [],
   "source": [
    "vif_data = fin_df[vif_cols]"
   ]
  },
  {
   "cell_type": "code",
   "execution_count": 389,
   "id": "8af65974-a1e5-44eb-b3ea-9de84773bc4c",
   "metadata": {
    "tags": []
   },
   "outputs": [],
   "source": [
    "vif_df = pd.DataFrame([variance_inflation_factor(vif_data.values,i) for i in range(len(vif_data.columns))],index=vif_data.columns)"
   ]
  },
  {
   "cell_type": "code",
   "execution_count": 390,
   "id": "a672eed0-c0df-4a25-b1a0-13d1f98ad1df",
   "metadata": {
    "tags": []
   },
   "outputs": [
    {
     "data": {
      "text/html": [
       "<div>\n",
       "<style scoped>\n",
       "    .dataframe tbody tr th:only-of-type {\n",
       "        vertical-align: middle;\n",
       "    }\n",
       "\n",
       "    .dataframe tbody tr th {\n",
       "        vertical-align: top;\n",
       "    }\n",
       "\n",
       "    .dataframe thead th {\n",
       "        text-align: right;\n",
       "    }\n",
       "</style>\n",
       "<table border=\"1\" class=\"dataframe\">\n",
       "  <thead>\n",
       "    <tr style=\"text-align: right;\">\n",
       "      <th></th>\n",
       "      <th>0</th>\n",
       "    </tr>\n",
       "  </thead>\n",
       "  <tbody>\n",
       "    <tr>\n",
       "      <th>Tot_enq/Tot_accounts</th>\n",
       "      <td>4.398</td>\n",
       "    </tr>\n",
       "    <tr>\n",
       "      <th>#_enq_12mnths/Age</th>\n",
       "      <td>4.279</td>\n",
       "    </tr>\n",
       "    <tr>\n",
       "      <th>#_enq_12mnths/Tot_accounts</th>\n",
       "      <td>4.265</td>\n",
       "    </tr>\n",
       "    <tr>\n",
       "      <th>#_enq_3mnths</th>\n",
       "      <td>3.704</td>\n",
       "    </tr>\n",
       "    <tr>\n",
       "      <th>#_enq_12mnths/#_hle_enq_3mnths</th>\n",
       "      <td>2.102</td>\n",
       "    </tr>\n",
       "  </tbody>\n",
       "</table>\n",
       "</div>"
      ],
      "text/plain": [
       "                                   0\n",
       "Tot_enq/Tot_accounts           4.398\n",
       "#_enq_12mnths/Age              4.279\n",
       "#_enq_12mnths/Tot_accounts     4.265\n",
       "#_enq_3mnths                   3.704\n",
       "#_enq_12mnths/#_hle_enq_3mnths 2.102"
      ]
     },
     "execution_count": 390,
     "metadata": {},
     "output_type": "execute_result"
    }
   ],
   "source": [
    "vif_df.sort_values(by=0,ascending=False).head()"
   ]
  },
  {
   "cell_type": "code",
   "execution_count": 391,
   "id": "0c816a44-9ea8-4a2f-9c78-0159ceeef00f",
   "metadata": {
    "tags": []
   },
   "outputs": [
    {
     "data": {
      "text/plain": [
       "14"
      ]
     },
     "execution_count": 391,
     "metadata": {},
     "output_type": "execute_result"
    }
   ],
   "source": [
    "len(vif_cols)"
   ]
  },
  {
   "cell_type": "code",
   "execution_count": 392,
   "id": "bb0a5842-d806-4f58-979d-70dde535792b",
   "metadata": {
    "tags": []
   },
   "outputs": [],
   "source": [
    "vif_cols.append('Customer_type')\n",
    "vif_cols.append('Target')"
   ]
  },
  {
   "cell_type": "code",
   "execution_count": 393,
   "id": "cd1b9215-1d91-4c8f-ab1f-d635176909f2",
   "metadata": {
    "tags": []
   },
   "outputs": [],
   "source": [
    "fin_df = fin_df[vif_cols]"
   ]
  },
  {
   "cell_type": "code",
   "execution_count": 394,
   "id": "d60c92cf-0598-4d0a-949f-178c1f4dcacc",
   "metadata": {
    "tags": []
   },
   "outputs": [],
   "source": [
    "fin_df.drop_duplicates(keep=False,inplace=True)"
   ]
  },
  {
   "cell_type": "code",
   "execution_count": 395,
   "id": "679f3863-17ae-4b6d-a4be-9f7591df3851",
   "metadata": {
    "tags": []
   },
   "outputs": [],
   "source": [
    "x = fin_df.drop(columns=['Target'])\n",
    "y = fin_df['Target']"
   ]
  },
  {
   "cell_type": "code",
   "execution_count": 396,
   "id": "68fed1c2-352f-4a4f-80c8-da25386fd2bc",
   "metadata": {
    "tags": []
   },
   "outputs": [],
   "source": [
    "x = pd.get_dummies(x)"
   ]
  },
  {
   "cell_type": "code",
   "execution_count": 397,
   "id": "c7bf9895-07a5-4d04-8bd8-4d0999ae5f43",
   "metadata": {
    "tags": []
   },
   "outputs": [
    {
     "data": {
      "text/html": [
       "<div>\n",
       "<style scoped>\n",
       "    .dataframe tbody tr th:only-of-type {\n",
       "        vertical-align: middle;\n",
       "    }\n",
       "\n",
       "    .dataframe tbody tr th {\n",
       "        vertical-align: top;\n",
       "    }\n",
       "\n",
       "    .dataframe thead th {\n",
       "        text-align: right;\n",
       "    }\n",
       "</style>\n",
       "<table border=\"1\" class=\"dataframe\">\n",
       "  <thead>\n",
       "    <tr style=\"text-align: right;\">\n",
       "      <th></th>\n",
       "      <th>Debt_ratio/Bank_balance</th>\n",
       "      <th>#_enq_12mnths/#_hle_enq_3mnths</th>\n",
       "      <th>Gross_income/days_last_enq</th>\n",
       "      <th>#_enq_12mnths/Debt_ratio</th>\n",
       "      <th>#_enq_12mnths/Tot_accounts</th>\n",
       "      <th>Tot_enq/Avg_days_in_debt</th>\n",
       "      <th>Gross_income/Bank_balance</th>\n",
       "      <th>#_enq_12mnths/Age</th>\n",
       "      <th>#_enq_12mnths/Bank_balance</th>\n",
       "      <th>Tot_enq/Tot_accounts</th>\n",
       "      <th>Debt_ratio</th>\n",
       "      <th>Net_income</th>\n",
       "      <th>#_enq_3mnths</th>\n",
       "      <th>Bank_balance</th>\n",
       "      <th>Customer_type_NON EARNING</th>\n",
       "      <th>Customer_type_SALARIED</th>\n",
       "      <th>Customer_type_SELF EMPLOYED</th>\n",
       "    </tr>\n",
       "  </thead>\n",
       "  <tbody>\n",
       "    <tr>\n",
       "      <th>0</th>\n",
       "      <td>0.000</td>\n",
       "      <td>0.000</td>\n",
       "      <td>218.799</td>\n",
       "      <td>5.263</td>\n",
       "      <td>0.111</td>\n",
       "      <td>0.003</td>\n",
       "      <td>1.875</td>\n",
       "      <td>0.025</td>\n",
       "      <td>0.000</td>\n",
       "      <td>1.556</td>\n",
       "      <td>0.190</td>\n",
       "      <td>62491.000</td>\n",
       "      <td>0</td>\n",
       "      <td>37806.000</td>\n",
       "      <td>0</td>\n",
       "      <td>1</td>\n",
       "      <td>0</td>\n",
       "    </tr>\n",
       "    <tr>\n",
       "      <th>1</th>\n",
       "      <td>0.000</td>\n",
       "      <td>0.000</td>\n",
       "      <td>87.041</td>\n",
       "      <td>0.000</td>\n",
       "      <td>0.000</td>\n",
       "      <td>0.002</td>\n",
       "      <td>3.459</td>\n",
       "      <td>0.000</td>\n",
       "      <td>0.000</td>\n",
       "      <td>1.375</td>\n",
       "      <td>0.420</td>\n",
       "      <td>53617.000</td>\n",
       "      <td>0</td>\n",
       "      <td>15499.000</td>\n",
       "      <td>0</td>\n",
       "      <td>1</td>\n",
       "      <td>0</td>\n",
       "    </tr>\n",
       "    <tr>\n",
       "      <th>2</th>\n",
       "      <td>0.000</td>\n",
       "      <td>0.000</td>\n",
       "      <td>29.070</td>\n",
       "      <td>0.000</td>\n",
       "      <td>0.000</td>\n",
       "      <td>0.001</td>\n",
       "      <td>1.330</td>\n",
       "      <td>0.000</td>\n",
       "      <td>0.000</td>\n",
       "      <td>0.750</td>\n",
       "      <td>0.340</td>\n",
       "      <td>45912.000</td>\n",
       "      <td>0</td>\n",
       "      <td>15034.000</td>\n",
       "      <td>0</td>\n",
       "      <td>1</td>\n",
       "      <td>0</td>\n",
       "    </tr>\n",
       "    <tr>\n",
       "      <th>3</th>\n",
       "      <td>0.000</td>\n",
       "      <td>1.500</td>\n",
       "      <td>769.231</td>\n",
       "      <td>37.500</td>\n",
       "      <td>3.000</td>\n",
       "      <td>0.001</td>\n",
       "      <td>1.463</td>\n",
       "      <td>0.061</td>\n",
       "      <td>0.000</td>\n",
       "      <td>3.000</td>\n",
       "      <td>0.080</td>\n",
       "      <td>77440.000</td>\n",
       "      <td>2</td>\n",
       "      <td>27349.000</td>\n",
       "      <td>0</td>\n",
       "      <td>1</td>\n",
       "      <td>0</td>\n",
       "    </tr>\n",
       "    <tr>\n",
       "      <th>4</th>\n",
       "      <td>0.000</td>\n",
       "      <td>0.000</td>\n",
       "      <td>1106.848</td>\n",
       "      <td>2.083</td>\n",
       "      <td>0.500</td>\n",
       "      <td>0.000</td>\n",
       "      <td>1.281</td>\n",
       "      <td>0.022</td>\n",
       "      <td>0.000</td>\n",
       "      <td>1.000</td>\n",
       "      <td>0.480</td>\n",
       "      <td>36526.000</td>\n",
       "      <td>1</td>\n",
       "      <td>28520.000</td>\n",
       "      <td>0</td>\n",
       "      <td>0</td>\n",
       "      <td>1</td>\n",
       "    </tr>\n",
       "  </tbody>\n",
       "</table>\n",
       "</div>"
      ],
      "text/plain": [
       "   Debt_ratio/Bank_balance  #_enq_12mnths/#_hle_enq_3mnths  \\\n",
       "0                    0.000                           0.000   \n",
       "1                    0.000                           0.000   \n",
       "2                    0.000                           0.000   \n",
       "3                    0.000                           1.500   \n",
       "4                    0.000                           0.000   \n",
       "\n",
       "   Gross_income/days_last_enq  #_enq_12mnths/Debt_ratio  \\\n",
       "0                     218.799                     5.263   \n",
       "1                      87.041                     0.000   \n",
       "2                      29.070                     0.000   \n",
       "3                     769.231                    37.500   \n",
       "4                    1106.848                     2.083   \n",
       "\n",
       "   #_enq_12mnths/Tot_accounts  Tot_enq/Avg_days_in_debt  \\\n",
       "0                       0.111                     0.003   \n",
       "1                       0.000                     0.002   \n",
       "2                       0.000                     0.001   \n",
       "3                       3.000                     0.001   \n",
       "4                       0.500                     0.000   \n",
       "\n",
       "   Gross_income/Bank_balance  #_enq_12mnths/Age  #_enq_12mnths/Bank_balance  \\\n",
       "0                      1.875              0.025                       0.000   \n",
       "1                      3.459              0.000                       0.000   \n",
       "2                      1.330              0.000                       0.000   \n",
       "3                      1.463              0.061                       0.000   \n",
       "4                      1.281              0.022                       0.000   \n",
       "\n",
       "   Tot_enq/Tot_accounts  Debt_ratio  Net_income  #_enq_3mnths  Bank_balance  \\\n",
       "0                 1.556       0.190   62491.000             0     37806.000   \n",
       "1                 1.375       0.420   53617.000             0     15499.000   \n",
       "2                 0.750       0.340   45912.000             0     15034.000   \n",
       "3                 3.000       0.080   77440.000             2     27349.000   \n",
       "4                 1.000       0.480   36526.000             1     28520.000   \n",
       "\n",
       "   Customer_type_NON EARNING  Customer_type_SALARIED  \\\n",
       "0                          0                       1   \n",
       "1                          0                       1   \n",
       "2                          0                       1   \n",
       "3                          0                       1   \n",
       "4                          0                       0   \n",
       "\n",
       "   Customer_type_SELF EMPLOYED  \n",
       "0                            0  \n",
       "1                            0  \n",
       "2                            0  \n",
       "3                            0  \n",
       "4                            1  "
      ]
     },
     "execution_count": 397,
     "metadata": {},
     "output_type": "execute_result"
    }
   ],
   "source": [
    "x.head()"
   ]
  },
  {
   "cell_type": "code",
   "execution_count": 398,
   "id": "d97c0dab-2952-4166-b847-3d92a130cbb8",
   "metadata": {
    "tags": []
   },
   "outputs": [
    {
     "data": {
      "text/plain": [
       "(3539, 17)"
      ]
     },
     "execution_count": 398,
     "metadata": {},
     "output_type": "execute_result"
    }
   ],
   "source": [
    "x.shape"
   ]
  },
  {
   "cell_type": "code",
   "execution_count": 399,
   "id": "848c892c-78ba-4cd4-bc11-13f733ea7afe",
   "metadata": {
    "tags": []
   },
   "outputs": [
    {
     "data": {
      "text/plain": [
       "Debt_ratio/Bank_balance           0\n",
       "#_enq_12mnths/#_hle_enq_3mnths    0\n",
       "Gross_income/days_last_enq        0\n",
       "#_enq_12mnths/Debt_ratio          0\n",
       "#_enq_12mnths/Tot_accounts        0\n",
       "Tot_enq/Avg_days_in_debt          0\n",
       "Gross_income/Bank_balance         0\n",
       "#_enq_12mnths/Age                 0\n",
       "#_enq_12mnths/Bank_balance        0\n",
       "Tot_enq/Tot_accounts              0\n",
       "Debt_ratio                        0\n",
       "Net_income                        0\n",
       "#_enq_3mnths                      0\n",
       "Bank_balance                      0\n",
       "Customer_type_NON EARNING         0\n",
       "Customer_type_SALARIED            0\n",
       "Customer_type_SELF EMPLOYED       0\n",
       "dtype: int64"
      ]
     },
     "execution_count": 399,
     "metadata": {},
     "output_type": "execute_result"
    }
   ],
   "source": [
    "x.isnull().sum()"
   ]
  },
  {
   "cell_type": "markdown",
   "id": "3c41b7dd-27ca-47ee-9042-eac4296881c1",
   "metadata": {},
   "source": [
    "----"
   ]
  },
  {
   "cell_type": "code",
   "execution_count": 400,
   "id": "6de8255c-6a21-4503-b570-e5fcafe7f344",
   "metadata": {
    "tags": []
   },
   "outputs": [],
   "source": [
    "x_train,x_test,y_train,y_test = train_test_split(x,y,test_size=0.3,random_state=37)"
   ]
  },
  {
   "cell_type": "code",
   "execution_count": 416,
   "id": "007d07da-ced6-4d46-a497-90f3dc6ef72f",
   "metadata": {},
   "outputs": [],
   "source": [
    "dt = x_train.dtypes.to_frame()"
   ]
  },
  {
   "cell_type": "code",
   "execution_count": 417,
   "id": "7df3d36d-12db-4953-be66-03d8101bc702",
   "metadata": {
    "tags": []
   },
   "outputs": [],
   "source": [
    "non_obj_dev = dt.loc[dt[0] != 'object',:].index.tolist()"
   ]
  },
  {
   "cell_type": "code",
   "execution_count": 425,
   "id": "4f3810b5-d022-4407-9239-85ea53f6f395",
   "metadata": {
    "tags": []
   },
   "outputs": [],
   "source": [
    "non_obj_iv_dev = pd.DataFrame()\n",
    "for i in non_obj_dev:\n",
    "    temp = pd.concat([x_train.loc[:,[i]],y_train],axis=1)\n",
    "    temp['qcut'] = pd.qcut(temp[i],10,duplicates='drop')\n",
    "    res = pd.crosstab(temp['qcut'],temp['Target'],normalize='columns').assign(woe=lambda x:np.log(x[0]/x[1])).assign(iv=lambda x:np.sum(x['woe']*(x[0]-x[1])))\n",
    "    res['name'] = i\n",
    "    non_obj_iv_dev = pd.concat([non_obj_iv_dev,res])"
   ]
  },
  {
   "cell_type": "code",
   "execution_count": 426,
   "id": "42033f0c-c2f2-40b8-950a-d0c020724e30",
   "metadata": {
    "tags": []
   },
   "outputs": [],
   "source": [
    "obj_dev = dt.loc[dt[0] == 'object'][0].index.tolist()"
   ]
  },
  {
   "cell_type": "code",
   "execution_count": 427,
   "id": "49d10616-8ff8-42c4-9d42-e6613515ce96",
   "metadata": {
    "tags": []
   },
   "outputs": [],
   "source": [
    "obj_iv_dev = pd.DataFrame()\n",
    "for i in obj_dev:\n",
    "    res = pd.crosstab(x_train.loc[:,[i]],y_train,normalize='columns').assign(woe=lambda x:np.log(x[0]/x[1])).assign(iv=lambda x:np.sum(x['woe']*(x[0]-x[1])))\n",
    "    res['name'] = i\n",
    "    obj_iv_dev = pd.concat([obj_iv_dev,res])"
   ]
  },
  {
   "cell_type": "code",
   "execution_count": 428,
   "id": "c790afe0-5840-4ea7-bb2e-f99255e14432",
   "metadata": {
    "tags": []
   },
   "outputs": [],
   "source": [
    "iv_dev = pd.concat([non_obj_iv_dev,obj_iv_dev])"
   ]
  },
  {
   "cell_type": "code",
   "execution_count": 430,
   "id": "81d91d7f-85fa-4b2f-bf02-75fbab5a41de",
   "metadata": {
    "tags": []
   },
   "outputs": [
    {
     "data": {
      "text/html": [
       "<div>\n",
       "<style scoped>\n",
       "    .dataframe tbody tr th:only-of-type {\n",
       "        vertical-align: middle;\n",
       "    }\n",
       "\n",
       "    .dataframe tbody tr th {\n",
       "        vertical-align: top;\n",
       "    }\n",
       "\n",
       "    .dataframe thead th {\n",
       "        text-align: right;\n",
       "    }\n",
       "</style>\n",
       "<table border=\"1\" class=\"dataframe\">\n",
       "  <thead>\n",
       "    <tr style=\"text-align: right;\">\n",
       "      <th>Target</th>\n",
       "      <th>0</th>\n",
       "      <th>1</th>\n",
       "      <th>woe</th>\n",
       "      <th>iv</th>\n",
       "      <th>name</th>\n",
       "    </tr>\n",
       "    <tr>\n",
       "      <th>qcut</th>\n",
       "      <th></th>\n",
       "      <th></th>\n",
       "      <th></th>\n",
       "      <th></th>\n",
       "      <th></th>\n",
       "    </tr>\n",
       "  </thead>\n",
       "  <tbody>\n",
       "    <tr>\n",
       "      <th>(-0.00100228, 1.2e-06]</th>\n",
       "      <td>0.101</td>\n",
       "      <td>0.091</td>\n",
       "      <td>0.104</td>\n",
       "      <td>0.182</td>\n",
       "      <td>Debt_ratio/Bank_balance</td>\n",
       "    </tr>\n",
       "    <tr>\n",
       "      <th>(1.2e-06, 2.97e-06]</th>\n",
       "      <td>0.098</td>\n",
       "      <td>0.120</td>\n",
       "      <td>-0.206</td>\n",
       "      <td>0.182</td>\n",
       "      <td>Debt_ratio/Bank_balance</td>\n",
       "    </tr>\n",
       "    <tr>\n",
       "      <th>(2.97e-06, 5.7e-06]</th>\n",
       "      <td>0.101</td>\n",
       "      <td>0.082</td>\n",
       "      <td>0.215</td>\n",
       "      <td>0.182</td>\n",
       "      <td>Debt_ratio/Bank_balance</td>\n",
       "    </tr>\n",
       "    <tr>\n",
       "      <th>(5.7e-06, 8.88e-06]</th>\n",
       "      <td>0.104</td>\n",
       "      <td>0.053</td>\n",
       "      <td>0.681</td>\n",
       "      <td>0.182</td>\n",
       "      <td>Debt_ratio/Bank_balance</td>\n",
       "    </tr>\n",
       "    <tr>\n",
       "      <th>(8.88e-06, 1.26e-05]</th>\n",
       "      <td>0.104</td>\n",
       "      <td>0.058</td>\n",
       "      <td>0.589</td>\n",
       "      <td>0.182</td>\n",
       "      <td>Debt_ratio/Bank_balance</td>\n",
       "    </tr>\n",
       "  </tbody>\n",
       "</table>\n",
       "</div>"
      ],
      "text/plain": [
       "Target                     0     1    woe    iv                     name\n",
       "qcut                                                                    \n",
       "(-0.00100228, 1.2e-06] 0.101 0.091  0.104 0.182  Debt_ratio/Bank_balance\n",
       "(1.2e-06, 2.97e-06]    0.098 0.120 -0.206 0.182  Debt_ratio/Bank_balance\n",
       "(2.97e-06, 5.7e-06]    0.101 0.082  0.215 0.182  Debt_ratio/Bank_balance\n",
       "(5.7e-06, 8.88e-06]    0.104 0.053  0.681 0.182  Debt_ratio/Bank_balance\n",
       "(8.88e-06, 1.26e-05]   0.104 0.058  0.589 0.182  Debt_ratio/Bank_balance"
      ]
     },
     "execution_count": 430,
     "metadata": {},
     "output_type": "execute_result"
    }
   ],
   "source": [
    "iv_dev.head()"
   ]
  },
  {
   "cell_type": "code",
   "execution_count": 432,
   "id": "a48cdc9d-f0ed-4387-bd6d-b33167f6e99c",
   "metadata": {
    "tags": []
   },
   "outputs": [],
   "source": [
    "iv_dev.rename(columns={0:'%good',1:'%bad'},inplace=True)"
   ]
  },
  {
   "cell_type": "code",
   "execution_count": 439,
   "id": "b271bd8b-1738-44fd-bac7-d96f6845f56b",
   "metadata": {
    "tags": []
   },
   "outputs": [
    {
     "data": {
      "text/html": [
       "<div>\n",
       "<style scoped>\n",
       "    .dataframe tbody tr th:only-of-type {\n",
       "        vertical-align: middle;\n",
       "    }\n",
       "\n",
       "    .dataframe tbody tr th {\n",
       "        vertical-align: top;\n",
       "    }\n",
       "\n",
       "    .dataframe thead th {\n",
       "        text-align: right;\n",
       "    }\n",
       "</style>\n",
       "<table border=\"1\" class=\"dataframe\">\n",
       "  <thead>\n",
       "    <tr style=\"text-align: right;\">\n",
       "      <th>Target</th>\n",
       "      <th>%good</th>\n",
       "      <th>%bad</th>\n",
       "      <th>woe</th>\n",
       "      <th>iv</th>\n",
       "      <th>name</th>\n",
       "    </tr>\n",
       "    <tr>\n",
       "      <th>qcut</th>\n",
       "      <th></th>\n",
       "      <th></th>\n",
       "      <th></th>\n",
       "      <th></th>\n",
       "      <th></th>\n",
       "    </tr>\n",
       "  </thead>\n",
       "  <tbody>\n",
       "    <tr>\n",
       "      <th>(4.0, 24.0]</th>\n",
       "      <td>0.058616</td>\n",
       "      <td>0.197115</td>\n",
       "      <td>-1.212779</td>\n",
       "      <td>0.236638</td>\n",
       "      <td>#_enq_3mnths</td>\n",
       "    </tr>\n",
       "    <tr>\n",
       "      <th>(2.0, 4.0]</th>\n",
       "      <td>0.122080</td>\n",
       "      <td>0.173077</td>\n",
       "      <td>-0.349058</td>\n",
       "      <td>0.236638</td>\n",
       "      <td>#_enq_3mnths</td>\n",
       "    </tr>\n",
       "    <tr>\n",
       "      <th>(1.0, 2.0]</th>\n",
       "      <td>0.162186</td>\n",
       "      <td>0.115385</td>\n",
       "      <td>0.340473</td>\n",
       "      <td>0.236638</td>\n",
       "      <td>#_enq_3mnths</td>\n",
       "    </tr>\n",
       "    <tr>\n",
       "      <th>(-0.001, 1.0]</th>\n",
       "      <td>0.657118</td>\n",
       "      <td>0.514423</td>\n",
       "      <td>0.244817</td>\n",
       "      <td>0.236638</td>\n",
       "      <td>#_enq_3mnths</td>\n",
       "    </tr>\n",
       "    <tr>\n",
       "      <th>(0.0292, 0.0455]</th>\n",
       "      <td>0.103129</td>\n",
       "      <td>0.072115</td>\n",
       "      <td>0.357715</td>\n",
       "      <td>0.230420</td>\n",
       "      <td>#_enq_12mnths/Age</td>\n",
       "    </tr>\n",
       "  </tbody>\n",
       "</table>\n",
       "</div>"
      ],
      "text/plain": [
       "Target              %good     %bad       woe       iv               name\n",
       "qcut                                                                    \n",
       "(4.0, 24.0]      0.058616 0.197115 -1.212779 0.236638       #_enq_3mnths\n",
       "(2.0, 4.0]       0.122080 0.173077 -0.349058 0.236638       #_enq_3mnths\n",
       "(1.0, 2.0]       0.162186 0.115385  0.340473 0.236638       #_enq_3mnths\n",
       "(-0.001, 1.0]    0.657118 0.514423  0.244817 0.236638       #_enq_3mnths\n",
       "(0.0292, 0.0455] 0.103129 0.072115  0.357715 0.230420  #_enq_12mnths/Age"
      ]
     },
     "execution_count": 439,
     "metadata": {},
     "output_type": "execute_result"
    }
   ],
   "source": [
    "iv_dev.sort_values(by='iv',ascending=False).head()"
   ]
  },
  {
   "cell_type": "code",
   "execution_count": 440,
   "id": "30555076-0eac-4fdf-bca3-a46761cb22d2",
   "metadata": {
    "tags": []
   },
   "outputs": [],
   "source": [
    "iv_dev.to_csv('Dev_IV.csv',index_label='qcut')"
   ]
  },
  {
   "cell_type": "code",
   "execution_count": 441,
   "id": "0ceed4b1-2473-49dc-a19b-b2aa1ff57122",
   "metadata": {},
   "outputs": [],
   "source": [
    "dt = x_test.dtypes.to_frame()"
   ]
  },
  {
   "cell_type": "code",
   "execution_count": 442,
   "id": "8baf0a8e-b760-4f3a-8af2-3c5a3d2cd81f",
   "metadata": {
    "tags": []
   },
   "outputs": [],
   "source": [
    "non_obj_oos = dt.loc[dt[0] != 'object',:].index.tolist()"
   ]
  },
  {
   "cell_type": "code",
   "execution_count": 443,
   "id": "73608d7d-4b67-4186-b019-1a3032ce9a73",
   "metadata": {
    "tags": []
   },
   "outputs": [],
   "source": [
    "non_obj_iv_oos = pd.DataFrame()\n",
    "for i in non_obj_oos:\n",
    "    temp = pd.concat([x_test.loc[:,[i]],y_test],axis=1)\n",
    "    temp['qcut'] = pd.qcut(temp[i],10,duplicates='drop')\n",
    "    res = pd.crosstab(temp['qcut'],temp['Target'],normalize='columns').assign(woe=lambda x:np.log(x[0]/x[1])).assign(iv=lambda x:np.sum(x['woe']*(x[0]-x[1])))\n",
    "    res['name'] = i\n",
    "    non_obj_iv_oos = pd.concat([non_obj_iv_oos,res])"
   ]
  },
  {
   "cell_type": "code",
   "execution_count": 444,
   "id": "555832fe-29e9-4876-8c4d-9768b45205f8",
   "metadata": {
    "tags": []
   },
   "outputs": [],
   "source": [
    "obj_dev_oos = dt.loc[dt[0] == 'object'][0].index.tolist()"
   ]
  },
  {
   "cell_type": "code",
   "execution_count": 445,
   "id": "b83b1a41-dc35-4cbf-9eaa-aef14be3e39d",
   "metadata": {
    "tags": []
   },
   "outputs": [],
   "source": [
    "obj_iv_oos = pd.DataFrame()\n",
    "for i in obj_dev_oos:\n",
    "    res = pd.crosstab(x_test.loc[:,[i]],y_test,normalize='columns').assign(woe=lambda x:np.log(x[0]/x[1])).assign(iv=lambda x:np.sum(x['woe']*(x[0]-x[1])))\n",
    "    res['name'] = i\n",
    "    obj_iv_oos = pd.concat([obj_iv_oos,res])"
   ]
  },
  {
   "cell_type": "code",
   "execution_count": 446,
   "id": "f3880cdc-645e-4557-bcfb-f75373bc06f2",
   "metadata": {
    "tags": []
   },
   "outputs": [],
   "source": [
    "iv_oos = pd.concat([non_obj_iv_oos,obj_iv_oos])"
   ]
  },
  {
   "cell_type": "code",
   "execution_count": 447,
   "id": "94cf217a-fd3e-491b-9212-f23309767340",
   "metadata": {
    "tags": []
   },
   "outputs": [
    {
     "data": {
      "text/html": [
       "<div>\n",
       "<style scoped>\n",
       "    .dataframe tbody tr th:only-of-type {\n",
       "        vertical-align: middle;\n",
       "    }\n",
       "\n",
       "    .dataframe tbody tr th {\n",
       "        vertical-align: top;\n",
       "    }\n",
       "\n",
       "    .dataframe thead th {\n",
       "        text-align: right;\n",
       "    }\n",
       "</style>\n",
       "<table border=\"1\" class=\"dataframe\">\n",
       "  <thead>\n",
       "    <tr style=\"text-align: right;\">\n",
       "      <th>Target</th>\n",
       "      <th>0</th>\n",
       "      <th>1</th>\n",
       "      <th>woe</th>\n",
       "      <th>iv</th>\n",
       "      <th>name</th>\n",
       "    </tr>\n",
       "    <tr>\n",
       "      <th>qcut</th>\n",
       "      <th></th>\n",
       "      <th></th>\n",
       "      <th></th>\n",
       "      <th></th>\n",
       "      <th></th>\n",
       "    </tr>\n",
       "  </thead>\n",
       "  <tbody>\n",
       "    <tr>\n",
       "      <th>(-3.9619999999999997, 9.37e-07]</th>\n",
       "      <td>0.092574</td>\n",
       "      <td>0.202532</td>\n",
       "      <td>-0.782890</td>\n",
       "      <td>0.340025</td>\n",
       "      <td>Debt_ratio/Bank_balance</td>\n",
       "    </tr>\n",
       "    <tr>\n",
       "      <th>(9.37e-07, 2.58e-06]</th>\n",
       "      <td>0.099695</td>\n",
       "      <td>0.101266</td>\n",
       "      <td>-0.015635</td>\n",
       "      <td>0.340025</td>\n",
       "      <td>Debt_ratio/Bank_balance</td>\n",
       "    </tr>\n",
       "    <tr>\n",
       "      <th>(2.58e-06, 5.4e-06]</th>\n",
       "      <td>0.102747</td>\n",
       "      <td>0.063291</td>\n",
       "      <td>0.484521</td>\n",
       "      <td>0.340025</td>\n",
       "      <td>Debt_ratio/Bank_balance</td>\n",
       "    </tr>\n",
       "    <tr>\n",
       "      <th>(5.4e-06, 8.29e-06]</th>\n",
       "      <td>0.097660</td>\n",
       "      <td>0.126582</td>\n",
       "      <td>-0.259398</td>\n",
       "      <td>0.340025</td>\n",
       "      <td>Debt_ratio/Bank_balance</td>\n",
       "    </tr>\n",
       "    <tr>\n",
       "      <th>(8.29e-06, 1.16e-05]</th>\n",
       "      <td>0.100712</td>\n",
       "      <td>0.088608</td>\n",
       "      <td>0.128048</td>\n",
       "      <td>0.340025</td>\n",
       "      <td>Debt_ratio/Bank_balance</td>\n",
       "    </tr>\n",
       "  </tbody>\n",
       "</table>\n",
       "</div>"
      ],
      "text/plain": [
       "Target                                 0        1       woe       iv  \\\n",
       "qcut                                                                   \n",
       "(-3.9619999999999997, 9.37e-07] 0.092574 0.202532 -0.782890 0.340025   \n",
       "(9.37e-07, 2.58e-06]            0.099695 0.101266 -0.015635 0.340025   \n",
       "(2.58e-06, 5.4e-06]             0.102747 0.063291  0.484521 0.340025   \n",
       "(5.4e-06, 8.29e-06]             0.097660 0.126582 -0.259398 0.340025   \n",
       "(8.29e-06, 1.16e-05]            0.100712 0.088608  0.128048 0.340025   \n",
       "\n",
       "Target                                              name  \n",
       "qcut                                                      \n",
       "(-3.9619999999999997, 9.37e-07]  Debt_ratio/Bank_balance  \n",
       "(9.37e-07, 2.58e-06]             Debt_ratio/Bank_balance  \n",
       "(2.58e-06, 5.4e-06]              Debt_ratio/Bank_balance  \n",
       "(5.4e-06, 8.29e-06]              Debt_ratio/Bank_balance  \n",
       "(8.29e-06, 1.16e-05]             Debt_ratio/Bank_balance  "
      ]
     },
     "execution_count": 447,
     "metadata": {},
     "output_type": "execute_result"
    }
   ],
   "source": [
    "iv_oos.head()"
   ]
  },
  {
   "cell_type": "code",
   "execution_count": 449,
   "id": "32720b3a-90bc-48f0-9039-ac42fc66dfcd",
   "metadata": {
    "tags": []
   },
   "outputs": [],
   "source": [
    "iv_oos.rename(columns={0:'%good',1:'%bad'},inplace=True)"
   ]
  },
  {
   "cell_type": "code",
   "execution_count": 450,
   "id": "a0202d5d-13fd-455c-8f74-e7bf1a721f8a",
   "metadata": {
    "tags": []
   },
   "outputs": [
    {
     "data": {
      "text/html": [
       "<div>\n",
       "<style scoped>\n",
       "    .dataframe tbody tr th:only-of-type {\n",
       "        vertical-align: middle;\n",
       "    }\n",
       "\n",
       "    .dataframe tbody tr th {\n",
       "        vertical-align: top;\n",
       "    }\n",
       "\n",
       "    .dataframe thead th {\n",
       "        text-align: right;\n",
       "    }\n",
       "</style>\n",
       "<table border=\"1\" class=\"dataframe\">\n",
       "  <thead>\n",
       "    <tr style=\"text-align: right;\">\n",
       "      <th>Target</th>\n",
       "      <th>%good</th>\n",
       "      <th>%bad</th>\n",
       "      <th>woe</th>\n",
       "      <th>iv</th>\n",
       "      <th>name</th>\n",
       "    </tr>\n",
       "    <tr>\n",
       "      <th>qcut</th>\n",
       "      <th></th>\n",
       "      <th></th>\n",
       "      <th></th>\n",
       "      <th></th>\n",
       "      <th></th>\n",
       "    </tr>\n",
       "  </thead>\n",
       "  <tbody>\n",
       "    <tr>\n",
       "      <th>(0.506, 1.0]</th>\n",
       "      <td>0.203459</td>\n",
       "      <td>0.139241</td>\n",
       "      <td>0.379261</td>\n",
       "      <td>inf</td>\n",
       "      <td>Tot_enq/Tot_accounts</td>\n",
       "    </tr>\n",
       "    <tr>\n",
       "      <th>(4.94e-05, 8.48e-05]</th>\n",
       "      <td>0.104781</td>\n",
       "      <td>0.088608</td>\n",
       "      <td>0.167658</td>\n",
       "      <td>inf</td>\n",
       "      <td>#_enq_12mnths/Bank_balance</td>\n",
       "    </tr>\n",
       "    <tr>\n",
       "      <th>(0.000133, 0.000236]</th>\n",
       "      <td>0.097660</td>\n",
       "      <td>0.126582</td>\n",
       "      <td>-0.259398</td>\n",
       "      <td>inf</td>\n",
       "      <td>#_enq_12mnths/Bank_balance</td>\n",
       "    </tr>\n",
       "    <tr>\n",
       "      <th>(0.000236, 0.000473]</th>\n",
       "      <td>0.095626</td>\n",
       "      <td>0.151899</td>\n",
       "      <td>-0.462773</td>\n",
       "      <td>inf</td>\n",
       "      <td>#_enq_12mnths/Bank_balance</td>\n",
       "    </tr>\n",
       "    <tr>\n",
       "      <th>(0.000473, 0.0625]</th>\n",
       "      <td>0.096643</td>\n",
       "      <td>0.151899</td>\n",
       "      <td>-0.452191</td>\n",
       "      <td>inf</td>\n",
       "      <td>#_enq_12mnths/Bank_balance</td>\n",
       "    </tr>\n",
       "  </tbody>\n",
       "</table>\n",
       "</div>"
      ],
      "text/plain": [
       "Target                  %good     %bad       woe  iv  \\\n",
       "qcut                                                   \n",
       "(0.506, 1.0]         0.203459 0.139241  0.379261 inf   \n",
       "(4.94e-05, 8.48e-05] 0.104781 0.088608  0.167658 inf   \n",
       "(0.000133, 0.000236] 0.097660 0.126582 -0.259398 inf   \n",
       "(0.000236, 0.000473] 0.095626 0.151899 -0.462773 inf   \n",
       "(0.000473, 0.0625]   0.096643 0.151899 -0.452191 inf   \n",
       "\n",
       "Target                                      name  \n",
       "qcut                                              \n",
       "(0.506, 1.0]                Tot_enq/Tot_accounts  \n",
       "(4.94e-05, 8.48e-05]  #_enq_12mnths/Bank_balance  \n",
       "(0.000133, 0.000236]  #_enq_12mnths/Bank_balance  \n",
       "(0.000236, 0.000473]  #_enq_12mnths/Bank_balance  \n",
       "(0.000473, 0.0625]    #_enq_12mnths/Bank_balance  "
      ]
     },
     "execution_count": 450,
     "metadata": {},
     "output_type": "execute_result"
    }
   ],
   "source": [
    "iv_oos.sort_values(by='iv',ascending=False).head()"
   ]
  },
  {
   "cell_type": "code",
   "execution_count": 451,
   "id": "3309f49a-763f-4cd1-a48d-3ca94d58948b",
   "metadata": {
    "tags": []
   },
   "outputs": [],
   "source": [
    "iv_oos.drop(iv_oos[iv_oos['iv'].isin([np.inf,-np.inf])].index,inplace=True)"
   ]
  },
  {
   "cell_type": "code",
   "execution_count": 452,
   "id": "e2db739d-16f3-40a1-bba6-a928cac88472",
   "metadata": {
    "tags": []
   },
   "outputs": [
    {
     "data": {
      "text/html": [
       "<div>\n",
       "<style scoped>\n",
       "    .dataframe tbody tr th:only-of-type {\n",
       "        vertical-align: middle;\n",
       "    }\n",
       "\n",
       "    .dataframe tbody tr th {\n",
       "        vertical-align: top;\n",
       "    }\n",
       "\n",
       "    .dataframe thead th {\n",
       "        text-align: right;\n",
       "    }\n",
       "</style>\n",
       "<table border=\"1\" class=\"dataframe\">\n",
       "  <thead>\n",
       "    <tr style=\"text-align: right;\">\n",
       "      <th>Target</th>\n",
       "      <th>%good</th>\n",
       "      <th>%bad</th>\n",
       "      <th>woe</th>\n",
       "      <th>iv</th>\n",
       "      <th>name</th>\n",
       "    </tr>\n",
       "    <tr>\n",
       "      <th>qcut</th>\n",
       "      <th></th>\n",
       "      <th></th>\n",
       "      <th></th>\n",
       "      <th></th>\n",
       "      <th></th>\n",
       "    </tr>\n",
       "  </thead>\n",
       "  <tbody>\n",
       "    <tr>\n",
       "      <th>(0.139, 0.219]</th>\n",
       "      <td>0.098678</td>\n",
       "      <td>0.113924</td>\n",
       "      <td>-0.143675</td>\n",
       "      <td>0.628063</td>\n",
       "      <td>#_enq_12mnths/Age</td>\n",
       "    </tr>\n",
       "    <tr>\n",
       "      <th>(-0.001, 0.0176]</th>\n",
       "      <td>0.204476</td>\n",
       "      <td>0.151899</td>\n",
       "      <td>0.297237</td>\n",
       "      <td>0.628063</td>\n",
       "      <td>#_enq_12mnths/Age</td>\n",
       "    </tr>\n",
       "    <tr>\n",
       "      <th>(0.0176, 0.028]</th>\n",
       "      <td>0.102747</td>\n",
       "      <td>0.063291</td>\n",
       "      <td>0.484521</td>\n",
       "      <td>0.628063</td>\n",
       "      <td>#_enq_12mnths/Age</td>\n",
       "    </tr>\n",
       "    <tr>\n",
       "      <th>(0.028, 0.0417]</th>\n",
       "      <td>0.104781</td>\n",
       "      <td>0.101266</td>\n",
       "      <td>0.034126</td>\n",
       "      <td>0.628063</td>\n",
       "      <td>#_enq_12mnths/Age</td>\n",
       "    </tr>\n",
       "    <tr>\n",
       "      <th>(0.0417, 0.0606]</th>\n",
       "      <td>0.104781</td>\n",
       "      <td>0.050633</td>\n",
       "      <td>0.727273</td>\n",
       "      <td>0.628063</td>\n",
       "      <td>#_enq_12mnths/Age</td>\n",
       "    </tr>\n",
       "  </tbody>\n",
       "</table>\n",
       "</div>"
      ],
      "text/plain": [
       "Target              %good     %bad       woe       iv               name\n",
       "qcut                                                                    \n",
       "(0.139, 0.219]   0.098678 0.113924 -0.143675 0.628063  #_enq_12mnths/Age\n",
       "(-0.001, 0.0176] 0.204476 0.151899  0.297237 0.628063  #_enq_12mnths/Age\n",
       "(0.0176, 0.028]  0.102747 0.063291  0.484521 0.628063  #_enq_12mnths/Age\n",
       "(0.028, 0.0417]  0.104781 0.101266  0.034126 0.628063  #_enq_12mnths/Age\n",
       "(0.0417, 0.0606] 0.104781 0.050633  0.727273 0.628063  #_enq_12mnths/Age"
      ]
     },
     "execution_count": 452,
     "metadata": {},
     "output_type": "execute_result"
    }
   ],
   "source": [
    "iv_oos.sort_values(by='iv',ascending=False).head()"
   ]
  },
  {
   "cell_type": "code",
   "execution_count": 453,
   "id": "8b99678a-7b89-4658-b5be-0da9ed77eed6",
   "metadata": {
    "tags": []
   },
   "outputs": [],
   "source": [
    "iv_oos.to_csv('OOS_IV.csv',index_label='qcut')"
   ]
  },
  {
   "cell_type": "markdown",
   "id": "01ea8442-d43f-4c66-a13d-9fd56b5eb9bc",
   "metadata": {},
   "source": [
    "----"
   ]
  },
  {
   "cell_type": "code",
   "execution_count": 680,
   "id": "6484c68c-5434-4195-9459-ee6c580c655e",
   "metadata": {
    "tags": []
   },
   "outputs": [
    {
     "data": {
      "text/plain": [
       "<Axes: ylabel='Target'>"
      ]
     },
     "execution_count": 680,
     "metadata": {},
     "output_type": "execute_result"
    },
    {
     "data": {
      "image/png": "[encoded data removed]",
      "text/plain": [
       "<Figure size 1170x827 with 1 Axes>"
      ]
     },
     "metadata": {},
     "output_type": "display_data"
    }
   ],
   "source": [
    "y_train.value_counts().plot.pie(autopct='%1.2f%%')"
   ]
  },
  {
   "cell_type": "code",
   "execution_count": 496,
   "id": "e48ee5e8-9b43-4df4-907d-38f9d090df73",
   "metadata": {
    "tags": []
   },
   "outputs": [
    {
     "data": {
      "text/plain": [
       "Index(['Debt_ratio/Bank_balance', '#_enq_12mnths/#_hle_enq_3mnths',\n",
       "       'Gross_income/days_last_enq', '#_enq_12mnths/Debt_ratio',\n",
       "       '#_enq_12mnths/Tot_accounts', 'Tot_enq/Avg_days_in_debt',\n",
       "       'Gross_income/Bank_balance', '#_enq_12mnths/Age',\n",
       "       '#_enq_12mnths/Bank_balance', 'Tot_enq/Tot_accounts', 'Debt_ratio',\n",
       "       'Net_income', '#_enq_3mnths', 'Bank_balance',\n",
       "       'Customer_type_NON EARNING', 'Customer_type_SALARIED',\n",
       "       'Customer_type_SELF EMPLOYED'],\n",
       "      dtype='object')"
      ]
     },
     "execution_count": 496,
     "metadata": {},
     "output_type": "execute_result"
    }
   ],
   "source": [
    "x_train_sm.columns"
   ]
  },
  {
   "cell_type": "code",
   "execution_count": 544,
   "id": "6e15a529-b6b8-45e6-bbb4-a2b51118b25c",
   "metadata": {
    "tags": []
   },
   "outputs": [],
   "source": [
    "x_train_sm, y_train_sm = sm.fit_resample(x_train,y_train)"
   ]
  },
  {
   "cell_type": "code",
   "execution_count": 681,
   "id": "4a8dcafe-c2e4-43db-8bb8-265e61abe888",
   "metadata": {
    "tags": []
   },
   "outputs": [],
   "source": [
    "model_log = LogisticRegression(C=1.0,penalty='l1',solver='liblinear')"
   ]
  },
  {
   "cell_type": "code",
   "execution_count": 682,
   "id": "6cd08656-2ad0-4a8b-b1de-eca7005fa81b",
   "metadata": {
    "tags": []
   },
   "outputs": [
    {
     "data": {
      "text/html": [
       "<style>#sk-container-id-29 {color: black;background-color: white;}#sk-container-id-29 pre{padding: 0;}#sk-container-id-29 div.sk-toggleable {background-color: white;}#sk-container-id-29 label.sk-toggleable__label {cursor: pointer;display: block;width: 100%;margin-bottom: 0;padding: 0.3em;box-sizing: border-box;text-align: center;}#sk-container-id-29 label.sk-toggleable__label-arrow:before {content: \"▸\";float: left;margin-right: 0.25em;color: #696969;}#sk-container-id-29 label.sk-toggleable__label-arrow:hover:before {color: black;}#sk-container-id-29 div.sk-estimator:hover label.sk-toggleable__label-arrow:before {color: black;}#sk-container-id-29 div.sk-toggleable__content {max-height: 0;max-width: 0;overflow: hidden;text-align: left;background-color: #f0f8ff;}#sk-container-id-29 div.sk-toggleable__content pre {margin: 0.2em;color: black;border-radius: 0.25em;background-color: #f0f8ff;}#sk-container-id-29 input.sk-toggleable__control:checked~div.sk-toggleable__content {max-height: 200px;max-width: 100%;overflow: auto;}#sk-container-id-29 input.sk-toggleable__control:checked~label.sk-toggleable__label-arrow:before {content: \"▾\";}#sk-container-id-29 div.sk-estimator input.sk-toggleable__control:checked~label.sk-toggleable__label {background-color: #d4ebff;}#sk-container-id-29 div.sk-label input.sk-toggleable__control:checked~label.sk-toggleable__label {background-color: #d4ebff;}#sk-container-id-29 input.sk-hidden--visually {border: 0;clip: rect(1px 1px 1px 1px);clip: rect(1px, 1px, 1px, 1px);height: 1px;margin: -1px;overflow: hidden;padding: 0;position: absolute;width: 1px;}#sk-container-id-29 div.sk-estimator {font-family: monospace;background-color: #f0f8ff;border: 1px dotted black;border-radius: 0.25em;box-sizing: border-box;margin-bottom: 0.5em;}#sk-container-id-29 div.sk-estimator:hover {background-color: #d4ebff;}#sk-container-id-29 div.sk-parallel-item::after {content: \"\";width: 100%;border-bottom: 1px solid gray;flex-grow: 1;}#sk-container-id-29 div.sk-label:hover label.sk-toggleable__label {background-color: #d4ebff;}#sk-container-id-29 div.sk-serial::before {content: \"\";position: absolute;border-left: 1px solid gray;box-sizing: border-box;top: 0;bottom: 0;left: 50%;z-index: 0;}#sk-container-id-29 div.sk-serial {display: flex;flex-direction: column;align-items: center;background-color: white;padding-right: 0.2em;padding-left: 0.2em;position: relative;}#sk-container-id-29 div.sk-item {position: relative;z-index: 1;}#sk-container-id-29 div.sk-parallel {display: flex;align-items: stretch;justify-content: center;background-color: white;position: relative;}#sk-container-id-29 div.sk-item::before, #sk-container-id-29 div.sk-parallel-item::before {content: \"\";position: absolute;border-left: 1px solid gray;box-sizing: border-box;top: 0;bottom: 0;left: 50%;z-index: -1;}#sk-container-id-29 div.sk-parallel-item {display: flex;flex-direction: column;z-index: 1;position: relative;background-color: white;}#sk-container-id-29 div.sk-parallel-item:first-child::after {align-self: flex-end;width: 50%;}#sk-container-id-29 div.sk-parallel-item:last-child::after {align-self: flex-start;width: 50%;}#sk-container-id-29 div.sk-parallel-item:only-child::after {width: 0;}#sk-container-id-29 div.sk-dashed-wrapped {border: 1px dashed gray;margin: 0 0.4em 0.5em 0.4em;box-sizing: border-box;padding-bottom: 0.4em;background-color: white;}#sk-container-id-29 div.sk-label label {font-family: monospace;font-weight: bold;display: inline-block;line-height: 1.2em;}#sk-container-id-29 div.sk-label-container {text-align: center;}#sk-container-id-29 div.sk-container {/* jupyter's `normalize.less` sets `[hidden] { display: none; }` but bootstrap.min.css set `[hidden] { display: none !important; }` so we also need the `!important` here to be able to override the default hidden behavior on the sphinx rendered scikit-learn.org. See: https://github.com/scikit-learn/scikit-learn/issues/21755 */display: inline-block !important;position: relative;}#sk-container-id-29 div.sk-text-repr-fallback {display: none;}</style><div id=\"sk-container-id-29\" class=\"sk-top-container\"><div class=\"sk-text-repr-fallback\"><pre>LogisticRegression(penalty=&#x27;l1&#x27;, solver=&#x27;liblinear&#x27;)</pre><b>In a Jupyter environment, please rerun this cell to show the HTML representation or trust the notebook. <br />On GitHub, the HTML representation is unable to render, please try loading this page with nbviewer.org.</b></div><div class=\"sk-container\" hidden><div class=\"sk-item\"><div class=\"sk-estimator sk-toggleable\"><input class=\"sk-toggleable__control sk-hidden--visually\" id=\"sk-estimator-id-29\" type=\"checkbox\" checked><label for=\"sk-estimator-id-29\" class=\"sk-toggleable__label sk-toggleable__label-arrow\">LogisticRegression</label><div class=\"sk-toggleable__content\"><pre>LogisticRegression(penalty=&#x27;l1&#x27;, solver=&#x27;liblinear&#x27;)</pre></div></div></div></div></div>"
      ],
      "text/plain": [
       "LogisticRegression(penalty='l1', solver='liblinear')"
      ]
     },
     "execution_count": 682,
     "metadata": {},
     "output_type": "execute_result"
    }
   ],
   "source": [
    "model_log.fit(x_train_sm,y_train_sm)"
   ]
  },
  {
   "cell_type": "code",
   "execution_count": 683,
   "id": "2a023138-1475-49ee-a7f7-782ae4733193",
   "metadata": {
    "tags": []
   },
   "outputs": [],
   "source": [
    "pred_dev = model_log.predict_proba(x_train_sm)[:,1]"
   ]
  },
  {
   "cell_type": "code",
   "execution_count": 684,
   "id": "160b6c24-a01a-494a-9cbc-616889abf24e",
   "metadata": {
    "tags": []
   },
   "outputs": [
    {
     "data": {
      "text/plain": [
       "0.8504677508045766"
      ]
     },
     "execution_count": 684,
     "metadata": {},
     "output_type": "execute_result"
    }
   ],
   "source": [
    "roc_auc_score(y_train_sm,pred_dev)"
   ]
  },
  {
   "cell_type": "code",
   "execution_count": 685,
   "id": "6b0b51ee-2550-4ad3-9021-9e3f2a5949f6",
   "metadata": {
    "tags": []
   },
   "outputs": [],
   "source": [
    "pred_oos = model_log.predict_proba(x_test)[:,1]"
   ]
  },
  {
   "cell_type": "code",
   "execution_count": 686,
   "id": "a1ff873d-c84d-4a7e-b40f-decd14a2b2c6",
   "metadata": {
    "tags": []
   },
   "outputs": [
    {
     "data": {
      "text/plain": [
       "0.6800545990702705"
      ]
     },
     "execution_count": 686,
     "metadata": {},
     "output_type": "execute_result"
    }
   ],
   "source": [
    "roc_auc_score(y_test,pred_oos)"
   ]
  },
  {
   "cell_type": "markdown",
   "id": "c9e80f38-e815-4eb7-a336-ba6210e8aeb0",
   "metadata": {
    "tags": []
   },
   "source": [
    "joblib.dump(model_log,'logistic_regression_1')"
   ]
  },
  {
   "cell_type": "markdown",
   "id": "e024e36d-b621-4d4b-a601-25354e48104e",
   "metadata": {},
   "source": [
    "----"
   ]
  },
  {
   "cell_type": "code",
   "execution_count": 687,
   "id": "fa830237-3c74-4691-a527-374b7ea08ab5",
   "metadata": {
    "tags": []
   },
   "outputs": [],
   "source": [
    "pred_proba_train = pd.DataFrame({'default':y_train_sm,'prob_num':model_log.predict_proba(x_train_sm)[:,1]})\n",
    "pred_proba_test = pd.DataFrame({'default':y_test,'prob_num':model_log.predict_proba(x_test)[:,1]})"
   ]
  },
  {
   "cell_type": "code",
   "execution_count": 688,
   "id": "2a73fe8f-a0e0-4bf2-8425-eb4a9ee3040e",
   "metadata": {
    "tags": []
   },
   "outputs": [
    {
     "data": {
      "text/html": [
       "<div>\n",
       "<style scoped>\n",
       "    .dataframe tbody tr th:only-of-type {\n",
       "        vertical-align: middle;\n",
       "    }\n",
       "\n",
       "    .dataframe tbody tr th {\n",
       "        vertical-align: top;\n",
       "    }\n",
       "\n",
       "    .dataframe thead th {\n",
       "        text-align: right;\n",
       "    }\n",
       "</style>\n",
       "<table border=\"1\" class=\"dataframe\">\n",
       "  <thead>\n",
       "    <tr style=\"text-align: right;\">\n",
       "      <th></th>\n",
       "      <th>default</th>\n",
       "      <th>prob_num</th>\n",
       "    </tr>\n",
       "  </thead>\n",
       "  <tbody>\n",
       "    <tr>\n",
       "      <th>0</th>\n",
       "      <td>0</td>\n",
       "      <td>0.156778</td>\n",
       "    </tr>\n",
       "    <tr>\n",
       "      <th>1</th>\n",
       "      <td>0</td>\n",
       "      <td>0.126068</td>\n",
       "    </tr>\n",
       "    <tr>\n",
       "      <th>2</th>\n",
       "      <td>0</td>\n",
       "      <td>0.589485</td>\n",
       "    </tr>\n",
       "  </tbody>\n",
       "</table>\n",
       "</div>"
      ],
      "text/plain": [
       "   default  prob_num\n",
       "0        0  0.156778\n",
       "1        0  0.126068\n",
       "2        0  0.589485"
      ]
     },
     "execution_count": 688,
     "metadata": {},
     "output_type": "execute_result"
    }
   ],
   "source": [
    "pred_proba_train.head(3)"
   ]
  },
  {
   "cell_type": "code",
   "execution_count": 689,
   "id": "aff927ca-932d-4444-814f-a91576784f7e",
   "metadata": {
    "tags": []
   },
   "outputs": [
    {
     "data": {
      "text/html": [
       "<div>\n",
       "<style scoped>\n",
       "    .dataframe tbody tr th:only-of-type {\n",
       "        vertical-align: middle;\n",
       "    }\n",
       "\n",
       "    .dataframe tbody tr th {\n",
       "        vertical-align: top;\n",
       "    }\n",
       "\n",
       "    .dataframe thead th {\n",
       "        text-align: right;\n",
       "    }\n",
       "</style>\n",
       "<table border=\"1\" class=\"dataframe\">\n",
       "  <thead>\n",
       "    <tr style=\"text-align: right;\">\n",
       "      <th></th>\n",
       "      <th>default</th>\n",
       "      <th>prob_num</th>\n",
       "    </tr>\n",
       "  </thead>\n",
       "  <tbody>\n",
       "    <tr>\n",
       "      <th>2452</th>\n",
       "      <td>0</td>\n",
       "      <td>0.110213</td>\n",
       "    </tr>\n",
       "    <tr>\n",
       "      <th>3242</th>\n",
       "      <td>0</td>\n",
       "      <td>0.095698</td>\n",
       "    </tr>\n",
       "    <tr>\n",
       "      <th>2455</th>\n",
       "      <td>0</td>\n",
       "      <td>0.149827</td>\n",
       "    </tr>\n",
       "  </tbody>\n",
       "</table>\n",
       "</div>"
      ],
      "text/plain": [
       "      default  prob_num\n",
       "2452        0  0.110213\n",
       "3242        0  0.095698\n",
       "2455        0  0.149827"
      ]
     },
     "execution_count": 689,
     "metadata": {},
     "output_type": "execute_result"
    }
   ],
   "source": [
    "pred_proba_test.tail(3)"
   ]
  },
  {
   "cell_type": "code",
   "execution_count": 690,
   "id": "56369ed6-7bc0-4d99-9f17-922390a2fd9e",
   "metadata": {
    "tags": []
   },
   "outputs": [],
   "source": [
    "pred_proba_train['Target'] = pd.qcut(pred_proba_train['prob_num'],10, duplicates = 'drop')"
   ]
  },
  {
   "cell_type": "code",
   "execution_count": 691,
   "id": "18b79145-debe-4ad5-a8e7-2adb46e8d2b4",
   "metadata": {
    "tags": []
   },
   "outputs": [],
   "source": [
    "pred_proba_test['Target'] = pd.qcut(pred_proba_test['prob_num'],10, duplicates = 'drop')"
   ]
  },
  {
   "cell_type": "code",
   "execution_count": 692,
   "id": "afb3770e-a9ae-4a5b-a55c-42cfefe3bb0e",
   "metadata": {
    "tags": []
   },
   "outputs": [],
   "source": [
    "pred_proba_train['non_default'] = 1 - pred_proba_train['default']"
   ]
  },
  {
   "cell_type": "code",
   "execution_count": 693,
   "id": "569bbf18-1e4a-4fc5-91f4-ec6e26baae2d",
   "metadata": {
    "tags": []
   },
   "outputs": [],
   "source": [
    "pred_proba_test['non_default'] = 1 - pred_proba_test['default']"
   ]
  },
  {
   "cell_type": "code",
   "execution_count": 694,
   "id": "fd39ad49-271f-497f-8908-e5c56635cdd6",
   "metadata": {
    "tags": []
   },
   "outputs": [],
   "source": [
    "fin_pred_proba_train = pd.pivot_table(index='Target',values=['default','non_default'],aggfunc={'default':np.sum,'non_default':np.sum},data=pred_proba_train)"
   ]
  },
  {
   "cell_type": "code",
   "execution_count": 695,
   "id": "8d880b60-7259-4a25-ad99-85d244671a91",
   "metadata": {
    "tags": []
   },
   "outputs": [],
   "source": [
    "fin_pred_proba_test = pd.pivot_table(index='Target',values=['default','non_default'],aggfunc={'default':np.sum,'non_default':np.sum},data=pred_proba_test)"
   ]
  },
  {
   "cell_type": "code",
   "execution_count": 696,
   "id": "47965636-48f0-4a85-a227-e3993d7c0938",
   "metadata": {
    "tags": []
   },
   "outputs": [],
   "source": [
    "fin_pred_proba_train.to_csv('Lift Table Dev data.csv')"
   ]
  },
  {
   "cell_type": "code",
   "execution_count": 697,
   "id": "4191c5c1-5f41-422d-8a1f-04ebce6c49a0",
   "metadata": {
    "tags": []
   },
   "outputs": [],
   "source": [
    "fin_pred_proba_test.to_csv('Lift Table OOS data.csv')"
   ]
  }
 ],
 "metadata": {
  "kernelspec": {
   "display_name": "Python 3 (ipykernel)",
   "language": "python",
   "name": "python3"
  },
  "language_info": {
   "codemirror_mode": {
    "name": "ipython",
    "version": 3
   },
   "file_extension": ".py",
   "mimetype": "text/x-python",
   "name": "python",
   "nbconvert_exporter": "python",
   "pygments_lexer": "ipython3",
   "version": "3.11.2"
  }
 },
 "nbformat": 4,
 "nbformat_minor": 5
}
