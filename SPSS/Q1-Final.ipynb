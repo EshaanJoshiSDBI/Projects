{
 "cells": [
  {
   "cell_type": "code",
   "execution_count": 201,
   "id": "bfaf27aa-d459-4b92-8225-15dbe218ca54",
   "metadata": {
    "tags": []
   },
   "outputs": [],
   "source": [
    "import numpy as np\n",
    "import pandas as pd\n",
    "import matplotlib.pyplot as plt\n",
    "import seaborn as sns\n",
    "sns.set_theme(rc={'figure.figsize':(10,4)})\n",
    "from sklearn.model_selection import train_test_split\n",
    "from sklearn.linear_model import LogisticRegression\n",
    "from sklearn.metrics import confusion_matrix, accuracy_score, classification_report\n",
    "import statsmodels.api as sm"
   ]
  },
  {
   "cell_type": "markdown",
   "id": "c1d55d28-b4f1-4880-b3dc-ab206b6b2603",
   "metadata": {},
   "source": [
    "## Bank Churn"
   ]
  },
  {
   "cell_type": "code",
   "execution_count": 171,
   "id": "df7b9455-2025-4ebf-9086-d7d793fb82d4",
   "metadata": {
    "tags": []
   },
   "outputs": [],
   "source": [
    "bank_df = pd.read_csv('BANK.xls - Sheet1.csv',skiprows=2)"
   ]
  },
  {
   "cell_type": "code",
   "execution_count": 172,
   "id": "b5c59a08-9f94-4942-b903-5618cc8872e9",
   "metadata": {},
   "outputs": [
    {
     "data": {
      "text/plain": [
       "248"
      ]
     },
     "execution_count": 172,
     "metadata": {},
     "output_type": "execute_result"
    }
   ],
   "source": [
    "len(bank_df)"
   ]
  },
  {
   "cell_type": "code",
   "execution_count": 173,
   "id": "0c0fd0de-968d-400f-b8bc-b8b3d2cd86b6",
   "metadata": {
    "tags": []
   },
   "outputs": [],
   "source": [
    "bank_df.drop(0,inplace=True)"
   ]
  },
  {
   "cell_type": "code",
   "execution_count": 174,
   "id": "15a3ed8d-f5b6-4cfb-8a61-0d3964723434",
   "metadata": {
    "tags": []
   },
   "outputs": [],
   "source": [
    "bank_df.drop(bank_df.tail(2).index,inplace=True)"
   ]
  },
  {
   "cell_type": "code",
   "execution_count": 175,
   "id": "190af105-7c6a-43a9-8cc0-1165b90c3edc",
   "metadata": {
    "tags": []
   },
   "outputs": [
    {
     "data": {
      "text/plain": [
       "Index(['Unnamed: 0', 'O Loyal', 'Unnamed: 2', 'Unnamed: 3', 'Unnamed: 4',\n",
       "       'Unnamed: 5', 'Pleasant Ambiance', 'Comfortable seating arrangement',\n",
       "       'Immediate attenttion', 'Good Response on Phone',\n",
       "       'Errors in Passbook entries', 'Time to issue cheque book',\n",
       "       'Time to sanction loan', 'Time to clear outstation cheques',\n",
       "       'Issue of clean currency notes', 'Facility to pay bills',\n",
       "       'Distance to residence', 'Distance to workplace',\n",
       "       'Courteous staff behaviour', 'Enough parking place'],\n",
       "      dtype='object')"
      ]
     },
     "execution_count": 175,
     "metadata": {},
     "output_type": "execute_result"
    }
   ],
   "source": [
    "bank_df.columns"
   ]
  },
  {
   "cell_type": "code",
   "execution_count": 176,
   "id": "eac69887-69c4-4c1f-b135-ce74404458a2",
   "metadata": {
    "tags": []
   },
   "outputs": [],
   "source": [
    "bank_df.rename(columns={'Unnamed: 0':'Sr. No','O Loyal':'Response','Unnamed: 2':'Branch','Unnamed: 3':'Occupation','Unnamed: 4':'Age','Unnamed: 5':'Gender'},inplace=True)"
   ]
  },
  {
   "cell_type": "code",
   "execution_count": 177,
   "id": "e944cc40-7d00-4ce1-8561-87b3c0d59cbd",
   "metadata": {},
   "outputs": [],
   "source": [
    "bank_df.set_index('Sr. No',inplace=True)"
   ]
  },
  {
   "cell_type": "code",
   "execution_count": 178,
   "id": "89ee0bd6-5efb-41e4-9710-cea6178b698c",
   "metadata": {
    "tags": []
   },
   "outputs": [
    {
     "data": {
      "text/html": [
       "<div>\n",
       "<style scoped>\n",
       "    .dataframe tbody tr th:only-of-type {\n",
       "        vertical-align: middle;\n",
       "    }\n",
       "\n",
       "    .dataframe tbody tr th {\n",
       "        vertical-align: top;\n",
       "    }\n",
       "\n",
       "    .dataframe thead th {\n",
       "        text-align: right;\n",
       "    }\n",
       "</style>\n",
       "<table border=\"1\" class=\"dataframe\">\n",
       "  <thead>\n",
       "    <tr style=\"text-align: right;\">\n",
       "      <th></th>\n",
       "      <th>Response</th>\n",
       "      <th>Branch</th>\n",
       "      <th>Occupation</th>\n",
       "      <th>Age</th>\n",
       "      <th>Gender</th>\n",
       "      <th>Pleasant Ambiance</th>\n",
       "      <th>Comfortable seating arrangement</th>\n",
       "      <th>Immediate attenttion</th>\n",
       "      <th>Good Response on Phone</th>\n",
       "      <th>Errors in Passbook entries</th>\n",
       "      <th>Time to issue cheque book</th>\n",
       "      <th>Time to sanction loan</th>\n",
       "      <th>Time to clear outstation cheques</th>\n",
       "      <th>Issue of clean currency notes</th>\n",
       "      <th>Facility to pay bills</th>\n",
       "      <th>Distance to residence</th>\n",
       "      <th>Distance to workplace</th>\n",
       "      <th>Courteous staff behaviour</th>\n",
       "      <th>Enough parking place</th>\n",
       "    </tr>\n",
       "    <tr>\n",
       "      <th>Sr. No</th>\n",
       "      <th></th>\n",
       "      <th></th>\n",
       "      <th></th>\n",
       "      <th></th>\n",
       "      <th></th>\n",
       "      <th></th>\n",
       "      <th></th>\n",
       "      <th></th>\n",
       "      <th></th>\n",
       "      <th></th>\n",
       "      <th></th>\n",
       "      <th></th>\n",
       "      <th></th>\n",
       "      <th></th>\n",
       "      <th></th>\n",
       "      <th></th>\n",
       "      <th></th>\n",
       "      <th></th>\n",
       "      <th></th>\n",
       "    </tr>\n",
       "  </thead>\n",
       "  <tbody>\n",
       "  </tbody>\n",
       "</table>\n",
       "</div>"
      ],
      "text/plain": [
       "Empty DataFrame\n",
       "Columns: [Response, Branch, Occupation, Age, Gender, Pleasant Ambiance, Comfortable seating arrangement, Immediate attenttion, Good Response on Phone, Errors in Passbook entries, Time to issue cheque book, Time to sanction loan, Time to clear outstation cheques, Issue of clean currency notes, Facility to pay bills, Distance to residence, Distance to workplace, Courteous staff behaviour, Enough parking place]\n",
       "Index: []"
      ]
     },
     "execution_count": 178,
     "metadata": {},
     "output_type": "execute_result"
    }
   ],
   "source": [
    "bank_df[bank_df.duplicated()]"
   ]
  },
  {
   "cell_type": "markdown",
   "id": "31217b77-fc32-4d84-b458-2c20db641b1d",
   "metadata": {},
   "source": [
    "##### Columns with non numeric values"
   ]
  },
  {
   "cell_type": "code",
   "execution_count": 179,
   "id": "d0395938-180d-4c02-ba7d-a08aae809427",
   "metadata": {
    "tags": []
   },
   "outputs": [],
   "source": [
    "cols_with_non_numeric = [i for i in bank_df.columns if all(bank_df[i].str.match('^-?\\d')) == False]"
   ]
  },
  {
   "cell_type": "code",
   "execution_count": 180,
   "id": "5855b4b9-279a-4cd6-b0d3-888739f15eb9",
   "metadata": {
    "tags": []
   },
   "outputs": [
    {
     "data": {
      "text/plain": [
       "['Branch', 'Occupation', 'Gender']"
      ]
     },
     "execution_count": 180,
     "metadata": {},
     "output_type": "execute_result"
    }
   ],
   "source": [
    "cols_with_non_numeric"
   ]
  },
  {
   "cell_type": "code",
   "execution_count": 181,
   "id": "3cba3b2f-5b87-4820-abb0-9e6014ee1e27",
   "metadata": {},
   "outputs": [],
   "source": [
    "bank_df.drop(bank_df[bank_df['Gender'].str.match('\\d') == False].index,inplace=True)"
   ]
  },
  {
   "cell_type": "code",
   "execution_count": 182,
   "id": "0edc852b-72f1-4081-993f-16e74b32dc76",
   "metadata": {
    "tags": []
   },
   "outputs": [],
   "source": [
    "bank_df.drop(bank_df[bank_df['Occupation'].str.match('\\d') == False].index,inplace=True)"
   ]
  },
  {
   "cell_type": "markdown",
   "id": "67dce55c-d124-4eaf-aca0-c2107b888d2a",
   "metadata": {},
   "source": [
    "##### Columns with negative values for score"
   ]
  },
  {
   "cell_type": "code",
   "execution_count": 183,
   "id": "262a413c-6636-421b-b389-106a91df2503",
   "metadata": {
    "tags": []
   },
   "outputs": [],
   "source": [
    "cols_with_neg_numeric = [i for i in bank_df.columns if len(bank_df[bank_df[i].str.match('^-\\d') == False]) != len(bank_df)]"
   ]
  },
  {
   "cell_type": "code",
   "execution_count": 184,
   "id": "51a8c8fa-1149-4cbb-8fe3-383b020acd2a",
   "metadata": {
    "tags": []
   },
   "outputs": [],
   "source": [
    "rows_with_non_response = list(np.where(np.any((bank_df[bank_df.columns.drop(['Branch'])].astype(int).values < 0) == True,axis=1)))"
   ]
  },
  {
   "cell_type": "code",
   "execution_count": 185,
   "id": "e261b919-8b19-4c93-b343-39130be87ee2",
   "metadata": {
    "tags": []
   },
   "outputs": [
    {
     "data": {
      "text/plain": [
       "65"
      ]
     },
     "execution_count": 185,
     "metadata": {},
     "output_type": "execute_result"
    }
   ],
   "source": [
    "len(bank_df[(bank_df[bank_df.columns.drop(['Branch'])].astype(int).values < 0)])"
   ]
  },
  {
   "cell_type": "markdown",
   "id": "060a22af-0d0b-41aa-b867-7eab7ee9fb9e",
   "metadata": {},
   "source": [
    "##### Dropping rows with Non-response"
   ]
  },
  {
   "cell_type": "code",
   "execution_count": 186,
   "id": "5e8c8680-f32c-41cb-8296-d10af4a4a4b3",
   "metadata": {},
   "outputs": [],
   "source": [
    "bank_df.drop(bank_df[(bank_df[bank_df.columns.drop(['Branch'])].astype(int).values < 0)].index,inplace=True)"
   ]
  },
  {
   "cell_type": "code",
   "execution_count": 187,
   "id": "7d5aafb9-8113-49dc-93c6-913da8552deb",
   "metadata": {},
   "outputs": [],
   "source": [
    "bank_df.reset_index(inplace=True)"
   ]
  },
  {
   "cell_type": "code",
   "execution_count": 188,
   "id": "42b3127f-fd28-4850-aa35-af8453416e26",
   "metadata": {},
   "outputs": [
    {
     "data": {
      "text/html": [
       "<div>\n",
       "<style scoped>\n",
       "    .dataframe tbody tr th:only-of-type {\n",
       "        vertical-align: middle;\n",
       "    }\n",
       "\n",
       "    .dataframe tbody tr th {\n",
       "        vertical-align: top;\n",
       "    }\n",
       "\n",
       "    .dataframe thead th {\n",
       "        text-align: right;\n",
       "    }\n",
       "</style>\n",
       "<table border=\"1\" class=\"dataframe\">\n",
       "  <thead>\n",
       "    <tr style=\"text-align: right;\">\n",
       "      <th></th>\n",
       "      <th>Sr. No</th>\n",
       "      <th>Response</th>\n",
       "      <th>Branch</th>\n",
       "      <th>Occupation</th>\n",
       "      <th>Age</th>\n",
       "      <th>Gender</th>\n",
       "      <th>Pleasant Ambiance</th>\n",
       "      <th>Comfortable seating arrangement</th>\n",
       "      <th>Immediate attenttion</th>\n",
       "      <th>Good Response on Phone</th>\n",
       "      <th>Errors in Passbook entries</th>\n",
       "      <th>Time to issue cheque book</th>\n",
       "      <th>Time to sanction loan</th>\n",
       "      <th>Time to clear outstation cheques</th>\n",
       "      <th>Issue of clean currency notes</th>\n",
       "      <th>Facility to pay bills</th>\n",
       "      <th>Distance to residence</th>\n",
       "      <th>Distance to workplace</th>\n",
       "      <th>Courteous staff behaviour</th>\n",
       "      <th>Enough parking place</th>\n",
       "    </tr>\n",
       "  </thead>\n",
       "  <tbody>\n",
       "    <tr>\n",
       "      <th>0</th>\n",
       "      <td>2</td>\n",
       "      <td>0</td>\n",
       "      <td>B1</td>\n",
       "      <td>1</td>\n",
       "      <td>5</td>\n",
       "      <td>1</td>\n",
       "      <td>10</td>\n",
       "      <td>8</td>\n",
       "      <td>8</td>\n",
       "      <td>6</td>\n",
       "      <td>10</td>\n",
       "      <td>8</td>\n",
       "      <td>9</td>\n",
       "      <td>6</td>\n",
       "      <td>8</td>\n",
       "      <td>6</td>\n",
       "      <td>8</td>\n",
       "      <td>7</td>\n",
       "      <td>10</td>\n",
       "      <td>10</td>\n",
       "    </tr>\n",
       "    <tr>\n",
       "      <th>1</th>\n",
       "      <td>3</td>\n",
       "      <td>0</td>\n",
       "      <td>B1</td>\n",
       "      <td>0</td>\n",
       "      <td>5</td>\n",
       "      <td>1</td>\n",
       "      <td>4</td>\n",
       "      <td>8</td>\n",
       "      <td>7</td>\n",
       "      <td>8</td>\n",
       "      <td>5</td>\n",
       "      <td>7</td>\n",
       "      <td>4</td>\n",
       "      <td>5</td>\n",
       "      <td>7</td>\n",
       "      <td>6</td>\n",
       "      <td>8</td>\n",
       "      <td>7</td>\n",
       "      <td>9</td>\n",
       "      <td>6</td>\n",
       "    </tr>\n",
       "    <tr>\n",
       "      <th>2</th>\n",
       "      <td>4</td>\n",
       "      <td>0</td>\n",
       "      <td>B1</td>\n",
       "      <td>6</td>\n",
       "      <td>4</td>\n",
       "      <td>2</td>\n",
       "      <td>4</td>\n",
       "      <td>6</td>\n",
       "      <td>6</td>\n",
       "      <td>8</td>\n",
       "      <td>6</td>\n",
       "      <td>4</td>\n",
       "      <td>4</td>\n",
       "      <td>5</td>\n",
       "      <td>6</td>\n",
       "      <td>6</td>\n",
       "      <td>9</td>\n",
       "      <td>6</td>\n",
       "      <td>9</td>\n",
       "      <td>5</td>\n",
       "    </tr>\n",
       "    <tr>\n",
       "      <th>3</th>\n",
       "      <td>5</td>\n",
       "      <td>0</td>\n",
       "      <td>B1</td>\n",
       "      <td>1</td>\n",
       "      <td>2</td>\n",
       "      <td>1</td>\n",
       "      <td>10</td>\n",
       "      <td>8</td>\n",
       "      <td>6</td>\n",
       "      <td>10</td>\n",
       "      <td>8</td>\n",
       "      <td>8</td>\n",
       "      <td>5</td>\n",
       "      <td>7</td>\n",
       "      <td>8</td>\n",
       "      <td>7</td>\n",
       "      <td>10</td>\n",
       "      <td>10</td>\n",
       "      <td>5</td>\n",
       "      <td>8</td>\n",
       "    </tr>\n",
       "    <tr>\n",
       "      <th>4</th>\n",
       "      <td>6</td>\n",
       "      <td>0</td>\n",
       "      <td>B1</td>\n",
       "      <td>2</td>\n",
       "      <td>3</td>\n",
       "      <td>1</td>\n",
       "      <td>7</td>\n",
       "      <td>8</td>\n",
       "      <td>6</td>\n",
       "      <td>7</td>\n",
       "      <td>8</td>\n",
       "      <td>7</td>\n",
       "      <td>7</td>\n",
       "      <td>7</td>\n",
       "      <td>6</td>\n",
       "      <td>7</td>\n",
       "      <td>8</td>\n",
       "      <td>7</td>\n",
       "      <td>8</td>\n",
       "      <td>7</td>\n",
       "    </tr>\n",
       "  </tbody>\n",
       "</table>\n",
       "</div>"
      ],
      "text/plain": [
       "  Sr. No Response Branch Occupation Age Gender Pleasant Ambiance  \\\n",
       "0      2        0     B1          1   5      1                10   \n",
       "1      3        0     B1          0   5      1                 4   \n",
       "2      4        0     B1          6   4      2                 4   \n",
       "3      5        0     B1          1   2      1                10   \n",
       "4      6        0     B1          2   3      1                 7   \n",
       "\n",
       "  Comfortable seating arrangement Immediate attenttion Good Response on Phone  \\\n",
       "0                               8                    8                      6   \n",
       "1                               8                    7                      8   \n",
       "2                               6                    6                      8   \n",
       "3                               8                    6                     10   \n",
       "4                               8                    6                      7   \n",
       "\n",
       "  Errors in Passbook entries Time to issue cheque book Time to sanction loan  \\\n",
       "0                         10                         8                     9   \n",
       "1                          5                         7                     4   \n",
       "2                          6                         4                     4   \n",
       "3                          8                         8                     5   \n",
       "4                          8                         7                     7   \n",
       "\n",
       "  Time to clear outstation cheques Issue of clean currency notes  \\\n",
       "0                                6                             8   \n",
       "1                                5                             7   \n",
       "2                                5                             6   \n",
       "3                                7                             8   \n",
       "4                                7                             6   \n",
       "\n",
       "  Facility to pay bills Distance to residence Distance to workplace  \\\n",
       "0                     6                     8                     7   \n",
       "1                     6                     8                     7   \n",
       "2                     6                     9                     6   \n",
       "3                     7                    10                    10   \n",
       "4                     7                     8                     7   \n",
       "\n",
       "  Courteous staff behaviour Enough parking place  \n",
       "0                        10                   10  \n",
       "1                         9                    6  \n",
       "2                         9                    5  \n",
       "3                         5                    8  \n",
       "4                         8                    7  "
      ]
     },
     "execution_count": 188,
     "metadata": {},
     "output_type": "execute_result"
    }
   ],
   "source": [
    "bank_df.head()"
   ]
  },
  {
   "cell_type": "markdown",
   "id": "aff2bae7-1db2-491c-a884-5aab52ee1a4e",
   "metadata": {},
   "source": [
    "bank_df = bank_df.astype('category')"
   ]
  },
  {
   "cell_type": "code",
   "execution_count": 189,
   "id": "add958a9-7d1a-4cbe-b81f-e9e240680adb",
   "metadata": {},
   "outputs": [],
   "source": [
    "bank_df = bank_df.drop(columns=['Branch']).join(pd.get_dummies(bank_df['Branch'],prefix='Branch',dtype=int))"
   ]
  },
  {
   "cell_type": "code",
   "execution_count": 190,
   "id": "d3c9883d-bd34-4770-a09e-c38f60d79ef8",
   "metadata": {},
   "outputs": [],
   "source": [
    "bank_df = bank_df.astype(int)"
   ]
  },
  {
   "cell_type": "code",
   "execution_count": 191,
   "id": "61e6aff7-7bba-4c95-86d4-caacff0b949c",
   "metadata": {},
   "outputs": [],
   "source": [
    "cat_var_lst = ['Pleasant Ambiance',\n",
    "       'Comfortable seating arrangement', 'Immediate attenttion',\n",
    "       'Good Response on Phone', 'Errors in Passbook entries',\n",
    "       'Time to issue cheque book', 'Time to sanction loan',\n",
    "       'Time to clear outstation cheques', 'Issue of clean currency notes',\n",
    "       'Facility to pay bills', 'Distance to residence',\n",
    "       'Distance to workplace', 'Courteous staff behaviour',\n",
    "       'Enough parking place']"
   ]
  },
  {
   "cell_type": "code",
   "execution_count": 192,
   "id": "8fecb2d8-ceb7-4038-ae56-2ef3c7b54b58",
   "metadata": {},
   "outputs": [],
   "source": [
    "for i in cat_var_lst:\n",
    "    bank_df[i] = bank_df[i].astype('category')"
   ]
  },
  {
   "cell_type": "code",
   "execution_count": 193,
   "id": "4e56a93e-d396-4a57-baa9-40f3756c132f",
   "metadata": {},
   "outputs": [],
   "source": [
    "occupation_mapper = {1:'Business',2:'Private Service',3:'Government Service',4:'Student',5:'Defence',6:'Housewife',7:'Professional',8:'Others'}"
   ]
  },
  {
   "cell_type": "code",
   "execution_count": 194,
   "id": "8d3af704-d474-4df3-9bb5-bcb80eecebe0",
   "metadata": {},
   "outputs": [],
   "source": [
    "age_mapper = {1:'<20',2:'20-30',3:'30-40',4:'40-58',5:'>58'}"
   ]
  },
  {
   "cell_type": "code",
   "execution_count": 195,
   "id": "2fa63ded-be5e-4431-bef3-c22eaebc017f",
   "metadata": {},
   "outputs": [],
   "source": [
    "gender_mapper = {1:'Male',2:'Female'}"
   ]
  },
  {
   "cell_type": "code",
   "execution_count": 196,
   "id": "2abe10b5-bafb-47bc-b123-619cac32b9eb",
   "metadata": {},
   "outputs": [],
   "source": [
    "bank_df['Occupation'] = bank_df['Occupation'].map(occupation_mapper)"
   ]
  },
  {
   "cell_type": "code",
   "execution_count": 197,
   "id": "5bde6a02-4b68-49b4-8e65-7b228ecca31d",
   "metadata": {},
   "outputs": [],
   "source": [
    "bank_df['Age'] = bank_df['Age'].map(age_mapper)"
   ]
  },
  {
   "cell_type": "code",
   "execution_count": 198,
   "id": "f24cf21a-db2b-4fd8-80f3-55e742449f69",
   "metadata": {},
   "outputs": [],
   "source": [
    "bank_df['Gender'] = bank_df['Gender'].map(gender_mapper)"
   ]
  },
  {
   "cell_type": "code",
   "execution_count": 140,
   "id": "2021b19e-82bc-49ee-a403-2fa25d291ff5",
   "metadata": {},
   "outputs": [],
   "source": [
    "bank_df = bank_df.drop(columns=['Occupation']).join(pd.get_dummies(bank_df['Occupation'],prefix='Occupation',dtype=int))"
   ]
  },
  {
   "cell_type": "code",
   "execution_count": 141,
   "id": "dd69a4bf-8231-4da2-b442-347cda2414ea",
   "metadata": {},
   "outputs": [],
   "source": [
    "bank_df = bank_df.drop(columns=['Age']).join(pd.get_dummies(bank_df['Age'],prefix='Age',dtype=int))"
   ]
  },
  {
   "cell_type": "code",
   "execution_count": 142,
   "id": "a494e68b-73ca-497d-b9a8-67476e18a225",
   "metadata": {},
   "outputs": [],
   "source": [
    "bank_df = bank_df.drop(columns=['Gender']).join(pd.get_dummies(bank_df['Gender'],prefix='Gender',dtype=int))"
   ]
  },
  {
   "cell_type": "code",
   "execution_count": 143,
   "id": "05c289c4-4b48-4087-a2d5-4f3849024f7c",
   "metadata": {
    "scrolled": true
   },
   "outputs": [
    {
     "data": {
      "text/html": [
       "<div>\n",
       "<style scoped>\n",
       "    .dataframe tbody tr th:only-of-type {\n",
       "        vertical-align: middle;\n",
       "    }\n",
       "\n",
       "    .dataframe tbody tr th {\n",
       "        vertical-align: top;\n",
       "    }\n",
       "\n",
       "    .dataframe thead th {\n",
       "        text-align: right;\n",
       "    }\n",
       "</style>\n",
       "<table border=\"1\" class=\"dataframe\">\n",
       "  <thead>\n",
       "    <tr style=\"text-align: right;\">\n",
       "      <th></th>\n",
       "      <th>Sr. No</th>\n",
       "      <th>Response</th>\n",
       "      <th>Pleasant Ambiance</th>\n",
       "      <th>Comfortable seating arrangement</th>\n",
       "      <th>Immediate attenttion</th>\n",
       "      <th>Good Response on Phone</th>\n",
       "      <th>Errors in Passbook entries</th>\n",
       "      <th>Time to issue cheque book</th>\n",
       "      <th>Time to sanction loan</th>\n",
       "      <th>Time to clear outstation cheques</th>\n",
       "      <th>...</th>\n",
       "      <th>Occupation_Housewife</th>\n",
       "      <th>Occupation_Private Service</th>\n",
       "      <th>Occupation_Student</th>\n",
       "      <th>Age_20-30</th>\n",
       "      <th>Age_30-40</th>\n",
       "      <th>Age_40-58</th>\n",
       "      <th>Age_&lt;20</th>\n",
       "      <th>Age_&gt;58</th>\n",
       "      <th>Gender_Female</th>\n",
       "      <th>Gender_Male</th>\n",
       "    </tr>\n",
       "  </thead>\n",
       "  <tbody>\n",
       "    <tr>\n",
       "      <th>0</th>\n",
       "      <td>2</td>\n",
       "      <td>0</td>\n",
       "      <td>10</td>\n",
       "      <td>8</td>\n",
       "      <td>8</td>\n",
       "      <td>6</td>\n",
       "      <td>10</td>\n",
       "      <td>8</td>\n",
       "      <td>9</td>\n",
       "      <td>6</td>\n",
       "      <td>...</td>\n",
       "      <td>0</td>\n",
       "      <td>0</td>\n",
       "      <td>0</td>\n",
       "      <td>0</td>\n",
       "      <td>0</td>\n",
       "      <td>0</td>\n",
       "      <td>0</td>\n",
       "      <td>1</td>\n",
       "      <td>0</td>\n",
       "      <td>1</td>\n",
       "    </tr>\n",
       "    <tr>\n",
       "      <th>1</th>\n",
       "      <td>3</td>\n",
       "      <td>0</td>\n",
       "      <td>4</td>\n",
       "      <td>8</td>\n",
       "      <td>7</td>\n",
       "      <td>8</td>\n",
       "      <td>5</td>\n",
       "      <td>7</td>\n",
       "      <td>4</td>\n",
       "      <td>5</td>\n",
       "      <td>...</td>\n",
       "      <td>0</td>\n",
       "      <td>0</td>\n",
       "      <td>0</td>\n",
       "      <td>0</td>\n",
       "      <td>0</td>\n",
       "      <td>0</td>\n",
       "      <td>0</td>\n",
       "      <td>1</td>\n",
       "      <td>0</td>\n",
       "      <td>1</td>\n",
       "    </tr>\n",
       "    <tr>\n",
       "      <th>2</th>\n",
       "      <td>4</td>\n",
       "      <td>0</td>\n",
       "      <td>4</td>\n",
       "      <td>6</td>\n",
       "      <td>6</td>\n",
       "      <td>8</td>\n",
       "      <td>6</td>\n",
       "      <td>4</td>\n",
       "      <td>4</td>\n",
       "      <td>5</td>\n",
       "      <td>...</td>\n",
       "      <td>1</td>\n",
       "      <td>0</td>\n",
       "      <td>0</td>\n",
       "      <td>0</td>\n",
       "      <td>0</td>\n",
       "      <td>1</td>\n",
       "      <td>0</td>\n",
       "      <td>0</td>\n",
       "      <td>1</td>\n",
       "      <td>0</td>\n",
       "    </tr>\n",
       "    <tr>\n",
       "      <th>3</th>\n",
       "      <td>5</td>\n",
       "      <td>0</td>\n",
       "      <td>10</td>\n",
       "      <td>8</td>\n",
       "      <td>6</td>\n",
       "      <td>10</td>\n",
       "      <td>8</td>\n",
       "      <td>8</td>\n",
       "      <td>5</td>\n",
       "      <td>7</td>\n",
       "      <td>...</td>\n",
       "      <td>0</td>\n",
       "      <td>0</td>\n",
       "      <td>0</td>\n",
       "      <td>1</td>\n",
       "      <td>0</td>\n",
       "      <td>0</td>\n",
       "      <td>0</td>\n",
       "      <td>0</td>\n",
       "      <td>0</td>\n",
       "      <td>1</td>\n",
       "    </tr>\n",
       "    <tr>\n",
       "      <th>4</th>\n",
       "      <td>6</td>\n",
       "      <td>0</td>\n",
       "      <td>7</td>\n",
       "      <td>8</td>\n",
       "      <td>6</td>\n",
       "      <td>7</td>\n",
       "      <td>8</td>\n",
       "      <td>7</td>\n",
       "      <td>7</td>\n",
       "      <td>7</td>\n",
       "      <td>...</td>\n",
       "      <td>0</td>\n",
       "      <td>1</td>\n",
       "      <td>0</td>\n",
       "      <td>0</td>\n",
       "      <td>1</td>\n",
       "      <td>0</td>\n",
       "      <td>0</td>\n",
       "      <td>0</td>\n",
       "      <td>0</td>\n",
       "      <td>1</td>\n",
       "    </tr>\n",
       "  </tbody>\n",
       "</table>\n",
       "<p>5 rows × 39 columns</p>\n",
       "</div>"
      ],
      "text/plain": [
       "   Sr. No  Response Pleasant Ambiance Comfortable seating arrangement  \\\n",
       "0       2         0                10                               8   \n",
       "1       3         0                 4                               8   \n",
       "2       4         0                 4                               6   \n",
       "3       5         0                10                               8   \n",
       "4       6         0                 7                               8   \n",
       "\n",
       "  Immediate attenttion Good Response on Phone Errors in Passbook entries  \\\n",
       "0                    8                      6                         10   \n",
       "1                    7                      8                          5   \n",
       "2                    6                      8                          6   \n",
       "3                    6                     10                          8   \n",
       "4                    6                      7                          8   \n",
       "\n",
       "  Time to issue cheque book Time to sanction loan  \\\n",
       "0                         8                     9   \n",
       "1                         7                     4   \n",
       "2                         4                     4   \n",
       "3                         8                     5   \n",
       "4                         7                     7   \n",
       "\n",
       "  Time to clear outstation cheques  ... Occupation_Housewife  \\\n",
       "0                                6  ...                    0   \n",
       "1                                5  ...                    0   \n",
       "2                                5  ...                    1   \n",
       "3                                7  ...                    0   \n",
       "4                                7  ...                    0   \n",
       "\n",
       "  Occupation_Private Service Occupation_Student Age_20-30 Age_30-40 Age_40-58  \\\n",
       "0                          0                  0         0         0         0   \n",
       "1                          0                  0         0         0         0   \n",
       "2                          0                  0         0         0         1   \n",
       "3                          0                  0         1         0         0   \n",
       "4                          1                  0         0         1         0   \n",
       "\n",
       "   Age_<20  Age_>58  Gender_Female  Gender_Male  \n",
       "0        0        1              0            1  \n",
       "1        0        1              0            1  \n",
       "2        0        0              1            0  \n",
       "3        0        0              0            1  \n",
       "4        0        0              0            1  \n",
       "\n",
       "[5 rows x 39 columns]"
      ]
     },
     "execution_count": 143,
     "metadata": {},
     "output_type": "execute_result"
    }
   ],
   "source": [
    "bank_df.head()"
   ]
  },
  {
   "cell_type": "code",
   "execution_count": 34,
   "id": "493c0b30-4188-4da1-ac26-52efe6f6669e",
   "metadata": {},
   "outputs": [],
   "source": [
    "x_train, x_test, y_train, y_test = train_test_split(bank_df.drop(columns=['Sr. No','Response']),bank_df['Response'],test_size=0.4,random_state=42)"
   ]
  },
  {
   "cell_type": "markdown",
   "id": "d09e0977-94a2-4a05-ac51-eecb7f888572",
   "metadata": {},
   "source": [
    "```python\n",
    "model_log = LogisticRegression(solver='liblinear',penalty='l1',C=0.1)\n",
    "```"
   ]
  },
  {
   "cell_type": "code",
   "execution_count": 35,
   "id": "cada521c-ca16-451c-9351-941e2865bb01",
   "metadata": {},
   "outputs": [],
   "source": [
    "model_log = LogisticRegression(solver='liblinear')"
   ]
  },
  {
   "cell_type": "code",
   "execution_count": 36,
   "id": "8aeb41e2-5015-40ab-a031-9a30f32a653f",
   "metadata": {},
   "outputs": [],
   "source": [
    "model_log = model_log.fit(x_train,y_train)"
   ]
  },
  {
   "cell_type": "code",
   "execution_count": 37,
   "id": "311e4206-8201-45f2-a2b5-7837058583d3",
   "metadata": {},
   "outputs": [
    {
     "data": {
      "text/html": [
       "<style>#sk-container-id-1 {\n",
       "  /* Definition of color scheme common for light and dark mode */\n",
       "  --sklearn-color-text: black;\n",
       "  --sklearn-color-line: gray;\n",
       "  /* Definition of color scheme for unfitted estimators */\n",
       "  --sklearn-color-unfitted-level-0: #fff5e6;\n",
       "  --sklearn-color-unfitted-level-1: #f6e4d2;\n",
       "  --sklearn-color-unfitted-level-2: #ffe0b3;\n",
       "  --sklearn-color-unfitted-level-3: chocolate;\n",
       "  /* Definition of color scheme for fitted estimators */\n",
       "  --sklearn-color-fitted-level-0: #f0f8ff;\n",
       "  --sklearn-color-fitted-level-1: #d4ebff;\n",
       "  --sklearn-color-fitted-level-2: #b3dbfd;\n",
       "  --sklearn-color-fitted-level-3: cornflowerblue;\n",
       "\n",
       "  /* Specific color for light theme */\n",
       "  --sklearn-color-text-on-default-background: var(--sg-text-color, var(--theme-code-foreground, var(--jp-content-font-color1, black)));\n",
       "  --sklearn-color-background: var(--sg-background-color, var(--theme-background, var(--jp-layout-color0, white)));\n",
       "  --sklearn-color-border-box: var(--sg-text-color, var(--theme-code-foreground, var(--jp-content-font-color1, black)));\n",
       "  --sklearn-color-icon: #696969;\n",
       "\n",
       "  @media (prefers-color-scheme: dark) {\n",
       "    /* Redefinition of color scheme for dark theme */\n",
       "    --sklearn-color-text-on-default-background: var(--sg-text-color, var(--theme-code-foreground, var(--jp-content-font-color1, white)));\n",
       "    --sklearn-color-background: var(--sg-background-color, var(--theme-background, var(--jp-layout-color0, #111)));\n",
       "    --sklearn-color-border-box: var(--sg-text-color, var(--theme-code-foreground, var(--jp-content-font-color1, white)));\n",
       "    --sklearn-color-icon: #878787;\n",
       "  }\n",
       "}\n",
       "\n",
       "#sk-container-id-1 {\n",
       "  color: var(--sklearn-color-text);\n",
       "}\n",
       "\n",
       "#sk-container-id-1 pre {\n",
       "  padding: 0;\n",
       "}\n",
       "\n",
       "#sk-container-id-1 input.sk-hidden--visually {\n",
       "  border: 0;\n",
       "  clip: rect(1px 1px 1px 1px);\n",
       "  clip: rect(1px, 1px, 1px, 1px);\n",
       "  height: 1px;\n",
       "  margin: -1px;\n",
       "  overflow: hidden;\n",
       "  padding: 0;\n",
       "  position: absolute;\n",
       "  width: 1px;\n",
       "}\n",
       "\n",
       "#sk-container-id-1 div.sk-dashed-wrapped {\n",
       "  border: 1px dashed var(--sklearn-color-line);\n",
       "  margin: 0 0.4em 0.5em 0.4em;\n",
       "  box-sizing: border-box;\n",
       "  padding-bottom: 0.4em;\n",
       "  background-color: var(--sklearn-color-background);\n",
       "}\n",
       "\n",
       "#sk-container-id-1 div.sk-container {\n",
       "  /* jupyter's `normalize.less` sets `[hidden] { display: none; }`\n",
       "     but bootstrap.min.css set `[hidden] { display: none !important; }`\n",
       "     so we also need the `!important` here to be able to override the\n",
       "     default hidden behavior on the sphinx rendered scikit-learn.org.\n",
       "     See: https://github.com/scikit-learn/scikit-learn/issues/21755 */\n",
       "  display: inline-block !important;\n",
       "  position: relative;\n",
       "}\n",
       "\n",
       "#sk-container-id-1 div.sk-text-repr-fallback {\n",
       "  display: none;\n",
       "}\n",
       "\n",
       "div.sk-parallel-item,\n",
       "div.sk-serial,\n",
       "div.sk-item {\n",
       "  /* draw centered vertical line to link estimators */\n",
       "  background-image: linear-gradient(var(--sklearn-color-text-on-default-background), var(--sklearn-color-text-on-default-background));\n",
       "  background-size: 2px 100%;\n",
       "  background-repeat: no-repeat;\n",
       "  background-position: center center;\n",
       "}\n",
       "\n",
       "/* Parallel-specific style estimator block */\n",
       "\n",
       "#sk-container-id-1 div.sk-parallel-item::after {\n",
       "  content: \"\";\n",
       "  width: 100%;\n",
       "  border-bottom: 2px solid var(--sklearn-color-text-on-default-background);\n",
       "  flex-grow: 1;\n",
       "}\n",
       "\n",
       "#sk-container-id-1 div.sk-parallel {\n",
       "  display: flex;\n",
       "  align-items: stretch;\n",
       "  justify-content: center;\n",
       "  background-color: var(--sklearn-color-background);\n",
       "  position: relative;\n",
       "}\n",
       "\n",
       "#sk-container-id-1 div.sk-parallel-item {\n",
       "  display: flex;\n",
       "  flex-direction: column;\n",
       "}\n",
       "\n",
       "#sk-container-id-1 div.sk-parallel-item:first-child::after {\n",
       "  align-self: flex-end;\n",
       "  width: 50%;\n",
       "}\n",
       "\n",
       "#sk-container-id-1 div.sk-parallel-item:last-child::after {\n",
       "  align-self: flex-start;\n",
       "  width: 50%;\n",
       "}\n",
       "\n",
       "#sk-container-id-1 div.sk-parallel-item:only-child::after {\n",
       "  width: 0;\n",
       "}\n",
       "\n",
       "/* Serial-specific style estimator block */\n",
       "\n",
       "#sk-container-id-1 div.sk-serial {\n",
       "  display: flex;\n",
       "  flex-direction: column;\n",
       "  align-items: center;\n",
       "  background-color: var(--sklearn-color-background);\n",
       "  padding-right: 1em;\n",
       "  padding-left: 1em;\n",
       "}\n",
       "\n",
       "\n",
       "/* Toggleable style: style used for estimator/Pipeline/ColumnTransformer box that is\n",
       "clickable and can be expanded/collapsed.\n",
       "- Pipeline and ColumnTransformer use this feature and define the default style\n",
       "- Estimators will overwrite some part of the style using the `sk-estimator` class\n",
       "*/\n",
       "\n",
       "/* Pipeline and ColumnTransformer style (default) */\n",
       "\n",
       "#sk-container-id-1 div.sk-toggleable {\n",
       "  /* Default theme specific background. It is overwritten whether we have a\n",
       "  specific estimator or a Pipeline/ColumnTransformer */\n",
       "  background-color: var(--sklearn-color-background);\n",
       "}\n",
       "\n",
       "/* Toggleable label */\n",
       "#sk-container-id-1 label.sk-toggleable__label {\n",
       "  cursor: pointer;\n",
       "  display: block;\n",
       "  width: 100%;\n",
       "  margin-bottom: 0;\n",
       "  padding: 0.5em;\n",
       "  box-sizing: border-box;\n",
       "  text-align: center;\n",
       "}\n",
       "\n",
       "#sk-container-id-1 label.sk-toggleable__label-arrow:before {\n",
       "  /* Arrow on the left of the label */\n",
       "  content: \"▸\";\n",
       "  float: left;\n",
       "  margin-right: 0.25em;\n",
       "  color: var(--sklearn-color-icon);\n",
       "}\n",
       "\n",
       "#sk-container-id-1 label.sk-toggleable__label-arrow:hover:before {\n",
       "  color: var(--sklearn-color-text);\n",
       "}\n",
       "\n",
       "/* Toggleable content - dropdown */\n",
       "\n",
       "#sk-container-id-1 div.sk-toggleable__content {\n",
       "  max-height: 0;\n",
       "  max-width: 0;\n",
       "  overflow: hidden;\n",
       "  text-align: left;\n",
       "  /* unfitted */\n",
       "  background-color: var(--sklearn-color-unfitted-level-0);\n",
       "}\n",
       "\n",
       "#sk-container-id-1 div.sk-toggleable__content.fitted {\n",
       "  /* fitted */\n",
       "  background-color: var(--sklearn-color-fitted-level-0);\n",
       "}\n",
       "\n",
       "#sk-container-id-1 div.sk-toggleable__content pre {\n",
       "  margin: 0.2em;\n",
       "  border-radius: 0.25em;\n",
       "  color: var(--sklearn-color-text);\n",
       "  /* unfitted */\n",
       "  background-color: var(--sklearn-color-unfitted-level-0);\n",
       "}\n",
       "\n",
       "#sk-container-id-1 div.sk-toggleable__content.fitted pre {\n",
       "  /* unfitted */\n",
       "  background-color: var(--sklearn-color-fitted-level-0);\n",
       "}\n",
       "\n",
       "#sk-container-id-1 input.sk-toggleable__control:checked~div.sk-toggleable__content {\n",
       "  /* Expand drop-down */\n",
       "  max-height: 200px;\n",
       "  max-width: 100%;\n",
       "  overflow: auto;\n",
       "}\n",
       "\n",
       "#sk-container-id-1 input.sk-toggleable__control:checked~label.sk-toggleable__label-arrow:before {\n",
       "  content: \"▾\";\n",
       "}\n",
       "\n",
       "/* Pipeline/ColumnTransformer-specific style */\n",
       "\n",
       "#sk-container-id-1 div.sk-label input.sk-toggleable__control:checked~label.sk-toggleable__label {\n",
       "  color: var(--sklearn-color-text);\n",
       "  background-color: var(--sklearn-color-unfitted-level-2);\n",
       "}\n",
       "\n",
       "#sk-container-id-1 div.sk-label.fitted input.sk-toggleable__control:checked~label.sk-toggleable__label {\n",
       "  background-color: var(--sklearn-color-fitted-level-2);\n",
       "}\n",
       "\n",
       "/* Estimator-specific style */\n",
       "\n",
       "/* Colorize estimator box */\n",
       "#sk-container-id-1 div.sk-estimator input.sk-toggleable__control:checked~label.sk-toggleable__label {\n",
       "  /* unfitted */\n",
       "  background-color: var(--sklearn-color-unfitted-level-2);\n",
       "}\n",
       "\n",
       "#sk-container-id-1 div.sk-estimator.fitted input.sk-toggleable__control:checked~label.sk-toggleable__label {\n",
       "  /* fitted */\n",
       "  background-color: var(--sklearn-color-fitted-level-2);\n",
       "}\n",
       "\n",
       "#sk-container-id-1 div.sk-label label.sk-toggleable__label,\n",
       "#sk-container-id-1 div.sk-label label {\n",
       "  /* The background is the default theme color */\n",
       "  color: var(--sklearn-color-text-on-default-background);\n",
       "}\n",
       "\n",
       "/* On hover, darken the color of the background */\n",
       "#sk-container-id-1 div.sk-label:hover label.sk-toggleable__label {\n",
       "  color: var(--sklearn-color-text);\n",
       "  background-color: var(--sklearn-color-unfitted-level-2);\n",
       "}\n",
       "\n",
       "/* Label box, darken color on hover, fitted */\n",
       "#sk-container-id-1 div.sk-label.fitted:hover label.sk-toggleable__label.fitted {\n",
       "  color: var(--sklearn-color-text);\n",
       "  background-color: var(--sklearn-color-fitted-level-2);\n",
       "}\n",
       "\n",
       "/* Estimator label */\n",
       "\n",
       "#sk-container-id-1 div.sk-label label {\n",
       "  font-family: monospace;\n",
       "  font-weight: bold;\n",
       "  display: inline-block;\n",
       "  line-height: 1.2em;\n",
       "}\n",
       "\n",
       "#sk-container-id-1 div.sk-label-container {\n",
       "  text-align: center;\n",
       "}\n",
       "\n",
       "/* Estimator-specific */\n",
       "#sk-container-id-1 div.sk-estimator {\n",
       "  font-family: monospace;\n",
       "  border: 1px dotted var(--sklearn-color-border-box);\n",
       "  border-radius: 0.25em;\n",
       "  box-sizing: border-box;\n",
       "  margin-bottom: 0.5em;\n",
       "  /* unfitted */\n",
       "  background-color: var(--sklearn-color-unfitted-level-0);\n",
       "}\n",
       "\n",
       "#sk-container-id-1 div.sk-estimator.fitted {\n",
       "  /* fitted */\n",
       "  background-color: var(--sklearn-color-fitted-level-0);\n",
       "}\n",
       "\n",
       "/* on hover */\n",
       "#sk-container-id-1 div.sk-estimator:hover {\n",
       "  /* unfitted */\n",
       "  background-color: var(--sklearn-color-unfitted-level-2);\n",
       "}\n",
       "\n",
       "#sk-container-id-1 div.sk-estimator.fitted:hover {\n",
       "  /* fitted */\n",
       "  background-color: var(--sklearn-color-fitted-level-2);\n",
       "}\n",
       "\n",
       "/* Specification for estimator info (e.g. \"i\" and \"?\") */\n",
       "\n",
       "/* Common style for \"i\" and \"?\" */\n",
       "\n",
       ".sk-estimator-doc-link,\n",
       "a:link.sk-estimator-doc-link,\n",
       "a:visited.sk-estimator-doc-link {\n",
       "  float: right;\n",
       "  font-size: smaller;\n",
       "  line-height: 1em;\n",
       "  font-family: monospace;\n",
       "  background-color: var(--sklearn-color-background);\n",
       "  border-radius: 1em;\n",
       "  height: 1em;\n",
       "  width: 1em;\n",
       "  text-decoration: none !important;\n",
       "  margin-left: 1ex;\n",
       "  /* unfitted */\n",
       "  border: var(--sklearn-color-unfitted-level-1) 1pt solid;\n",
       "  color: var(--sklearn-color-unfitted-level-1);\n",
       "}\n",
       "\n",
       ".sk-estimator-doc-link.fitted,\n",
       "a:link.sk-estimator-doc-link.fitted,\n",
       "a:visited.sk-estimator-doc-link.fitted {\n",
       "  /* fitted */\n",
       "  border: var(--sklearn-color-fitted-level-1) 1pt solid;\n",
       "  color: var(--sklearn-color-fitted-level-1);\n",
       "}\n",
       "\n",
       "/* On hover */\n",
       "div.sk-estimator:hover .sk-estimator-doc-link:hover,\n",
       ".sk-estimator-doc-link:hover,\n",
       "div.sk-label-container:hover .sk-estimator-doc-link:hover,\n",
       ".sk-estimator-doc-link:hover {\n",
       "  /* unfitted */\n",
       "  background-color: var(--sklearn-color-unfitted-level-3);\n",
       "  color: var(--sklearn-color-background);\n",
       "  text-decoration: none;\n",
       "}\n",
       "\n",
       "div.sk-estimator.fitted:hover .sk-estimator-doc-link.fitted:hover,\n",
       ".sk-estimator-doc-link.fitted:hover,\n",
       "div.sk-label-container:hover .sk-estimator-doc-link.fitted:hover,\n",
       ".sk-estimator-doc-link.fitted:hover {\n",
       "  /* fitted */\n",
       "  background-color: var(--sklearn-color-fitted-level-3);\n",
       "  color: var(--sklearn-color-background);\n",
       "  text-decoration: none;\n",
       "}\n",
       "\n",
       "/* Span, style for the box shown on hovering the info icon */\n",
       ".sk-estimator-doc-link span {\n",
       "  display: none;\n",
       "  z-index: 9999;\n",
       "  position: relative;\n",
       "  font-weight: normal;\n",
       "  right: .2ex;\n",
       "  padding: .5ex;\n",
       "  margin: .5ex;\n",
       "  width: min-content;\n",
       "  min-width: 20ex;\n",
       "  max-width: 50ex;\n",
       "  color: var(--sklearn-color-text);\n",
       "  box-shadow: 2pt 2pt 4pt #999;\n",
       "  /* unfitted */\n",
       "  background: var(--sklearn-color-unfitted-level-0);\n",
       "  border: .5pt solid var(--sklearn-color-unfitted-level-3);\n",
       "}\n",
       "\n",
       ".sk-estimator-doc-link.fitted span {\n",
       "  /* fitted */\n",
       "  background: var(--sklearn-color-fitted-level-0);\n",
       "  border: var(--sklearn-color-fitted-level-3);\n",
       "}\n",
       "\n",
       ".sk-estimator-doc-link:hover span {\n",
       "  display: block;\n",
       "}\n",
       "\n",
       "/* \"?\"-specific style due to the `<a>` HTML tag */\n",
       "\n",
       "#sk-container-id-1 a.estimator_doc_link {\n",
       "  float: right;\n",
       "  font-size: 1rem;\n",
       "  line-height: 1em;\n",
       "  font-family: monospace;\n",
       "  background-color: var(--sklearn-color-background);\n",
       "  border-radius: 1rem;\n",
       "  height: 1rem;\n",
       "  width: 1rem;\n",
       "  text-decoration: none;\n",
       "  /* unfitted */\n",
       "  color: var(--sklearn-color-unfitted-level-1);\n",
       "  border: var(--sklearn-color-unfitted-level-1) 1pt solid;\n",
       "}\n",
       "\n",
       "#sk-container-id-1 a.estimator_doc_link.fitted {\n",
       "  /* fitted */\n",
       "  border: var(--sklearn-color-fitted-level-1) 1pt solid;\n",
       "  color: var(--sklearn-color-fitted-level-1);\n",
       "}\n",
       "\n",
       "/* On hover */\n",
       "#sk-container-id-1 a.estimator_doc_link:hover {\n",
       "  /* unfitted */\n",
       "  background-color: var(--sklearn-color-unfitted-level-3);\n",
       "  color: var(--sklearn-color-background);\n",
       "  text-decoration: none;\n",
       "}\n",
       "\n",
       "#sk-container-id-1 a.estimator_doc_link.fitted:hover {\n",
       "  /* fitted */\n",
       "  background-color: var(--sklearn-color-fitted-level-3);\n",
       "}\n",
       "</style><div id=\"sk-container-id-1\" class=\"sk-top-container\"><div class=\"sk-text-repr-fallback\"><pre>LogisticRegression(solver=&#x27;liblinear&#x27;)</pre><b>In a Jupyter environment, please rerun this cell to show the HTML representation or trust the notebook. <br />On GitHub, the HTML representation is unable to render, please try loading this page with nbviewer.org.</b></div><div class=\"sk-container\" hidden><div class=\"sk-item\"><div class=\"sk-estimator fitted sk-toggleable\"><input class=\"sk-toggleable__control sk-hidden--visually\" id=\"sk-estimator-id-1\" type=\"checkbox\" checked><label for=\"sk-estimator-id-1\" class=\"sk-toggleable__label fitted sk-toggleable__label-arrow fitted\">&nbsp;&nbsp;LogisticRegression<a class=\"sk-estimator-doc-link fitted\" rel=\"noreferrer\" target=\"_blank\" href=\"https://scikit-learn.org/1.4/modules/generated/sklearn.linear_model.LogisticRegression.html\">?<span>Documentation for LogisticRegression</span></a><span class=\"sk-estimator-doc-link fitted\">i<span>Fitted</span></span></label><div class=\"sk-toggleable__content fitted\"><pre>LogisticRegression(solver=&#x27;liblinear&#x27;)</pre></div> </div></div></div></div>"
      ],
      "text/plain": [
       "LogisticRegression(solver='liblinear')"
      ]
     },
     "execution_count": 37,
     "metadata": {},
     "output_type": "execute_result"
    }
   ],
   "source": [
    "model_log"
   ]
  },
  {
   "cell_type": "code",
   "execution_count": 38,
   "id": "b79f4617-8892-4efe-8ed3-544a813f54a7",
   "metadata": {},
   "outputs": [],
   "source": [
    "train_pred = model_log.predict(x_train)"
   ]
  },
  {
   "cell_type": "code",
   "execution_count": 39,
   "id": "5c414957-2960-4d3e-981c-89c7cc410c3c",
   "metadata": {},
   "outputs": [
    {
     "data": {
      "text/plain": [
       "array([[101,   2],\n",
       "       [ 11,   8]])"
      ]
     },
     "execution_count": 39,
     "metadata": {},
     "output_type": "execute_result"
    }
   ],
   "source": [
    "confusion_matrix(y_train,train_pred)"
   ]
  },
  {
   "cell_type": "code",
   "execution_count": 40,
   "id": "09c26e77-b69c-4f0d-bc4a-2aa329bdb598",
   "metadata": {},
   "outputs": [],
   "source": [
    "test_pred = model_log.predict(x_test)"
   ]
  },
  {
   "cell_type": "code",
   "execution_count": 41,
   "id": "e7df160a-c642-462f-aad0-2b982b94b466",
   "metadata": {},
   "outputs": [
    {
     "data": {
      "text/plain": [
       "array([[68,  5],\n",
       "       [ 7,  2]])"
      ]
     },
     "execution_count": 41,
     "metadata": {},
     "output_type": "execute_result"
    }
   ],
   "source": [
    "confusion_matrix(y_test,test_pred)"
   ]
  },
  {
   "cell_type": "code",
   "execution_count": 42,
   "id": "0377a894-0d04-43f8-8d8b-922ee101328c",
   "metadata": {},
   "outputs": [
    {
     "name": "stdout",
     "output_type": "stream",
     "text": [
      "              precision    recall  f1-score   support\n",
      "\n",
      "           0       0.91      0.93      0.92        73\n",
      "           1       0.29      0.22      0.25         9\n",
      "\n",
      "    accuracy                           0.85        82\n",
      "   macro avg       0.60      0.58      0.58        82\n",
      "weighted avg       0.84      0.85      0.85        82\n",
      "\n"
     ]
    }
   ],
   "source": [
    "print(classification_report(y_test,test_pred))"
   ]
  },
  {
   "cell_type": "code",
   "execution_count": 43,
   "id": "13446d5b-cd88-427f-a470-355ebf7ba9f2",
   "metadata": {},
   "outputs": [
    {
     "data": {
      "text/plain": [
       "0.8536585365853658"
      ]
     },
     "execution_count": 43,
     "metadata": {},
     "output_type": "execute_result"
    }
   ],
   "source": [
    "accuracy_score(y_test,test_pred)"
   ]
  },
  {
   "cell_type": "code",
   "execution_count": 44,
   "id": "413681b9-dfc2-4286-a8bc-1809b88b9a8c",
   "metadata": {},
   "outputs": [
    {
     "data": {
      "text/plain": [
       "0.8536585365853658"
      ]
     },
     "execution_count": 44,
     "metadata": {},
     "output_type": "execute_result"
    }
   ],
   "source": [
    "_"
   ]
  },
  {
   "cell_type": "code",
   "execution_count": 45,
   "id": "fb132863-55dd-4ea4-9e33-a477f2572219",
   "metadata": {},
   "outputs": [
    {
     "data": {
      "text/plain": [
       "0.11756751262753118"
      ]
     },
     "execution_count": 45,
     "metadata": {},
     "output_type": "execute_result"
    }
   ],
   "source": [
    "model_log.coef_[0,1]"
   ]
  },
  {
   "cell_type": "code",
   "execution_count": 50,
   "id": "71833441-02f5-47ca-be5d-1b6a90281d71",
   "metadata": {},
   "outputs": [],
   "source": [
    "coef_dict = {i:model_log.coef_[0,_] for _,i in enumerate(x_train)}"
   ]
  },
  {
   "cell_type": "code",
   "execution_count": 67,
   "id": "95292b8f-a2e0-4ade-a6ed-5939b05f3994",
   "metadata": {},
   "outputs": [],
   "source": [
    "res_df = pd.DataFrame(coef_dict.keys(),index=list(range(0,len(coef_dict.keys()))))"
   ]
  },
  {
   "cell_type": "code",
   "execution_count": 70,
   "id": "0c919579-b0af-4d79-91b2-5598733d891e",
   "metadata": {},
   "outputs": [
    {
     "data": {
      "text/plain": [
       "'Immediate attenttion'"
      ]
     },
     "execution_count": 70,
     "metadata": {},
     "output_type": "execute_result"
    }
   ],
   "source": [
    "res_df.iloc[2,0]"
   ]
  },
  {
   "cell_type": "code",
   "execution_count": 81,
   "id": "4d50d7a1-1291-4c11-b225-87515873d962",
   "metadata": {},
   "outputs": [],
   "source": [
    "res_df['Coef'] = res_df.iloc[:,0].apply(lambda x: [coef_dict[i] for i in coef_dict if i == x])"
   ]
  },
  {
   "cell_type": "code",
   "execution_count": 83,
   "id": "b0c05c79-dafe-4bac-9521-d79649cc331d",
   "metadata": {},
   "outputs": [],
   "source": [
    "res_df['Coef']  = res_df['Coef'].apply(lambda x: x[0])"
   ]
  },
  {
   "cell_type": "code",
   "execution_count": 87,
   "id": "8476bb01-b731-4ee4-b470-e8747a67e210",
   "metadata": {},
   "outputs": [],
   "source": [
    "res_df['Abs Coef'] = np.abs(res_df['Coef'])"
   ]
  },
  {
   "cell_type": "code",
   "execution_count": 90,
   "id": "0c1c933b-9f2e-4d3e-9b39-8bb6ccae8497",
   "metadata": {},
   "outputs": [],
   "source": [
    "x_train.to_csv('Bank_Churn_trainingdata.csv')"
   ]
  },
  {
   "cell_type": "code",
   "execution_count": 91,
   "id": "fc16abd5-f200-4cc7-859b-bbaa7a8d69c2",
   "metadata": {},
   "outputs": [],
   "source": [
    "y_train.to_csv('Bank_Churn_trainingdata_y.csv')"
   ]
  },
  {
   "cell_type": "code",
   "execution_count": 163,
   "id": "fa7be86c-c1da-427b-a3d8-4a5f13213258",
   "metadata": {},
   "outputs": [
    {
     "data": {
      "text/plain": [
       "<Axes: xlabel='Branch', ylabel='count'>"
      ]
     },
     "execution_count": 163,
     "metadata": {},
     "output_type": "execute_result"
    },
    {
     "data": {
      "image/png": "[encoded data removed]",
      "text/plain": [
       "<Figure size 640x480 with 1 Axes>"
      ]
     },
     "metadata": {},
     "output_type": "display_data"
    }
   ],
   "source": [
    "sns.countplot(bank_df,x='Branch',hue='Response')"
   ]
  },
  {
   "cell_type": "code",
   "execution_count": 202,
   "id": "d1441796-dbef-4c83-aa02-fc9fac3efe0c",
   "metadata": {},
   "outputs": [
    {
     "data": {
      "text/plain": [
       "<Axes: xlabel='Occupation', ylabel='count'>"
      ]
     },
     "execution_count": 202,
     "metadata": {},
     "output_type": "execute_result"
    },
    {
     "data": {
      "image/png": "[encoded data removed]",
      "text/plain": [
       "<Figure size 1000x400 with 1 Axes>"
      ]
     },
     "metadata": {},
     "output_type": "display_data"
    }
   ],
   "source": [
    "sns.countplot(bank_df,x='Occupation',hue='Response')"
   ]
  },
  {
   "cell_type": "code",
   "execution_count": 203,
   "id": "8a718bfe-fc79-4937-948a-3179939f1785",
   "metadata": {},
   "outputs": [
    {
     "data": {
      "text/plain": [
       "<Axes: xlabel='Age', ylabel='count'>"
      ]
     },
     "execution_count": 203,
     "metadata": {},
     "output_type": "execute_result"
    },
    {
     "data": {
      "image/png": "[encoded data removed]",
      "text/plain": [
       "<Figure size 1000x400 with 1 Axes>"
      ]
     },
     "metadata": {},
     "output_type": "display_data"
    }
   ],
   "source": [
    "sns.countplot(bank_df,x='Age',hue='Response')"
   ]
  },
  {
   "cell_type": "code",
   "execution_count": 89,
   "id": "921ac9ec-8284-4f53-bbc7-22d86d010d8c",
   "metadata": {},
   "outputs": [
    {
     "data": {
      "text/html": [
       "<div>\n",
       "<style scoped>\n",
       "    .dataframe tbody tr th:only-of-type {\n",
       "        vertical-align: middle;\n",
       "    }\n",
       "\n",
       "    .dataframe tbody tr th {\n",
       "        vertical-align: top;\n",
       "    }\n",
       "\n",
       "    .dataframe thead th {\n",
       "        text-align: right;\n",
       "    }\n",
       "</style>\n",
       "<table border=\"1\" class=\"dataframe\">\n",
       "  <thead>\n",
       "    <tr style=\"text-align: right;\">\n",
       "      <th></th>\n",
       "      <th>0</th>\n",
       "      <th>Coef</th>\n",
       "      <th>Abs value</th>\n",
       "      <th>Abs Coef</th>\n",
       "    </tr>\n",
       "  </thead>\n",
       "  <tbody>\n",
       "    <tr>\n",
       "      <th>22</th>\n",
       "      <td>Branch_B8</td>\n",
       "      <td>1.090130</td>\n",
       "      <td>1.090130</td>\n",
       "      <td>1.090130</td>\n",
       "    </tr>\n",
       "    <tr>\n",
       "      <th>19</th>\n",
       "      <td>Branch_B5</td>\n",
       "      <td>0.910554</td>\n",
       "      <td>0.910554</td>\n",
       "      <td>0.910554</td>\n",
       "    </tr>\n",
       "    <tr>\n",
       "      <th>27</th>\n",
       "      <td>Occupation_Housewife</td>\n",
       "      <td>0.906734</td>\n",
       "      <td>0.906734</td>\n",
       "      <td>0.906734</td>\n",
       "    </tr>\n",
       "    <tr>\n",
       "      <th>15</th>\n",
       "      <td>Branch_B10</td>\n",
       "      <td>-0.831633</td>\n",
       "      <td>0.831633</td>\n",
       "      <td>0.831633</td>\n",
       "    </tr>\n",
       "    <tr>\n",
       "      <th>17</th>\n",
       "      <td>Branch_B3</td>\n",
       "      <td>-0.789670</td>\n",
       "      <td>0.789670</td>\n",
       "      <td>0.789670</td>\n",
       "    </tr>\n",
       "    <tr>\n",
       "      <th>20</th>\n",
       "      <td>Branch_B6</td>\n",
       "      <td>0.748354</td>\n",
       "      <td>0.748354</td>\n",
       "      <td>0.748354</td>\n",
       "    </tr>\n",
       "    <tr>\n",
       "      <th>24</th>\n",
       "      <td>Occupation_Business</td>\n",
       "      <td>0.735598</td>\n",
       "      <td>0.735598</td>\n",
       "      <td>0.735598</td>\n",
       "    </tr>\n",
       "    <tr>\n",
       "      <th>18</th>\n",
       "      <td>Branch_B4</td>\n",
       "      <td>-0.647102</td>\n",
       "      <td>0.647102</td>\n",
       "      <td>0.647102</td>\n",
       "    </tr>\n",
       "    <tr>\n",
       "      <th>30</th>\n",
       "      <td>Age_20-30</td>\n",
       "      <td>0.579889</td>\n",
       "      <td>0.579889</td>\n",
       "      <td>0.579889</td>\n",
       "    </tr>\n",
       "    <tr>\n",
       "      <th>34</th>\n",
       "      <td>Age_&gt;58</td>\n",
       "      <td>-0.570507</td>\n",
       "      <td>0.570507</td>\n",
       "      <td>0.570507</td>\n",
       "    </tr>\n",
       "    <tr>\n",
       "      <th>9</th>\n",
       "      <td>Facility to pay bills</td>\n",
       "      <td>0.570187</td>\n",
       "      <td>0.570187</td>\n",
       "      <td>0.570187</td>\n",
       "    </tr>\n",
       "    <tr>\n",
       "      <th>31</th>\n",
       "      <td>Age_30-40</td>\n",
       "      <td>0.477277</td>\n",
       "      <td>0.477277</td>\n",
       "      <td>0.477277</td>\n",
       "    </tr>\n",
       "    <tr>\n",
       "      <th>36</th>\n",
       "      <td>Gender_Male</td>\n",
       "      <td>0.405660</td>\n",
       "      <td>0.405660</td>\n",
       "      <td>0.405660</td>\n",
       "    </tr>\n",
       "    <tr>\n",
       "      <th>3</th>\n",
       "      <td>Good Response on Phone</td>\n",
       "      <td>-0.356343</td>\n",
       "      <td>0.356343</td>\n",
       "      <td>0.356343</td>\n",
       "    </tr>\n",
       "    <tr>\n",
       "      <th>10</th>\n",
       "      <td>Distance to residence</td>\n",
       "      <td>-0.348444</td>\n",
       "      <td>0.348444</td>\n",
       "      <td>0.348444</td>\n",
       "    </tr>\n",
       "    <tr>\n",
       "      <th>16</th>\n",
       "      <td>Branch_B2</td>\n",
       "      <td>-0.323998</td>\n",
       "      <td>0.323998</td>\n",
       "      <td>0.323998</td>\n",
       "    </tr>\n",
       "    <tr>\n",
       "      <th>8</th>\n",
       "      <td>Issue of clean currency notes</td>\n",
       "      <td>-0.313836</td>\n",
       "      <td>0.313836</td>\n",
       "      <td>0.313836</td>\n",
       "    </tr>\n",
       "    <tr>\n",
       "      <th>28</th>\n",
       "      <td>Occupation_Private Service</td>\n",
       "      <td>-0.242477</td>\n",
       "      <td>0.242477</td>\n",
       "      <td>0.242477</td>\n",
       "    </tr>\n",
       "    <tr>\n",
       "      <th>29</th>\n",
       "      <td>Occupation_Student</td>\n",
       "      <td>-0.220881</td>\n",
       "      <td>0.220881</td>\n",
       "      <td>0.220881</td>\n",
       "    </tr>\n",
       "    <tr>\n",
       "      <th>5</th>\n",
       "      <td>Time to issue cheque book</td>\n",
       "      <td>-0.217140</td>\n",
       "      <td>0.217140</td>\n",
       "      <td>0.217140</td>\n",
       "    </tr>\n",
       "    <tr>\n",
       "      <th>21</th>\n",
       "      <td>Branch_B7</td>\n",
       "      <td>0.171659</td>\n",
       "      <td>0.171659</td>\n",
       "      <td>0.171659</td>\n",
       "    </tr>\n",
       "    <tr>\n",
       "      <th>12</th>\n",
       "      <td>Courteous staff behaviour</td>\n",
       "      <td>-0.146149</td>\n",
       "      <td>0.146149</td>\n",
       "      <td>0.146149</td>\n",
       "    </tr>\n",
       "    <tr>\n",
       "      <th>26</th>\n",
       "      <td>Occupation_Government Service</td>\n",
       "      <td>-0.143397</td>\n",
       "      <td>0.143397</td>\n",
       "      <td>0.143397</td>\n",
       "    </tr>\n",
       "    <tr>\n",
       "      <th>25</th>\n",
       "      <td>Occupation_Defence</td>\n",
       "      <td>-0.133518</td>\n",
       "      <td>0.133518</td>\n",
       "      <td>0.133518</td>\n",
       "    </tr>\n",
       "    <tr>\n",
       "      <th>1</th>\n",
       "      <td>Comfortable seating arrangement</td>\n",
       "      <td>0.117568</td>\n",
       "      <td>0.117568</td>\n",
       "      <td>0.117568</td>\n",
       "    </tr>\n",
       "    <tr>\n",
       "      <th>0</th>\n",
       "      <td>Pleasant Ambiance</td>\n",
       "      <td>0.116465</td>\n",
       "      <td>0.116465</td>\n",
       "      <td>0.116465</td>\n",
       "    </tr>\n",
       "    <tr>\n",
       "      <th>7</th>\n",
       "      <td>Time to clear outstation cheques</td>\n",
       "      <td>0.104336</td>\n",
       "      <td>0.104336</td>\n",
       "      <td>0.104336</td>\n",
       "    </tr>\n",
       "    <tr>\n",
       "      <th>33</th>\n",
       "      <td>Age_&lt;20</td>\n",
       "      <td>-0.096011</td>\n",
       "      <td>0.096011</td>\n",
       "      <td>0.096011</td>\n",
       "    </tr>\n",
       "    <tr>\n",
       "      <th>13</th>\n",
       "      <td>Enough parking place</td>\n",
       "      <td>-0.077348</td>\n",
       "      <td>0.077348</td>\n",
       "      <td>0.077348</td>\n",
       "    </tr>\n",
       "    <tr>\n",
       "      <th>6</th>\n",
       "      <td>Time to sanction loan</td>\n",
       "      <td>0.061583</td>\n",
       "      <td>0.061583</td>\n",
       "      <td>0.061583</td>\n",
       "    </tr>\n",
       "    <tr>\n",
       "      <th>11</th>\n",
       "      <td>Distance to workplace</td>\n",
       "      <td>0.060563</td>\n",
       "      <td>0.060563</td>\n",
       "      <td>0.060563</td>\n",
       "    </tr>\n",
       "    <tr>\n",
       "      <th>2</th>\n",
       "      <td>Immediate attenttion</td>\n",
       "      <td>-0.046496</td>\n",
       "      <td>0.046496</td>\n",
       "      <td>0.046496</td>\n",
       "    </tr>\n",
       "    <tr>\n",
       "      <th>35</th>\n",
       "      <td>Gender_Female</td>\n",
       "      <td>-0.043450</td>\n",
       "      <td>0.043450</td>\n",
       "      <td>0.043450</td>\n",
       "    </tr>\n",
       "    <tr>\n",
       "      <th>32</th>\n",
       "      <td>Age_40-58</td>\n",
       "      <td>-0.028439</td>\n",
       "      <td>0.028439</td>\n",
       "      <td>0.028439</td>\n",
       "    </tr>\n",
       "    <tr>\n",
       "      <th>14</th>\n",
       "      <td>Branch_B1</td>\n",
       "      <td>0.024119</td>\n",
       "      <td>0.024119</td>\n",
       "      <td>0.024119</td>\n",
       "    </tr>\n",
       "    <tr>\n",
       "      <th>4</th>\n",
       "      <td>Errors in Passbook entries</td>\n",
       "      <td>0.023950</td>\n",
       "      <td>0.023950</td>\n",
       "      <td>0.023950</td>\n",
       "    </tr>\n",
       "    <tr>\n",
       "      <th>23</th>\n",
       "      <td>Branch_B9</td>\n",
       "      <td>0.009796</td>\n",
       "      <td>0.009796</td>\n",
       "      <td>0.009796</td>\n",
       "    </tr>\n",
       "  </tbody>\n",
       "</table>\n",
       "</div>"
      ],
      "text/plain": [
       "                                   0      Coef  Abs value  Abs Coef\n",
       "22                         Branch_B8  1.090130   1.090130  1.090130\n",
       "19                         Branch_B5  0.910554   0.910554  0.910554\n",
       "27              Occupation_Housewife  0.906734   0.906734  0.906734\n",
       "15                        Branch_B10 -0.831633   0.831633  0.831633\n",
       "17                         Branch_B3 -0.789670   0.789670  0.789670\n",
       "20                         Branch_B6  0.748354   0.748354  0.748354\n",
       "24               Occupation_Business  0.735598   0.735598  0.735598\n",
       "18                         Branch_B4 -0.647102   0.647102  0.647102\n",
       "30                         Age_20-30  0.579889   0.579889  0.579889\n",
       "34                           Age_>58 -0.570507   0.570507  0.570507\n",
       "9              Facility to pay bills  0.570187   0.570187  0.570187\n",
       "31                         Age_30-40  0.477277   0.477277  0.477277\n",
       "36                       Gender_Male  0.405660   0.405660  0.405660\n",
       "3             Good Response on Phone -0.356343   0.356343  0.356343\n",
       "10             Distance to residence -0.348444   0.348444  0.348444\n",
       "16                         Branch_B2 -0.323998   0.323998  0.323998\n",
       "8      Issue of clean currency notes -0.313836   0.313836  0.313836\n",
       "28        Occupation_Private Service -0.242477   0.242477  0.242477\n",
       "29                Occupation_Student -0.220881   0.220881  0.220881\n",
       "5          Time to issue cheque book -0.217140   0.217140  0.217140\n",
       "21                         Branch_B7  0.171659   0.171659  0.171659\n",
       "12         Courteous staff behaviour -0.146149   0.146149  0.146149\n",
       "26     Occupation_Government Service -0.143397   0.143397  0.143397\n",
       "25                Occupation_Defence -0.133518   0.133518  0.133518\n",
       "1    Comfortable seating arrangement  0.117568   0.117568  0.117568\n",
       "0                  Pleasant Ambiance  0.116465   0.116465  0.116465\n",
       "7   Time to clear outstation cheques  0.104336   0.104336  0.104336\n",
       "33                           Age_<20 -0.096011   0.096011  0.096011\n",
       "13              Enough parking place -0.077348   0.077348  0.077348\n",
       "6              Time to sanction loan  0.061583   0.061583  0.061583\n",
       "11             Distance to workplace  0.060563   0.060563  0.060563\n",
       "2               Immediate attenttion -0.046496   0.046496  0.046496\n",
       "35                     Gender_Female -0.043450   0.043450  0.043450\n",
       "32                         Age_40-58 -0.028439   0.028439  0.028439\n",
       "14                         Branch_B1  0.024119   0.024119  0.024119\n",
       "4         Errors in Passbook entries  0.023950   0.023950  0.023950\n",
       "23                         Branch_B9  0.009796   0.009796  0.009796"
      ]
     },
     "execution_count": 89,
     "metadata": {},
     "output_type": "execute_result"
    }
   ],
   "source": [
    "res_df.sort_values(by='Abs Coef',ascending=False)"
   ]
  },
  {
   "cell_type": "code",
   "execution_count": 58,
   "id": "9a87ceb9-d504-4e3f-be2f-7725c89c5caa",
   "metadata": {},
   "outputs": [
    {
     "data": {
      "text/html": [
       "<div>\n",
       "<style scoped>\n",
       "    .dataframe tbody tr th:only-of-type {\n",
       "        vertical-align: middle;\n",
       "    }\n",
       "\n",
       "    .dataframe tbody tr th {\n",
       "        vertical-align: top;\n",
       "    }\n",
       "\n",
       "    .dataframe thead th {\n",
       "        text-align: right;\n",
       "    }\n",
       "</style>\n",
       "<table border=\"1\" class=\"dataframe\">\n",
       "  <thead>\n",
       "    <tr style=\"text-align: right;\">\n",
       "      <th></th>\n",
       "      <th>Pleasant Ambiance</th>\n",
       "      <th>Comfortable seating arrangement</th>\n",
       "      <th>Immediate attenttion</th>\n",
       "      <th>Good Response on Phone</th>\n",
       "      <th>Errors in Passbook entries</th>\n",
       "      <th>Time to issue cheque book</th>\n",
       "      <th>Time to sanction loan</th>\n",
       "      <th>Time to clear outstation cheques</th>\n",
       "      <th>Issue of clean currency notes</th>\n",
       "      <th>Facility to pay bills</th>\n",
       "      <th>...</th>\n",
       "      <th>Occupation_Housewife</th>\n",
       "      <th>Occupation_Private Service</th>\n",
       "      <th>Occupation_Student</th>\n",
       "      <th>Age_20-30</th>\n",
       "      <th>Age_30-40</th>\n",
       "      <th>Age_40-58</th>\n",
       "      <th>Age_&lt;20</th>\n",
       "      <th>Age_&gt;58</th>\n",
       "      <th>Gender_Female</th>\n",
       "      <th>Gender_Male</th>\n",
       "    </tr>\n",
       "  </thead>\n",
       "  <tbody>\n",
       "    <tr>\n",
       "      <th>0</th>\n",
       "      <td>0.116465</td>\n",
       "      <td>0.117568</td>\n",
       "      <td>-0.046496</td>\n",
       "      <td>-0.356343</td>\n",
       "      <td>0.02395</td>\n",
       "      <td>-0.21714</td>\n",
       "      <td>0.061583</td>\n",
       "      <td>0.104336</td>\n",
       "      <td>-0.313836</td>\n",
       "      <td>0.570187</td>\n",
       "      <td>...</td>\n",
       "      <td>0.906734</td>\n",
       "      <td>-0.242477</td>\n",
       "      <td>-0.220881</td>\n",
       "      <td>0.579889</td>\n",
       "      <td>0.477277</td>\n",
       "      <td>-0.028439</td>\n",
       "      <td>-0.096011</td>\n",
       "      <td>-0.570507</td>\n",
       "      <td>-0.04345</td>\n",
       "      <td>0.40566</td>\n",
       "    </tr>\n",
       "  </tbody>\n",
       "</table>\n",
       "<p>1 rows × 37 columns</p>\n",
       "</div>"
      ],
      "text/plain": [
       "   Pleasant Ambiance  Comfortable seating arrangement  Immediate attenttion  \\\n",
       "0           0.116465                         0.117568             -0.046496   \n",
       "\n",
       "   Good Response on Phone  Errors in Passbook entries  \\\n",
       "0               -0.356343                     0.02395   \n",
       "\n",
       "   Time to issue cheque book  Time to sanction loan  \\\n",
       "0                   -0.21714               0.061583   \n",
       "\n",
       "   Time to clear outstation cheques  Issue of clean currency notes  \\\n",
       "0                          0.104336                      -0.313836   \n",
       "\n",
       "   Facility to pay bills  ...  Occupation_Housewife  \\\n",
       "0               0.570187  ...              0.906734   \n",
       "\n",
       "   Occupation_Private Service  Occupation_Student  Age_20-30  Age_30-40  \\\n",
       "0                   -0.242477           -0.220881   0.579889   0.477277   \n",
       "\n",
       "   Age_40-58   Age_<20   Age_>58  Gender_Female  Gender_Male  \n",
       "0  -0.028439 -0.096011 -0.570507       -0.04345      0.40566  \n",
       "\n",
       "[1 rows x 37 columns]"
      ]
     },
     "execution_count": 58,
     "metadata": {},
     "output_type": "execute_result"
    }
   ],
   "source": [
    "pd.DataFrame(coef_dict,index=[0])"
   ]
  },
  {
   "cell_type": "code",
   "execution_count": 47,
   "id": "583086ec-1235-49da-9c4c-4202c1d860aa",
   "metadata": {},
   "outputs": [],
   "source": [
    "resp_counts = bank_df['Response'].value_counts()"
   ]
  },
  {
   "cell_type": "code",
   "execution_count": 48,
   "id": "2506d190-5e04-4e82-9eb1-11b35a8875e1",
   "metadata": {},
   "outputs": [
    {
     "data": {
      "text/plain": [
       "Index([0, 1], dtype='int64', name='Response')"
      ]
     },
     "execution_count": 48,
     "metadata": {},
     "output_type": "execute_result"
    }
   ],
   "source": [
    "resp_counts.index"
   ]
  },
  {
   "cell_type": "code",
   "execution_count": 49,
   "id": "4faffaf5-53ac-4a57-b45b-c2caa9e76dc5",
   "metadata": {},
   "outputs": [
    {
     "data": {
      "text/plain": [
       "Text(0.5, 1.0, 'Churn distribution in our dataset')"
      ]
     },
     "execution_count": 49,
     "metadata": {},
     "output_type": "execute_result"
    },
    {
     "data": {
      "image/png": "[encoded data removed]",
      "text/plain": [
       "<Figure size 640x480 with 1 Axes>"
      ]
     },
     "metadata": {},
     "output_type": "display_data"
    }
   ],
   "source": [
    "plt.pie(resp_counts.values,labels=resp_counts.index,pctdistance=0.85,explode=[0.05,0.05])\n",
    "circ = plt.Circle((0,0),0.7,fc='white')\n",
    "fig = plt.gcf()\n",
    "fig.gca().add_artist(circ)\n",
    "plt.title('Churn distribution in our dataset')"
   ]
  }
 ],
 "metadata": {
  "kernelspec": {
   "display_name": "Python 3 (ipykernel)",
   "language": "python",
   "name": "python3"
  },
  "language_info": {
   "codemirror_mode": {
    "name": "ipython",
    "version": 3
   },
   "file_extension": ".py",
   "mimetype": "text/x-python",
   "name": "python",
   "nbconvert_exporter": "python",
   "pygments_lexer": "ipython3",
   "version": "3.11.8"
  }
 },
 "nbformat": 4,
 "nbformat_minor": 5
}
