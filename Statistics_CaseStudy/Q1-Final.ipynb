{
 "cells": [
  {
   "cell_type": "code",
   "execution_count": 83,
   "id": "bfaf27aa-d459-4b92-8225-15dbe218ca54",
   "metadata": {
    "tags": []
   },
   "outputs": [],
   "source": [
    "import numpy as np\n",
    "import pandas as pd\n",
    "import matplotlib.pyplot as plt\n",
    "import seaborn as sns\n",
    "sns.set_theme(rc={'figure.figsize':(10,4)})\n",
    "from sklearn.model_selection import train_test_split\n",
    "from sklearn.linear_model import LogisticRegression\n",
    "from sklearn.tree import DecisionTreeClassifier, plot_tree\n",
    "from sklearn.metrics import confusion_matrix, accuracy_score, classification_report\n",
    "import statsmodels.api as sm\n",
    "from scipy.stats import norm"
   ]
  },
  {
   "cell_type": "markdown",
   "id": "c1d55d28-b4f1-4880-b3dc-ab206b6b2603",
   "metadata": {},
   "source": [
    "## Bank Churn"
   ]
  },
  {
   "cell_type": "code",
   "execution_count": 3,
   "id": "df7b9455-2025-4ebf-9086-d7d793fb82d4",
   "metadata": {
    "tags": []
   },
   "outputs": [],
   "source": [
    "bank_df = pd.read_csv('BANK.xls - Sheet1.csv',skiprows=2)"
   ]
  },
  {
   "cell_type": "code",
   "execution_count": 4,
   "id": "b5c59a08-9f94-4942-b903-5618cc8872e9",
   "metadata": {},
   "outputs": [
    {
     "data": {
      "text/plain": [
       "248"
      ]
     },
     "execution_count": 4,
     "metadata": {},
     "output_type": "execute_result"
    }
   ],
   "source": [
    "len(bank_df)"
   ]
  },
  {
   "cell_type": "code",
   "execution_count": 5,
   "id": "0c0fd0de-968d-400f-b8bc-b8b3d2cd86b6",
   "metadata": {
    "tags": []
   },
   "outputs": [],
   "source": [
    "bank_df.drop(0,inplace=True)"
   ]
  },
  {
   "cell_type": "code",
   "execution_count": 6,
   "id": "15a3ed8d-f5b6-4cfb-8a61-0d3964723434",
   "metadata": {
    "tags": []
   },
   "outputs": [],
   "source": [
    "bank_df.drop(bank_df.tail(2).index,inplace=True)"
   ]
  },
  {
   "cell_type": "code",
   "execution_count": 7,
   "id": "190af105-7c6a-43a9-8cc0-1165b90c3edc",
   "metadata": {
    "tags": []
   },
   "outputs": [
    {
     "data": {
      "text/plain": [
       "Index(['Unnamed: 0', 'O Loyal', 'Unnamed: 2', 'Unnamed: 3', 'Unnamed: 4',\n",
       "       'Unnamed: 5', 'Pleasant Ambiance', 'Comfortable seating arrangement',\n",
       "       'Immediate attenttion', 'Good Response on Phone',\n",
       "       'Errors in Passbook entries', 'Time to issue cheque book',\n",
       "       'Time to sanction loan', 'Time to clear outstation cheques',\n",
       "       'Issue of clean currency notes', 'Facility to pay bills',\n",
       "       'Distance to residence', 'Distance to workplace',\n",
       "       'Courteous staff behaviour', 'Enough parking place'],\n",
       "      dtype='object')"
      ]
     },
     "execution_count": 7,
     "metadata": {},
     "output_type": "execute_result"
    }
   ],
   "source": [
    "bank_df.columns"
   ]
  },
  {
   "cell_type": "code",
   "execution_count": 8,
   "id": "eac69887-69c4-4c1f-b135-ce74404458a2",
   "metadata": {
    "tags": []
   },
   "outputs": [],
   "source": [
    "bank_df.rename(columns={'Unnamed: 0':'Sr. No','O Loyal':'Response','Unnamed: 2':'Branch','Unnamed: 3':'Occupation','Unnamed: 4':'Age','Unnamed: 5':'Gender'},inplace=True)"
   ]
  },
  {
   "cell_type": "code",
   "execution_count": 9,
   "id": "e944cc40-7d00-4ce1-8561-87b3c0d59cbd",
   "metadata": {},
   "outputs": [],
   "source": [
    "bank_df.set_index('Sr. No',inplace=True)"
   ]
  },
  {
   "cell_type": "code",
   "execution_count": 10,
   "id": "89ee0bd6-5efb-41e4-9710-cea6178b698c",
   "metadata": {
    "tags": []
   },
   "outputs": [
    {
     "data": {
      "text/html": [
       "<div>\n",
       "<style scoped>\n",
       "    .dataframe tbody tr th:only-of-type {\n",
       "        vertical-align: middle;\n",
       "    }\n",
       "\n",
       "    .dataframe tbody tr th {\n",
       "        vertical-align: top;\n",
       "    }\n",
       "\n",
       "    .dataframe thead th {\n",
       "        text-align: right;\n",
       "    }\n",
       "</style>\n",
       "<table border=\"1\" class=\"dataframe\">\n",
       "  <thead>\n",
       "    <tr style=\"text-align: right;\">\n",
       "      <th></th>\n",
       "      <th>Response</th>\n",
       "      <th>Branch</th>\n",
       "      <th>Occupation</th>\n",
       "      <th>Age</th>\n",
       "      <th>Gender</th>\n",
       "      <th>Pleasant Ambiance</th>\n",
       "      <th>Comfortable seating arrangement</th>\n",
       "      <th>Immediate attenttion</th>\n",
       "      <th>Good Response on Phone</th>\n",
       "      <th>Errors in Passbook entries</th>\n",
       "      <th>Time to issue cheque book</th>\n",
       "      <th>Time to sanction loan</th>\n",
       "      <th>Time to clear outstation cheques</th>\n",
       "      <th>Issue of clean currency notes</th>\n",
       "      <th>Facility to pay bills</th>\n",
       "      <th>Distance to residence</th>\n",
       "      <th>Distance to workplace</th>\n",
       "      <th>Courteous staff behaviour</th>\n",
       "      <th>Enough parking place</th>\n",
       "    </tr>\n",
       "    <tr>\n",
       "      <th>Sr. No</th>\n",
       "      <th></th>\n",
       "      <th></th>\n",
       "      <th></th>\n",
       "      <th></th>\n",
       "      <th></th>\n",
       "      <th></th>\n",
       "      <th></th>\n",
       "      <th></th>\n",
       "      <th></th>\n",
       "      <th></th>\n",
       "      <th></th>\n",
       "      <th></th>\n",
       "      <th></th>\n",
       "      <th></th>\n",
       "      <th></th>\n",
       "      <th></th>\n",
       "      <th></th>\n",
       "      <th></th>\n",
       "      <th></th>\n",
       "    </tr>\n",
       "  </thead>\n",
       "  <tbody>\n",
       "  </tbody>\n",
       "</table>\n",
       "</div>"
      ],
      "text/plain": [
       "Empty DataFrame\n",
       "Columns: [Response, Branch, Occupation, Age, Gender, Pleasant Ambiance, Comfortable seating arrangement, Immediate attenttion, Good Response on Phone, Errors in Passbook entries, Time to issue cheque book, Time to sanction loan, Time to clear outstation cheques, Issue of clean currency notes, Facility to pay bills, Distance to residence, Distance to workplace, Courteous staff behaviour, Enough parking place]\n",
       "Index: []"
      ]
     },
     "execution_count": 10,
     "metadata": {},
     "output_type": "execute_result"
    }
   ],
   "source": [
    "bank_df[bank_df.duplicated()]"
   ]
  },
  {
   "cell_type": "markdown",
   "id": "31217b77-fc32-4d84-b458-2c20db641b1d",
   "metadata": {},
   "source": [
    "##### Columns with non numeric values"
   ]
  },
  {
   "cell_type": "code",
   "execution_count": 11,
   "id": "d0395938-180d-4c02-ba7d-a08aae809427",
   "metadata": {
    "tags": []
   },
   "outputs": [],
   "source": [
    "cols_with_non_numeric = [i for i in bank_df.columns if all(bank_df[i].str.match('^-?\\d')) == False]"
   ]
  },
  {
   "cell_type": "code",
   "execution_count": 12,
   "id": "5855b4b9-279a-4cd6-b0d3-888739f15eb9",
   "metadata": {
    "tags": []
   },
   "outputs": [
    {
     "data": {
      "text/plain": [
       "['Branch', 'Occupation', 'Gender']"
      ]
     },
     "execution_count": 12,
     "metadata": {},
     "output_type": "execute_result"
    }
   ],
   "source": [
    "cols_with_non_numeric"
   ]
  },
  {
   "cell_type": "code",
   "execution_count": 13,
   "id": "3cba3b2f-5b87-4820-abb0-9e6014ee1e27",
   "metadata": {},
   "outputs": [],
   "source": [
    "bank_df.drop(bank_df[bank_df['Gender'].str.match('\\d') == False].index,inplace=True)"
   ]
  },
  {
   "cell_type": "code",
   "execution_count": 14,
   "id": "0edc852b-72f1-4081-993f-16e74b32dc76",
   "metadata": {
    "tags": []
   },
   "outputs": [],
   "source": [
    "bank_df.drop(bank_df[bank_df['Occupation'].str.match('\\d') == False].index,inplace=True)"
   ]
  },
  {
   "cell_type": "markdown",
   "id": "67dce55c-d124-4eaf-aca0-c2107b888d2a",
   "metadata": {},
   "source": [
    "##### Columns with negative values for score"
   ]
  },
  {
   "cell_type": "code",
   "execution_count": 15,
   "id": "262a413c-6636-421b-b389-106a91df2503",
   "metadata": {
    "tags": []
   },
   "outputs": [],
   "source": [
    "cols_with_neg_numeric = [i for i in bank_df.columns if len(bank_df[bank_df[i].str.match('^-\\d') == False]) != len(bank_df)]"
   ]
  },
  {
   "cell_type": "code",
   "execution_count": 16,
   "id": "51a8c8fa-1149-4cbb-8fe3-383b020acd2a",
   "metadata": {
    "tags": []
   },
   "outputs": [],
   "source": [
    "rows_with_non_response = list(np.where(np.any((bank_df[bank_df.columns.drop(['Branch'])].astype(int).values < 0) == True,axis=1)))"
   ]
  },
  {
   "cell_type": "code",
   "execution_count": 17,
   "id": "e261b919-8b19-4c93-b343-39130be87ee2",
   "metadata": {
    "tags": []
   },
   "outputs": [
    {
     "data": {
      "text/plain": [
       "65"
      ]
     },
     "execution_count": 17,
     "metadata": {},
     "output_type": "execute_result"
    }
   ],
   "source": [
    "len(bank_df[(bank_df[bank_df.columns.drop(['Branch'])].astype(int).values < 0)])"
   ]
  },
  {
   "cell_type": "markdown",
   "id": "060a22af-0d0b-41aa-b867-7eab7ee9fb9e",
   "metadata": {},
   "source": [
    "##### Dropping rows with Non-response"
   ]
  },
  {
   "cell_type": "code",
   "execution_count": 18,
   "id": "5e8c8680-f32c-41cb-8296-d10af4a4a4b3",
   "metadata": {},
   "outputs": [],
   "source": [
    "bank_df.drop(bank_df[(bank_df[bank_df.columns.drop(['Branch'])].astype(int).values < 0)].index,inplace=True)"
   ]
  },
  {
   "cell_type": "code",
   "execution_count": 19,
   "id": "7d5aafb9-8113-49dc-93c6-913da8552deb",
   "metadata": {},
   "outputs": [],
   "source": [
    "bank_df.reset_index(inplace=True)"
   ]
  },
  {
   "cell_type": "code",
   "execution_count": 20,
   "id": "42b3127f-fd28-4850-aa35-af8453416e26",
   "metadata": {},
   "outputs": [
    {
     "data": {
      "text/html": [
       "<div>\n",
       "<style scoped>\n",
       "    .dataframe tbody tr th:only-of-type {\n",
       "        vertical-align: middle;\n",
       "    }\n",
       "\n",
       "    .dataframe tbody tr th {\n",
       "        vertical-align: top;\n",
       "    }\n",
       "\n",
       "    .dataframe thead th {\n",
       "        text-align: right;\n",
       "    }\n",
       "</style>\n",
       "<table border=\"1\" class=\"dataframe\">\n",
       "  <thead>\n",
       "    <tr style=\"text-align: right;\">\n",
       "      <th></th>\n",
       "      <th>Sr. No</th>\n",
       "      <th>Response</th>\n",
       "      <th>Branch</th>\n",
       "      <th>Occupation</th>\n",
       "      <th>Age</th>\n",
       "      <th>Gender</th>\n",
       "      <th>Pleasant Ambiance</th>\n",
       "      <th>Comfortable seating arrangement</th>\n",
       "      <th>Immediate attenttion</th>\n",
       "      <th>Good Response on Phone</th>\n",
       "      <th>Errors in Passbook entries</th>\n",
       "      <th>Time to issue cheque book</th>\n",
       "      <th>Time to sanction loan</th>\n",
       "      <th>Time to clear outstation cheques</th>\n",
       "      <th>Issue of clean currency notes</th>\n",
       "      <th>Facility to pay bills</th>\n",
       "      <th>Distance to residence</th>\n",
       "      <th>Distance to workplace</th>\n",
       "      <th>Courteous staff behaviour</th>\n",
       "      <th>Enough parking place</th>\n",
       "    </tr>\n",
       "  </thead>\n",
       "  <tbody>\n",
       "    <tr>\n",
       "      <th>0</th>\n",
       "      <td>2</td>\n",
       "      <td>0</td>\n",
       "      <td>B1</td>\n",
       "      <td>1</td>\n",
       "      <td>5</td>\n",
       "      <td>1</td>\n",
       "      <td>10</td>\n",
       "      <td>8</td>\n",
       "      <td>8</td>\n",
       "      <td>6</td>\n",
       "      <td>10</td>\n",
       "      <td>8</td>\n",
       "      <td>9</td>\n",
       "      <td>6</td>\n",
       "      <td>8</td>\n",
       "      <td>6</td>\n",
       "      <td>8</td>\n",
       "      <td>7</td>\n",
       "      <td>10</td>\n",
       "      <td>10</td>\n",
       "    </tr>\n",
       "    <tr>\n",
       "      <th>1</th>\n",
       "      <td>3</td>\n",
       "      <td>0</td>\n",
       "      <td>B1</td>\n",
       "      <td>0</td>\n",
       "      <td>5</td>\n",
       "      <td>1</td>\n",
       "      <td>4</td>\n",
       "      <td>8</td>\n",
       "      <td>7</td>\n",
       "      <td>8</td>\n",
       "      <td>5</td>\n",
       "      <td>7</td>\n",
       "      <td>4</td>\n",
       "      <td>5</td>\n",
       "      <td>7</td>\n",
       "      <td>6</td>\n",
       "      <td>8</td>\n",
       "      <td>7</td>\n",
       "      <td>9</td>\n",
       "      <td>6</td>\n",
       "    </tr>\n",
       "    <tr>\n",
       "      <th>2</th>\n",
       "      <td>4</td>\n",
       "      <td>0</td>\n",
       "      <td>B1</td>\n",
       "      <td>6</td>\n",
       "      <td>4</td>\n",
       "      <td>2</td>\n",
       "      <td>4</td>\n",
       "      <td>6</td>\n",
       "      <td>6</td>\n",
       "      <td>8</td>\n",
       "      <td>6</td>\n",
       "      <td>4</td>\n",
       "      <td>4</td>\n",
       "      <td>5</td>\n",
       "      <td>6</td>\n",
       "      <td>6</td>\n",
       "      <td>9</td>\n",
       "      <td>6</td>\n",
       "      <td>9</td>\n",
       "      <td>5</td>\n",
       "    </tr>\n",
       "    <tr>\n",
       "      <th>3</th>\n",
       "      <td>5</td>\n",
       "      <td>0</td>\n",
       "      <td>B1</td>\n",
       "      <td>1</td>\n",
       "      <td>2</td>\n",
       "      <td>1</td>\n",
       "      <td>10</td>\n",
       "      <td>8</td>\n",
       "      <td>6</td>\n",
       "      <td>10</td>\n",
       "      <td>8</td>\n",
       "      <td>8</td>\n",
       "      <td>5</td>\n",
       "      <td>7</td>\n",
       "      <td>8</td>\n",
       "      <td>7</td>\n",
       "      <td>10</td>\n",
       "      <td>10</td>\n",
       "      <td>5</td>\n",
       "      <td>8</td>\n",
       "    </tr>\n",
       "    <tr>\n",
       "      <th>4</th>\n",
       "      <td>6</td>\n",
       "      <td>0</td>\n",
       "      <td>B1</td>\n",
       "      <td>2</td>\n",
       "      <td>3</td>\n",
       "      <td>1</td>\n",
       "      <td>7</td>\n",
       "      <td>8</td>\n",
       "      <td>6</td>\n",
       "      <td>7</td>\n",
       "      <td>8</td>\n",
       "      <td>7</td>\n",
       "      <td>7</td>\n",
       "      <td>7</td>\n",
       "      <td>6</td>\n",
       "      <td>7</td>\n",
       "      <td>8</td>\n",
       "      <td>7</td>\n",
       "      <td>8</td>\n",
       "      <td>7</td>\n",
       "    </tr>\n",
       "  </tbody>\n",
       "</table>\n",
       "</div>"
      ],
      "text/plain": [
       "  Sr. No Response Branch Occupation Age Gender Pleasant Ambiance  \\\n",
       "0      2        0     B1          1   5      1                10   \n",
       "1      3        0     B1          0   5      1                 4   \n",
       "2      4        0     B1          6   4      2                 4   \n",
       "3      5        0     B1          1   2      1                10   \n",
       "4      6        0     B1          2   3      1                 7   \n",
       "\n",
       "  Comfortable seating arrangement Immediate attenttion Good Response on Phone  \\\n",
       "0                               8                    8                      6   \n",
       "1                               8                    7                      8   \n",
       "2                               6                    6                      8   \n",
       "3                               8                    6                     10   \n",
       "4                               8                    6                      7   \n",
       "\n",
       "  Errors in Passbook entries Time to issue cheque book Time to sanction loan  \\\n",
       "0                         10                         8                     9   \n",
       "1                          5                         7                     4   \n",
       "2                          6                         4                     4   \n",
       "3                          8                         8                     5   \n",
       "4                          8                         7                     7   \n",
       "\n",
       "  Time to clear outstation cheques Issue of clean currency notes  \\\n",
       "0                                6                             8   \n",
       "1                                5                             7   \n",
       "2                                5                             6   \n",
       "3                                7                             8   \n",
       "4                                7                             6   \n",
       "\n",
       "  Facility to pay bills Distance to residence Distance to workplace  \\\n",
       "0                     6                     8                     7   \n",
       "1                     6                     8                     7   \n",
       "2                     6                     9                     6   \n",
       "3                     7                    10                    10   \n",
       "4                     7                     8                     7   \n",
       "\n",
       "  Courteous staff behaviour Enough parking place  \n",
       "0                        10                   10  \n",
       "1                         9                    6  \n",
       "2                         9                    5  \n",
       "3                         5                    8  \n",
       "4                         8                    7  "
      ]
     },
     "execution_count": 20,
     "metadata": {},
     "output_type": "execute_result"
    }
   ],
   "source": [
    "bank_df.head()"
   ]
  },
  {
   "cell_type": "markdown",
   "id": "aff2bae7-1db2-491c-a884-5aab52ee1a4e",
   "metadata": {},
   "source": [
    "bank_df = bank_df.astype('category')"
   ]
  },
  {
   "cell_type": "code",
   "execution_count": 21,
   "id": "add958a9-7d1a-4cbe-b81f-e9e240680adb",
   "metadata": {},
   "outputs": [],
   "source": [
    "bank_df = bank_df.drop(columns=['Branch']).join(pd.get_dummies(bank_df['Branch'],prefix='Branch',dtype=int))"
   ]
  },
  {
   "cell_type": "code",
   "execution_count": 22,
   "id": "d3c9883d-bd34-4770-a09e-c38f60d79ef8",
   "metadata": {},
   "outputs": [],
   "source": [
    "bank_df = bank_df.astype(int)"
   ]
  },
  {
   "cell_type": "code",
   "execution_count": 23,
   "id": "61e6aff7-7bba-4c95-86d4-caacff0b949c",
   "metadata": {},
   "outputs": [],
   "source": [
    "cat_var_lst = ['Pleasant Ambiance',\n",
    "       'Comfortable seating arrangement', 'Immediate attenttion',\n",
    "       'Good Response on Phone', 'Errors in Passbook entries',\n",
    "       'Time to issue cheque book', 'Time to sanction loan',\n",
    "       'Time to clear outstation cheques', 'Issue of clean currency notes',\n",
    "       'Facility to pay bills', 'Distance to residence',\n",
    "       'Distance to workplace', 'Courteous staff behaviour',\n",
    "       'Enough parking place']"
   ]
  },
  {
   "cell_type": "code",
   "execution_count": 24,
   "id": "8fecb2d8-ceb7-4038-ae56-2ef3c7b54b58",
   "metadata": {},
   "outputs": [],
   "source": [
    "for i in cat_var_lst:\n",
    "    bank_df[i] = bank_df[i].astype('category')"
   ]
  },
  {
   "cell_type": "code",
   "execution_count": 25,
   "id": "4e56a93e-d396-4a57-baa9-40f3756c132f",
   "metadata": {},
   "outputs": [],
   "source": [
    "occupation_mapper = {1:'Business',2:'Private Service',3:'Government Service',4:'Student',5:'Defence',6:'Housewife',7:'Professional',8:'Others'}"
   ]
  },
  {
   "cell_type": "code",
   "execution_count": 26,
   "id": "8d3af704-d474-4df3-9bb5-bcb80eecebe0",
   "metadata": {},
   "outputs": [],
   "source": [
    "age_mapper = {1:'<20',2:'20-30',3:'30-40',4:'40-58',5:'>58'}"
   ]
  },
  {
   "cell_type": "code",
   "execution_count": 27,
   "id": "2fa63ded-be5e-4431-bef3-c22eaebc017f",
   "metadata": {},
   "outputs": [],
   "source": [
    "gender_mapper = {1:'Male',2:'Female'}"
   ]
  },
  {
   "cell_type": "code",
   "execution_count": 28,
   "id": "2abe10b5-bafb-47bc-b123-619cac32b9eb",
   "metadata": {},
   "outputs": [],
   "source": [
    "bank_df['Occupation'] = bank_df['Occupation'].map(occupation_mapper)"
   ]
  },
  {
   "cell_type": "code",
   "execution_count": 29,
   "id": "5bde6a02-4b68-49b4-8e65-7b228ecca31d",
   "metadata": {},
   "outputs": [],
   "source": [
    "bank_df['Age'] = bank_df['Age'].map(age_mapper)"
   ]
  },
  {
   "cell_type": "code",
   "execution_count": 30,
   "id": "f24cf21a-db2b-4fd8-80f3-55e742449f69",
   "metadata": {},
   "outputs": [],
   "source": [
    "bank_df['Gender'] = bank_df['Gender'].map(gender_mapper)"
   ]
  },
  {
   "cell_type": "code",
   "execution_count": 31,
   "id": "2021b19e-82bc-49ee-a403-2fa25d291ff5",
   "metadata": {},
   "outputs": [],
   "source": [
    "bank_df = bank_df.drop(columns=['Occupation']).join(pd.get_dummies(bank_df['Occupation'],prefix='Occupation',dtype=int))"
   ]
  },
  {
   "cell_type": "code",
   "execution_count": 32,
   "id": "dd69a4bf-8231-4da2-b442-347cda2414ea",
   "metadata": {},
   "outputs": [],
   "source": [
    "bank_df = bank_df.drop(columns=['Age']).join(pd.get_dummies(bank_df['Age'],prefix='Age',dtype=int))"
   ]
  },
  {
   "cell_type": "code",
   "execution_count": 33,
   "id": "a494e68b-73ca-497d-b9a8-67476e18a225",
   "metadata": {},
   "outputs": [],
   "source": [
    "bank_df = bank_df.drop(columns=['Gender']).join(pd.get_dummies(bank_df['Gender'],prefix='Gender',dtype=int))"
   ]
  },
  {
   "cell_type": "code",
   "execution_count": 34,
   "id": "05c289c4-4b48-4087-a2d5-4f3849024f7c",
   "metadata": {
    "scrolled": true
   },
   "outputs": [
    {
     "data": {
      "text/html": [
       "<div>\n",
       "<style scoped>\n",
       "    .dataframe tbody tr th:only-of-type {\n",
       "        vertical-align: middle;\n",
       "    }\n",
       "\n",
       "    .dataframe tbody tr th {\n",
       "        vertical-align: top;\n",
       "    }\n",
       "\n",
       "    .dataframe thead th {\n",
       "        text-align: right;\n",
       "    }\n",
       "</style>\n",
       "<table border=\"1\" class=\"dataframe\">\n",
       "  <thead>\n",
       "    <tr style=\"text-align: right;\">\n",
       "      <th></th>\n",
       "      <th>Sr. No</th>\n",
       "      <th>Response</th>\n",
       "      <th>Pleasant Ambiance</th>\n",
       "      <th>Comfortable seating arrangement</th>\n",
       "      <th>Immediate attenttion</th>\n",
       "      <th>Good Response on Phone</th>\n",
       "      <th>Errors in Passbook entries</th>\n",
       "      <th>Time to issue cheque book</th>\n",
       "      <th>Time to sanction loan</th>\n",
       "      <th>Time to clear outstation cheques</th>\n",
       "      <th>...</th>\n",
       "      <th>Occupation_Housewife</th>\n",
       "      <th>Occupation_Private Service</th>\n",
       "      <th>Occupation_Student</th>\n",
       "      <th>Age_20-30</th>\n",
       "      <th>Age_30-40</th>\n",
       "      <th>Age_40-58</th>\n",
       "      <th>Age_&lt;20</th>\n",
       "      <th>Age_&gt;58</th>\n",
       "      <th>Gender_Female</th>\n",
       "      <th>Gender_Male</th>\n",
       "    </tr>\n",
       "  </thead>\n",
       "  <tbody>\n",
       "    <tr>\n",
       "      <th>0</th>\n",
       "      <td>2</td>\n",
       "      <td>0</td>\n",
       "      <td>10</td>\n",
       "      <td>8</td>\n",
       "      <td>8</td>\n",
       "      <td>6</td>\n",
       "      <td>10</td>\n",
       "      <td>8</td>\n",
       "      <td>9</td>\n",
       "      <td>6</td>\n",
       "      <td>...</td>\n",
       "      <td>0</td>\n",
       "      <td>0</td>\n",
       "      <td>0</td>\n",
       "      <td>0</td>\n",
       "      <td>0</td>\n",
       "      <td>0</td>\n",
       "      <td>0</td>\n",
       "      <td>1</td>\n",
       "      <td>0</td>\n",
       "      <td>1</td>\n",
       "    </tr>\n",
       "    <tr>\n",
       "      <th>1</th>\n",
       "      <td>3</td>\n",
       "      <td>0</td>\n",
       "      <td>4</td>\n",
       "      <td>8</td>\n",
       "      <td>7</td>\n",
       "      <td>8</td>\n",
       "      <td>5</td>\n",
       "      <td>7</td>\n",
       "      <td>4</td>\n",
       "      <td>5</td>\n",
       "      <td>...</td>\n",
       "      <td>0</td>\n",
       "      <td>0</td>\n",
       "      <td>0</td>\n",
       "      <td>0</td>\n",
       "      <td>0</td>\n",
       "      <td>0</td>\n",
       "      <td>0</td>\n",
       "      <td>1</td>\n",
       "      <td>0</td>\n",
       "      <td>1</td>\n",
       "    </tr>\n",
       "    <tr>\n",
       "      <th>2</th>\n",
       "      <td>4</td>\n",
       "      <td>0</td>\n",
       "      <td>4</td>\n",
       "      <td>6</td>\n",
       "      <td>6</td>\n",
       "      <td>8</td>\n",
       "      <td>6</td>\n",
       "      <td>4</td>\n",
       "      <td>4</td>\n",
       "      <td>5</td>\n",
       "      <td>...</td>\n",
       "      <td>1</td>\n",
       "      <td>0</td>\n",
       "      <td>0</td>\n",
       "      <td>0</td>\n",
       "      <td>0</td>\n",
       "      <td>1</td>\n",
       "      <td>0</td>\n",
       "      <td>0</td>\n",
       "      <td>1</td>\n",
       "      <td>0</td>\n",
       "    </tr>\n",
       "    <tr>\n",
       "      <th>3</th>\n",
       "      <td>5</td>\n",
       "      <td>0</td>\n",
       "      <td>10</td>\n",
       "      <td>8</td>\n",
       "      <td>6</td>\n",
       "      <td>10</td>\n",
       "      <td>8</td>\n",
       "      <td>8</td>\n",
       "      <td>5</td>\n",
       "      <td>7</td>\n",
       "      <td>...</td>\n",
       "      <td>0</td>\n",
       "      <td>0</td>\n",
       "      <td>0</td>\n",
       "      <td>1</td>\n",
       "      <td>0</td>\n",
       "      <td>0</td>\n",
       "      <td>0</td>\n",
       "      <td>0</td>\n",
       "      <td>0</td>\n",
       "      <td>1</td>\n",
       "    </tr>\n",
       "    <tr>\n",
       "      <th>4</th>\n",
       "      <td>6</td>\n",
       "      <td>0</td>\n",
       "      <td>7</td>\n",
       "      <td>8</td>\n",
       "      <td>6</td>\n",
       "      <td>7</td>\n",
       "      <td>8</td>\n",
       "      <td>7</td>\n",
       "      <td>7</td>\n",
       "      <td>7</td>\n",
       "      <td>...</td>\n",
       "      <td>0</td>\n",
       "      <td>1</td>\n",
       "      <td>0</td>\n",
       "      <td>0</td>\n",
       "      <td>1</td>\n",
       "      <td>0</td>\n",
       "      <td>0</td>\n",
       "      <td>0</td>\n",
       "      <td>0</td>\n",
       "      <td>1</td>\n",
       "    </tr>\n",
       "  </tbody>\n",
       "</table>\n",
       "<p>5 rows × 39 columns</p>\n",
       "</div>"
      ],
      "text/plain": [
       "   Sr. No  Response Pleasant Ambiance Comfortable seating arrangement  \\\n",
       "0       2         0                10                               8   \n",
       "1       3         0                 4                               8   \n",
       "2       4         0                 4                               6   \n",
       "3       5         0                10                               8   \n",
       "4       6         0                 7                               8   \n",
       "\n",
       "  Immediate attenttion Good Response on Phone Errors in Passbook entries  \\\n",
       "0                    8                      6                         10   \n",
       "1                    7                      8                          5   \n",
       "2                    6                      8                          6   \n",
       "3                    6                     10                          8   \n",
       "4                    6                      7                          8   \n",
       "\n",
       "  Time to issue cheque book Time to sanction loan  \\\n",
       "0                         8                     9   \n",
       "1                         7                     4   \n",
       "2                         4                     4   \n",
       "3                         8                     5   \n",
       "4                         7                     7   \n",
       "\n",
       "  Time to clear outstation cheques  ... Occupation_Housewife  \\\n",
       "0                                6  ...                    0   \n",
       "1                                5  ...                    0   \n",
       "2                                5  ...                    1   \n",
       "3                                7  ...                    0   \n",
       "4                                7  ...                    0   \n",
       "\n",
       "  Occupation_Private Service Occupation_Student Age_20-30 Age_30-40 Age_40-58  \\\n",
       "0                          0                  0         0         0         0   \n",
       "1                          0                  0         0         0         0   \n",
       "2                          0                  0         0         0         1   \n",
       "3                          0                  0         1         0         0   \n",
       "4                          1                  0         0         1         0   \n",
       "\n",
       "   Age_<20  Age_>58  Gender_Female  Gender_Male  \n",
       "0        0        1              0            1  \n",
       "1        0        1              0            1  \n",
       "2        0        0              1            0  \n",
       "3        0        0              0            1  \n",
       "4        0        0              0            1  \n",
       "\n",
       "[5 rows x 39 columns]"
      ]
     },
     "execution_count": 34,
     "metadata": {},
     "output_type": "execute_result"
    }
   ],
   "source": [
    "bank_df.head()"
   ]
  },
  {
   "cell_type": "code",
   "execution_count": 35,
   "id": "493c0b30-4188-4da1-ac26-52efe6f6669e",
   "metadata": {},
   "outputs": [],
   "source": [
    "x_train, x_test, y_train, y_test = train_test_split(bank_df.drop(columns=['Sr. No','Response']),bank_df['Response'],test_size=0.4,random_state=42)"
   ]
  },
  {
   "cell_type": "markdown",
   "id": "d09e0977-94a2-4a05-ac51-eecb7f888572",
   "metadata": {},
   "source": [
    "```python\n",
    "model_log = LogisticRegression(solver='liblinear',penalty='l1',C=0.1)\n",
    "```"
   ]
  },
  {
   "cell_type": "code",
   "execution_count": 36,
   "id": "cada521c-ca16-451c-9351-941e2865bb01",
   "metadata": {},
   "outputs": [],
   "source": [
    "model_log = LogisticRegression(solver='liblinear')"
   ]
  },
  {
   "cell_type": "code",
   "execution_count": 37,
   "id": "8aeb41e2-5015-40ab-a031-9a30f32a653f",
   "metadata": {},
   "outputs": [],
   "source": [
    "model_log = model_log.fit(x_train,y_train)"
   ]
  },
  {
   "cell_type": "code",
   "execution_count": 38,
   "id": "311e4206-8201-45f2-a2b5-7837058583d3",
   "metadata": {},
   "outputs": [
    {
     "data": {
      "text/html": [
       "<style>#sk-container-id-1 {\n",
       "  /* Definition of color scheme common for light and dark mode */\n",
       "  --sklearn-color-text: black;\n",
       "  --sklearn-color-line: gray;\n",
       "  /* Definition of color scheme for unfitted estimators */\n",
       "  --sklearn-color-unfitted-level-0: #fff5e6;\n",
       "  --sklearn-color-unfitted-level-1: #f6e4d2;\n",
       "  --sklearn-color-unfitted-level-2: #ffe0b3;\n",
       "  --sklearn-color-unfitted-level-3: chocolate;\n",
       "  /* Definition of color scheme for fitted estimators */\n",
       "  --sklearn-color-fitted-level-0: #f0f8ff;\n",
       "  --sklearn-color-fitted-level-1: #d4ebff;\n",
       "  --sklearn-color-fitted-level-2: #b3dbfd;\n",
       "  --sklearn-color-fitted-level-3: cornflowerblue;\n",
       "\n",
       "  /* Specific color for light theme */\n",
       "  --sklearn-color-text-on-default-background: var(--sg-text-color, var(--theme-code-foreground, var(--jp-content-font-color1, black)));\n",
       "  --sklearn-color-background: var(--sg-background-color, var(--theme-background, var(--jp-layout-color0, white)));\n",
       "  --sklearn-color-border-box: var(--sg-text-color, var(--theme-code-foreground, var(--jp-content-font-color1, black)));\n",
       "  --sklearn-color-icon: #696969;\n",
       "\n",
       "  @media (prefers-color-scheme: dark) {\n",
       "    /* Redefinition of color scheme for dark theme */\n",
       "    --sklearn-color-text-on-default-background: var(--sg-text-color, var(--theme-code-foreground, var(--jp-content-font-color1, white)));\n",
       "    --sklearn-color-background: var(--sg-background-color, var(--theme-background, var(--jp-layout-color0, #111)));\n",
       "    --sklearn-color-border-box: var(--sg-text-color, var(--theme-code-foreground, var(--jp-content-font-color1, white)));\n",
       "    --sklearn-color-icon: #878787;\n",
       "  }\n",
       "}\n",
       "\n",
       "#sk-container-id-1 {\n",
       "  color: var(--sklearn-color-text);\n",
       "}\n",
       "\n",
       "#sk-container-id-1 pre {\n",
       "  padding: 0;\n",
       "}\n",
       "\n",
       "#sk-container-id-1 input.sk-hidden--visually {\n",
       "  border: 0;\n",
       "  clip: rect(1px 1px 1px 1px);\n",
       "  clip: rect(1px, 1px, 1px, 1px);\n",
       "  height: 1px;\n",
       "  margin: -1px;\n",
       "  overflow: hidden;\n",
       "  padding: 0;\n",
       "  position: absolute;\n",
       "  width: 1px;\n",
       "}\n",
       "\n",
       "#sk-container-id-1 div.sk-dashed-wrapped {\n",
       "  border: 1px dashed var(--sklearn-color-line);\n",
       "  margin: 0 0.4em 0.5em 0.4em;\n",
       "  box-sizing: border-box;\n",
       "  padding-bottom: 0.4em;\n",
       "  background-color: var(--sklearn-color-background);\n",
       "}\n",
       "\n",
       "#sk-container-id-1 div.sk-container {\n",
       "  /* jupyter's `normalize.less` sets `[hidden] { display: none; }`\n",
       "     but bootstrap.min.css set `[hidden] { display: none !important; }`\n",
       "     so we also need the `!important` here to be able to override the\n",
       "     default hidden behavior on the sphinx rendered scikit-learn.org.\n",
       "     See: https://github.com/scikit-learn/scikit-learn/issues/21755 */\n",
       "  display: inline-block !important;\n",
       "  position: relative;\n",
       "}\n",
       "\n",
       "#sk-container-id-1 div.sk-text-repr-fallback {\n",
       "  display: none;\n",
       "}\n",
       "\n",
       "div.sk-parallel-item,\n",
       "div.sk-serial,\n",
       "div.sk-item {\n",
       "  /* draw centered vertical line to link estimators */\n",
       "  background-image: linear-gradient(var(--sklearn-color-text-on-default-background), var(--sklearn-color-text-on-default-background));\n",
       "  background-size: 2px 100%;\n",
       "  background-repeat: no-repeat;\n",
       "  background-position: center center;\n",
       "}\n",
       "\n",
       "/* Parallel-specific style estimator block */\n",
       "\n",
       "#sk-container-id-1 div.sk-parallel-item::after {\n",
       "  content: \"\";\n",
       "  width: 100%;\n",
       "  border-bottom: 2px solid var(--sklearn-color-text-on-default-background);\n",
       "  flex-grow: 1;\n",
       "}\n",
       "\n",
       "#sk-container-id-1 div.sk-parallel {\n",
       "  display: flex;\n",
       "  align-items: stretch;\n",
       "  justify-content: center;\n",
       "  background-color: var(--sklearn-color-background);\n",
       "  position: relative;\n",
       "}\n",
       "\n",
       "#sk-container-id-1 div.sk-parallel-item {\n",
       "  display: flex;\n",
       "  flex-direction: column;\n",
       "}\n",
       "\n",
       "#sk-container-id-1 div.sk-parallel-item:first-child::after {\n",
       "  align-self: flex-end;\n",
       "  width: 50%;\n",
       "}\n",
       "\n",
       "#sk-container-id-1 div.sk-parallel-item:last-child::after {\n",
       "  align-self: flex-start;\n",
       "  width: 50%;\n",
       "}\n",
       "\n",
       "#sk-container-id-1 div.sk-parallel-item:only-child::after {\n",
       "  width: 0;\n",
       "}\n",
       "\n",
       "/* Serial-specific style estimator block */\n",
       "\n",
       "#sk-container-id-1 div.sk-serial {\n",
       "  display: flex;\n",
       "  flex-direction: column;\n",
       "  align-items: center;\n",
       "  background-color: var(--sklearn-color-background);\n",
       "  padding-right: 1em;\n",
       "  padding-left: 1em;\n",
       "}\n",
       "\n",
       "\n",
       "/* Toggleable style: style used for estimator/Pipeline/ColumnTransformer box that is\n",
       "clickable and can be expanded/collapsed.\n",
       "- Pipeline and ColumnTransformer use this feature and define the default style\n",
       "- Estimators will overwrite some part of the style using the `sk-estimator` class\n",
       "*/\n",
       "\n",
       "/* Pipeline and ColumnTransformer style (default) */\n",
       "\n",
       "#sk-container-id-1 div.sk-toggleable {\n",
       "  /* Default theme specific background. It is overwritten whether we have a\n",
       "  specific estimator or a Pipeline/ColumnTransformer */\n",
       "  background-color: var(--sklearn-color-background);\n",
       "}\n",
       "\n",
       "/* Toggleable label */\n",
       "#sk-container-id-1 label.sk-toggleable__label {\n",
       "  cursor: pointer;\n",
       "  display: block;\n",
       "  width: 100%;\n",
       "  margin-bottom: 0;\n",
       "  padding: 0.5em;\n",
       "  box-sizing: border-box;\n",
       "  text-align: center;\n",
       "}\n",
       "\n",
       "#sk-container-id-1 label.sk-toggleable__label-arrow:before {\n",
       "  /* Arrow on the left of the label */\n",
       "  content: \"▸\";\n",
       "  float: left;\n",
       "  margin-right: 0.25em;\n",
       "  color: var(--sklearn-color-icon);\n",
       "}\n",
       "\n",
       "#sk-container-id-1 label.sk-toggleable__label-arrow:hover:before {\n",
       "  color: var(--sklearn-color-text);\n",
       "}\n",
       "\n",
       "/* Toggleable content - dropdown */\n",
       "\n",
       "#sk-container-id-1 div.sk-toggleable__content {\n",
       "  max-height: 0;\n",
       "  max-width: 0;\n",
       "  overflow: hidden;\n",
       "  text-align: left;\n",
       "  /* unfitted */\n",
       "  background-color: var(--sklearn-color-unfitted-level-0);\n",
       "}\n",
       "\n",
       "#sk-container-id-1 div.sk-toggleable__content.fitted {\n",
       "  /* fitted */\n",
       "  background-color: var(--sklearn-color-fitted-level-0);\n",
       "}\n",
       "\n",
       "#sk-container-id-1 div.sk-toggleable__content pre {\n",
       "  margin: 0.2em;\n",
       "  border-radius: 0.25em;\n",
       "  color: var(--sklearn-color-text);\n",
       "  /* unfitted */\n",
       "  background-color: var(--sklearn-color-unfitted-level-0);\n",
       "}\n",
       "\n",
       "#sk-container-id-1 div.sk-toggleable__content.fitted pre {\n",
       "  /* unfitted */\n",
       "  background-color: var(--sklearn-color-fitted-level-0);\n",
       "}\n",
       "\n",
       "#sk-container-id-1 input.sk-toggleable__control:checked~div.sk-toggleable__content {\n",
       "  /* Expand drop-down */\n",
       "  max-height: 200px;\n",
       "  max-width: 100%;\n",
       "  overflow: auto;\n",
       "}\n",
       "\n",
       "#sk-container-id-1 input.sk-toggleable__control:checked~label.sk-toggleable__label-arrow:before {\n",
       "  content: \"▾\";\n",
       "}\n",
       "\n",
       "/* Pipeline/ColumnTransformer-specific style */\n",
       "\n",
       "#sk-container-id-1 div.sk-label input.sk-toggleable__control:checked~label.sk-toggleable__label {\n",
       "  color: var(--sklearn-color-text);\n",
       "  background-color: var(--sklearn-color-unfitted-level-2);\n",
       "}\n",
       "\n",
       "#sk-container-id-1 div.sk-label.fitted input.sk-toggleable__control:checked~label.sk-toggleable__label {\n",
       "  background-color: var(--sklearn-color-fitted-level-2);\n",
       "}\n",
       "\n",
       "/* Estimator-specific style */\n",
       "\n",
       "/* Colorize estimator box */\n",
       "#sk-container-id-1 div.sk-estimator input.sk-toggleable__control:checked~label.sk-toggleable__label {\n",
       "  /* unfitted */\n",
       "  background-color: var(--sklearn-color-unfitted-level-2);\n",
       "}\n",
       "\n",
       "#sk-container-id-1 div.sk-estimator.fitted input.sk-toggleable__control:checked~label.sk-toggleable__label {\n",
       "  /* fitted */\n",
       "  background-color: var(--sklearn-color-fitted-level-2);\n",
       "}\n",
       "\n",
       "#sk-container-id-1 div.sk-label label.sk-toggleable__label,\n",
       "#sk-container-id-1 div.sk-label label {\n",
       "  /* The background is the default theme color */\n",
       "  color: var(--sklearn-color-text-on-default-background);\n",
       "}\n",
       "\n",
       "/* On hover, darken the color of the background */\n",
       "#sk-container-id-1 div.sk-label:hover label.sk-toggleable__label {\n",
       "  color: var(--sklearn-color-text);\n",
       "  background-color: var(--sklearn-color-unfitted-level-2);\n",
       "}\n",
       "\n",
       "/* Label box, darken color on hover, fitted */\n",
       "#sk-container-id-1 div.sk-label.fitted:hover label.sk-toggleable__label.fitted {\n",
       "  color: var(--sklearn-color-text);\n",
       "  background-color: var(--sklearn-color-fitted-level-2);\n",
       "}\n",
       "\n",
       "/* Estimator label */\n",
       "\n",
       "#sk-container-id-1 div.sk-label label {\n",
       "  font-family: monospace;\n",
       "  font-weight: bold;\n",
       "  display: inline-block;\n",
       "  line-height: 1.2em;\n",
       "}\n",
       "\n",
       "#sk-container-id-1 div.sk-label-container {\n",
       "  text-align: center;\n",
       "}\n",
       "\n",
       "/* Estimator-specific */\n",
       "#sk-container-id-1 div.sk-estimator {\n",
       "  font-family: monospace;\n",
       "  border: 1px dotted var(--sklearn-color-border-box);\n",
       "  border-radius: 0.25em;\n",
       "  box-sizing: border-box;\n",
       "  margin-bottom: 0.5em;\n",
       "  /* unfitted */\n",
       "  background-color: var(--sklearn-color-unfitted-level-0);\n",
       "}\n",
       "\n",
       "#sk-container-id-1 div.sk-estimator.fitted {\n",
       "  /* fitted */\n",
       "  background-color: var(--sklearn-color-fitted-level-0);\n",
       "}\n",
       "\n",
       "/* on hover */\n",
       "#sk-container-id-1 div.sk-estimator:hover {\n",
       "  /* unfitted */\n",
       "  background-color: var(--sklearn-color-unfitted-level-2);\n",
       "}\n",
       "\n",
       "#sk-container-id-1 div.sk-estimator.fitted:hover {\n",
       "  /* fitted */\n",
       "  background-color: var(--sklearn-color-fitted-level-2);\n",
       "}\n",
       "\n",
       "/* Specification for estimator info (e.g. \"i\" and \"?\") */\n",
       "\n",
       "/* Common style for \"i\" and \"?\" */\n",
       "\n",
       ".sk-estimator-doc-link,\n",
       "a:link.sk-estimator-doc-link,\n",
       "a:visited.sk-estimator-doc-link {\n",
       "  float: right;\n",
       "  font-size: smaller;\n",
       "  line-height: 1em;\n",
       "  font-family: monospace;\n",
       "  background-color: var(--sklearn-color-background);\n",
       "  border-radius: 1em;\n",
       "  height: 1em;\n",
       "  width: 1em;\n",
       "  text-decoration: none !important;\n",
       "  margin-left: 1ex;\n",
       "  /* unfitted */\n",
       "  border: var(--sklearn-color-unfitted-level-1) 1pt solid;\n",
       "  color: var(--sklearn-color-unfitted-level-1);\n",
       "}\n",
       "\n",
       ".sk-estimator-doc-link.fitted,\n",
       "a:link.sk-estimator-doc-link.fitted,\n",
       "a:visited.sk-estimator-doc-link.fitted {\n",
       "  /* fitted */\n",
       "  border: var(--sklearn-color-fitted-level-1) 1pt solid;\n",
       "  color: var(--sklearn-color-fitted-level-1);\n",
       "}\n",
       "\n",
       "/* On hover */\n",
       "div.sk-estimator:hover .sk-estimator-doc-link:hover,\n",
       ".sk-estimator-doc-link:hover,\n",
       "div.sk-label-container:hover .sk-estimator-doc-link:hover,\n",
       ".sk-estimator-doc-link:hover {\n",
       "  /* unfitted */\n",
       "  background-color: var(--sklearn-color-unfitted-level-3);\n",
       "  color: var(--sklearn-color-background);\n",
       "  text-decoration: none;\n",
       "}\n",
       "\n",
       "div.sk-estimator.fitted:hover .sk-estimator-doc-link.fitted:hover,\n",
       ".sk-estimator-doc-link.fitted:hover,\n",
       "div.sk-label-container:hover .sk-estimator-doc-link.fitted:hover,\n",
       ".sk-estimator-doc-link.fitted:hover {\n",
       "  /* fitted */\n",
       "  background-color: var(--sklearn-color-fitted-level-3);\n",
       "  color: var(--sklearn-color-background);\n",
       "  text-decoration: none;\n",
       "}\n",
       "\n",
       "/* Span, style for the box shown on hovering the info icon */\n",
       ".sk-estimator-doc-link span {\n",
       "  display: none;\n",
       "  z-index: 9999;\n",
       "  position: relative;\n",
       "  font-weight: normal;\n",
       "  right: .2ex;\n",
       "  padding: .5ex;\n",
       "  margin: .5ex;\n",
       "  width: min-content;\n",
       "  min-width: 20ex;\n",
       "  max-width: 50ex;\n",
       "  color: var(--sklearn-color-text);\n",
       "  box-shadow: 2pt 2pt 4pt #999;\n",
       "  /* unfitted */\n",
       "  background: var(--sklearn-color-unfitted-level-0);\n",
       "  border: .5pt solid var(--sklearn-color-unfitted-level-3);\n",
       "}\n",
       "\n",
       ".sk-estimator-doc-link.fitted span {\n",
       "  /* fitted */\n",
       "  background: var(--sklearn-color-fitted-level-0);\n",
       "  border: var(--sklearn-color-fitted-level-3);\n",
       "}\n",
       "\n",
       ".sk-estimator-doc-link:hover span {\n",
       "  display: block;\n",
       "}\n",
       "\n",
       "/* \"?\"-specific style due to the `<a>` HTML tag */\n",
       "\n",
       "#sk-container-id-1 a.estimator_doc_link {\n",
       "  float: right;\n",
       "  font-size: 1rem;\n",
       "  line-height: 1em;\n",
       "  font-family: monospace;\n",
       "  background-color: var(--sklearn-color-background);\n",
       "  border-radius: 1rem;\n",
       "  height: 1rem;\n",
       "  width: 1rem;\n",
       "  text-decoration: none;\n",
       "  /* unfitted */\n",
       "  color: var(--sklearn-color-unfitted-level-1);\n",
       "  border: var(--sklearn-color-unfitted-level-1) 1pt solid;\n",
       "}\n",
       "\n",
       "#sk-container-id-1 a.estimator_doc_link.fitted {\n",
       "  /* fitted */\n",
       "  border: var(--sklearn-color-fitted-level-1) 1pt solid;\n",
       "  color: var(--sklearn-color-fitted-level-1);\n",
       "}\n",
       "\n",
       "/* On hover */\n",
       "#sk-container-id-1 a.estimator_doc_link:hover {\n",
       "  /* unfitted */\n",
       "  background-color: var(--sklearn-color-unfitted-level-3);\n",
       "  color: var(--sklearn-color-background);\n",
       "  text-decoration: none;\n",
       "}\n",
       "\n",
       "#sk-container-id-1 a.estimator_doc_link.fitted:hover {\n",
       "  /* fitted */\n",
       "  background-color: var(--sklearn-color-fitted-level-3);\n",
       "}\n",
       "</style><div id=\"sk-container-id-1\" class=\"sk-top-container\"><div class=\"sk-text-repr-fallback\"><pre>LogisticRegression(solver=&#x27;liblinear&#x27;)</pre><b>In a Jupyter environment, please rerun this cell to show the HTML representation or trust the notebook. <br />On GitHub, the HTML representation is unable to render, please try loading this page with nbviewer.org.</b></div><div class=\"sk-container\" hidden><div class=\"sk-item\"><div class=\"sk-estimator fitted sk-toggleable\"><input class=\"sk-toggleable__control sk-hidden--visually\" id=\"sk-estimator-id-1\" type=\"checkbox\" checked><label for=\"sk-estimator-id-1\" class=\"sk-toggleable__label fitted sk-toggleable__label-arrow fitted\">&nbsp;&nbsp;LogisticRegression<a class=\"sk-estimator-doc-link fitted\" rel=\"noreferrer\" target=\"_blank\" href=\"https://scikit-learn.org/1.4/modules/generated/sklearn.linear_model.LogisticRegression.html\">?<span>Documentation for LogisticRegression</span></a><span class=\"sk-estimator-doc-link fitted\">i<span>Fitted</span></span></label><div class=\"sk-toggleable__content fitted\"><pre>LogisticRegression(solver=&#x27;liblinear&#x27;)</pre></div> </div></div></div></div>"
      ],
      "text/plain": [
       "LogisticRegression(solver='liblinear')"
      ]
     },
     "execution_count": 38,
     "metadata": {},
     "output_type": "execute_result"
    }
   ],
   "source": [
    "model_log"
   ]
  },
  {
   "cell_type": "code",
   "execution_count": 39,
   "id": "b79f4617-8892-4efe-8ed3-544a813f54a7",
   "metadata": {},
   "outputs": [],
   "source": [
    "train_pred = model_log.predict(x_train)"
   ]
  },
  {
   "cell_type": "code",
   "execution_count": 40,
   "id": "5c414957-2960-4d3e-981c-89c7cc410c3c",
   "metadata": {},
   "outputs": [
    {
     "data": {
      "text/plain": [
       "array([[101,   2],\n",
       "       [ 11,   8]])"
      ]
     },
     "execution_count": 40,
     "metadata": {},
     "output_type": "execute_result"
    }
   ],
   "source": [
    "confusion_matrix(y_train,train_pred)"
   ]
  },
  {
   "cell_type": "code",
   "execution_count": 41,
   "id": "09c26e77-b69c-4f0d-bc4a-2aa329bdb598",
   "metadata": {},
   "outputs": [],
   "source": [
    "test_pred = model_log.predict(x_test)"
   ]
  },
  {
   "cell_type": "code",
   "execution_count": 42,
   "id": "e7df160a-c642-462f-aad0-2b982b94b466",
   "metadata": {},
   "outputs": [
    {
     "data": {
      "text/plain": [
       "array([[68,  5],\n",
       "       [ 7,  2]])"
      ]
     },
     "execution_count": 42,
     "metadata": {},
     "output_type": "execute_result"
    }
   ],
   "source": [
    "confusion_matrix(y_test,test_pred)"
   ]
  },
  {
   "cell_type": "code",
   "execution_count": 43,
   "id": "0377a894-0d04-43f8-8d8b-922ee101328c",
   "metadata": {},
   "outputs": [
    {
     "name": "stdout",
     "output_type": "stream",
     "text": [
      "              precision    recall  f1-score   support\n",
      "\n",
      "           0       0.91      0.93      0.92        73\n",
      "           1       0.29      0.22      0.25         9\n",
      "\n",
      "    accuracy                           0.85        82\n",
      "   macro avg       0.60      0.58      0.58        82\n",
      "weighted avg       0.84      0.85      0.85        82\n",
      "\n"
     ]
    }
   ],
   "source": [
    "print(classification_report(y_test,test_pred))"
   ]
  },
  {
   "cell_type": "code",
   "execution_count": 44,
   "id": "13446d5b-cd88-427f-a470-355ebf7ba9f2",
   "metadata": {},
   "outputs": [
    {
     "data": {
      "text/plain": [
       "0.8536585365853658"
      ]
     },
     "execution_count": 44,
     "metadata": {},
     "output_type": "execute_result"
    }
   ],
   "source": [
    "accuracy_score(y_test,test_pred)"
   ]
  },
  {
   "cell_type": "code",
   "execution_count": 45,
   "id": "413681b9-dfc2-4286-a8bc-1809b88b9a8c",
   "metadata": {},
   "outputs": [
    {
     "data": {
      "text/plain": [
       "0.8536585365853658"
      ]
     },
     "execution_count": 45,
     "metadata": {},
     "output_type": "execute_result"
    }
   ],
   "source": [
    "_"
   ]
  },
  {
   "cell_type": "code",
   "execution_count": 46,
   "id": "fb132863-55dd-4ea4-9e33-a477f2572219",
   "metadata": {},
   "outputs": [
    {
     "data": {
      "text/plain": [
       "0.11756751262753118"
      ]
     },
     "execution_count": 46,
     "metadata": {},
     "output_type": "execute_result"
    }
   ],
   "source": [
    "model_log.coef_[0,1]"
   ]
  },
  {
   "cell_type": "code",
   "execution_count": 47,
   "id": "71833441-02f5-47ca-be5d-1b6a90281d71",
   "metadata": {},
   "outputs": [],
   "source": [
    "coef_dict = {i:model_log.coef_[0,_] for _,i in enumerate(x_train)}"
   ]
  },
  {
   "cell_type": "code",
   "execution_count": 48,
   "id": "95292b8f-a2e0-4ade-a6ed-5939b05f3994",
   "metadata": {},
   "outputs": [],
   "source": [
    "res_df = pd.DataFrame(coef_dict.keys(),index=list(range(0,len(coef_dict.keys()))))"
   ]
  },
  {
   "cell_type": "code",
   "execution_count": 49,
   "id": "0c919579-b0af-4d79-91b2-5598733d891e",
   "metadata": {},
   "outputs": [
    {
     "data": {
      "text/plain": [
       "'Immediate attenttion'"
      ]
     },
     "execution_count": 49,
     "metadata": {},
     "output_type": "execute_result"
    }
   ],
   "source": [
    "res_df.iloc[2,0]"
   ]
  },
  {
   "cell_type": "code",
   "execution_count": 50,
   "id": "4d50d7a1-1291-4c11-b225-87515873d962",
   "metadata": {},
   "outputs": [],
   "source": [
    "res_df['Coef'] = res_df.iloc[:,0].apply(lambda x: [coef_dict[i] for i in coef_dict if i == x])"
   ]
  },
  {
   "cell_type": "code",
   "execution_count": 51,
   "id": "b0c05c79-dafe-4bac-9521-d79649cc331d",
   "metadata": {},
   "outputs": [],
   "source": [
    "res_df['Coef']  = res_df['Coef'].apply(lambda x: x[0])"
   ]
  },
  {
   "cell_type": "code",
   "execution_count": 52,
   "id": "8476bb01-b731-4ee4-b470-e8747a67e210",
   "metadata": {},
   "outputs": [],
   "source": [
    "res_df['Abs Coef'] = np.abs(res_df['Coef'])"
   ]
  },
  {
   "cell_type": "code",
   "execution_count": 53,
   "id": "0c1c933b-9f2e-4d3e-9b39-8bb6ccae8497",
   "metadata": {},
   "outputs": [],
   "source": [
    "x_train.to_csv('Bank_Churn_trainingdata.csv')"
   ]
  },
  {
   "cell_type": "code",
   "execution_count": 54,
   "id": "fc16abd5-f200-4cc7-859b-bbaa7a8d69c2",
   "metadata": {},
   "outputs": [],
   "source": [
    "y_train.to_csv('Bank_Churn_trainingdata_y.csv')"
   ]
  },
  {
   "cell_type": "code",
   "execution_count": null,
   "id": "d4abde84-0800-4952-9af6-d06f7cb3a701",
   "metadata": {},
   "outputs": [],
   "source": [
    "sns.countplot(bank_df,x='Branch',hue='Response')"
   ]
  },
  {
   "cell_type": "code",
   "execution_count": null,
   "id": "d1441796-dbef-4c83-aa02-fc9fac3efe0c",
   "metadata": {},
   "outputs": [],
   "source": [
    "sns.countplot(bank_df,x='Occupation',hue='Response')"
   ]
  },
  {
   "cell_type": "code",
   "execution_count": null,
   "id": "8a718bfe-fc79-4937-948a-3179939f1785",
   "metadata": {},
   "outputs": [],
   "source": [
    "sns.countplot(bank_df,x='Age',hue='Response')"
   ]
  },
  {
   "cell_type": "code",
   "execution_count": null,
   "id": "921ac9ec-8284-4f53-bbc7-22d86d010d8c",
   "metadata": {},
   "outputs": [],
   "source": [
    "res_df.sort_values(by='Abs Coef',ascending=False)"
   ]
  },
  {
   "cell_type": "code",
   "execution_count": 60,
   "id": "85d88fe0-6d18-4a35-a4df-c4a81965b454",
   "metadata": {},
   "outputs": [],
   "source": [
    "x = 1"
   ]
  },
  {
   "cell_type": "code",
   "execution_count": 63,
   "id": "310ae0bd-4a2f-41de-8118-53e48bff625e",
   "metadata": {},
   "outputs": [],
   "source": [
    "x += 1"
   ]
  },
  {
   "cell_type": "code",
   "execution_count": 66,
   "id": "abc04078-54cc-48ca-ba83-20d295c60e3f",
   "metadata": {},
   "outputs": [],
   "source": [
    "def get_pval(data,model):\n",
    "    pred = model.predict_proba(data)\n",
    "    n,m = len(pred), len(model.coef_[0]) + 1\n",
    "    coeffs = np.concatenate([model.intercept_,model.coef_[0]])\n",
    "    data_n = np.matrix(np.insert(np.array(data),0,1,axis=1))\n",
    "    res = np.zeros((m,m))\n",
    "    for i in range(0,n):\n",
    "        res += np.dot(np.transpose(data_n[i,:]),data_n[i,:]) * pred[i,1] * pred[i,0]\n",
    "    vcov = np.linalg.inv(np.matrix(res))\n",
    "    se = np.sqrt(np.diag(vcov))\n",
    "    t = coeffs/se\n",
    "    p_val = (1-norm.cdf(abs(t))) * 2\n",
    "    return p_val"
   ]
  },
  {
   "cell_type": "code",
   "execution_count": 69,
   "id": "5c873c31-158d-4683-aee2-a77599c466ac",
   "metadata": {},
   "outputs": [
    {
     "name": "stderr",
     "output_type": "stream",
     "text": [
      "/tmp/ipykernel_4020/761578960.py:10: RuntimeWarning: invalid value encountered in sqrt\n",
      "  se = np.sqrt(np.diag(vcov))\n"
     ]
    },
    {
     "data": {
      "text/plain": [
       "array([0.99999997, 0.6459734 , 0.61068481, 0.84307701, 0.12118975,\n",
       "       0.91267213, 0.24305424, 0.78778587, 0.58842202, 0.3493337 ,\n",
       "       0.0838438 , 0.10867965, 0.80519721, 0.53593806, 0.76973369,\n",
       "              nan,        nan,        nan,        nan,        nan,\n",
       "              nan,        nan,        nan,        nan,        nan,\n",
       "       0.6074857 , 0.97312594, 0.92863116, 0.61028963, 0.88380912,\n",
       "       0.95078296,        nan,        nan,        nan,        nan,\n",
       "              nan,        nan,        nan])"
      ]
     },
     "execution_count": 69,
     "metadata": {},
     "output_type": "execute_result"
    }
   ],
   "source": [
    "get_pval(x_train,model_log)"
   ]
  },
  {
   "cell_type": "code",
   "execution_count": 74,
   "id": "bad06054-b953-4b7c-bad3-630f8dff5295",
   "metadata": {},
   "outputs": [
    {
     "name": "stderr",
     "output_type": "stream",
     "text": [
      "/home/eshaan/SPSS_CaseStudy/spss_casestudy/lib/python3.11/site-packages/statsmodels/base/model.py:595: HessianInversionWarning: Inverting hessian failed, no bse or cov_params available\n",
      "  warnings.warn('Inverting hessian failed, no bse or cov_params '\n"
     ]
    }
   ],
   "source": [
    "model_logit = sm.Logit(y_train,sm.add_constant(x_train)).fit(disp=0,method='bfgs',maxiter=500)"
   ]
  },
  {
   "cell_type": "code",
   "execution_count": null,
   "id": "16ea34f3-a222-41b1-8c07-273e7ff1dcb0",
   "metadata": {},
   "outputs": [],
   "source": []
  },
  {
   "cell_type": "code",
   "execution_count": 56,
   "id": "9a87ceb9-d504-4e3f-be2f-7725c89c5caa",
   "metadata": {},
   "outputs": [
    {
     "data": {
      "text/html": [
       "<div>\n",
       "<style scoped>\n",
       "    .dataframe tbody tr th:only-of-type {\n",
       "        vertical-align: middle;\n",
       "    }\n",
       "\n",
       "    .dataframe tbody tr th {\n",
       "        vertical-align: top;\n",
       "    }\n",
       "\n",
       "    .dataframe thead th {\n",
       "        text-align: right;\n",
       "    }\n",
       "</style>\n",
       "<table border=\"1\" class=\"dataframe\">\n",
       "  <thead>\n",
       "    <tr style=\"text-align: right;\">\n",
       "      <th></th>\n",
       "      <th>Pleasant Ambiance</th>\n",
       "      <th>Comfortable seating arrangement</th>\n",
       "      <th>Immediate attenttion</th>\n",
       "      <th>Good Response on Phone</th>\n",
       "      <th>Errors in Passbook entries</th>\n",
       "      <th>Time to issue cheque book</th>\n",
       "      <th>Time to sanction loan</th>\n",
       "      <th>Time to clear outstation cheques</th>\n",
       "      <th>Issue of clean currency notes</th>\n",
       "      <th>Facility to pay bills</th>\n",
       "      <th>...</th>\n",
       "      <th>Occupation_Housewife</th>\n",
       "      <th>Occupation_Private Service</th>\n",
       "      <th>Occupation_Student</th>\n",
       "      <th>Age_20-30</th>\n",
       "      <th>Age_30-40</th>\n",
       "      <th>Age_40-58</th>\n",
       "      <th>Age_&lt;20</th>\n",
       "      <th>Age_&gt;58</th>\n",
       "      <th>Gender_Female</th>\n",
       "      <th>Gender_Male</th>\n",
       "    </tr>\n",
       "  </thead>\n",
       "  <tbody>\n",
       "    <tr>\n",
       "      <th>0</th>\n",
       "      <td>0.116465</td>\n",
       "      <td>0.117568</td>\n",
       "      <td>-0.046496</td>\n",
       "      <td>-0.356343</td>\n",
       "      <td>0.02395</td>\n",
       "      <td>-0.21714</td>\n",
       "      <td>0.061583</td>\n",
       "      <td>0.104336</td>\n",
       "      <td>-0.313836</td>\n",
       "      <td>0.570187</td>\n",
       "      <td>...</td>\n",
       "      <td>0.906734</td>\n",
       "      <td>-0.242477</td>\n",
       "      <td>-0.220881</td>\n",
       "      <td>0.579889</td>\n",
       "      <td>0.477277</td>\n",
       "      <td>-0.028439</td>\n",
       "      <td>-0.096011</td>\n",
       "      <td>-0.570507</td>\n",
       "      <td>-0.04345</td>\n",
       "      <td>0.40566</td>\n",
       "    </tr>\n",
       "  </tbody>\n",
       "</table>\n",
       "<p>1 rows × 37 columns</p>\n",
       "</div>"
      ],
      "text/plain": [
       "   Pleasant Ambiance  Comfortable seating arrangement  Immediate attenttion  \\\n",
       "0           0.116465                         0.117568             -0.046496   \n",
       "\n",
       "   Good Response on Phone  Errors in Passbook entries  \\\n",
       "0               -0.356343                     0.02395   \n",
       "\n",
       "   Time to issue cheque book  Time to sanction loan  \\\n",
       "0                   -0.21714               0.061583   \n",
       "\n",
       "   Time to clear outstation cheques  Issue of clean currency notes  \\\n",
       "0                          0.104336                      -0.313836   \n",
       "\n",
       "   Facility to pay bills  ...  Occupation_Housewife  \\\n",
       "0               0.570187  ...              0.906734   \n",
       "\n",
       "   Occupation_Private Service  Occupation_Student  Age_20-30  Age_30-40  \\\n",
       "0                   -0.242477           -0.220881   0.579889   0.477277   \n",
       "\n",
       "   Age_40-58   Age_<20   Age_>58  Gender_Female  Gender_Male  \n",
       "0  -0.028439 -0.096011 -0.570507       -0.04345      0.40566  \n",
       "\n",
       "[1 rows x 37 columns]"
      ]
     },
     "execution_count": 56,
     "metadata": {},
     "output_type": "execute_result"
    }
   ],
   "source": [
    "pd.DataFrame(coef_dict,index=[0])"
   ]
  },
  {
   "cell_type": "code",
   "execution_count": 57,
   "id": "583086ec-1235-49da-9c4c-4202c1d860aa",
   "metadata": {},
   "outputs": [],
   "source": [
    "resp_counts = bank_df['Response'].value_counts()"
   ]
  },
  {
   "cell_type": "code",
   "execution_count": 58,
   "id": "2506d190-5e04-4e82-9eb1-11b35a8875e1",
   "metadata": {},
   "outputs": [
    {
     "data": {
      "text/plain": [
       "Index([0, 1], dtype='int64', name='Response')"
      ]
     },
     "execution_count": 58,
     "metadata": {},
     "output_type": "execute_result"
    }
   ],
   "source": [
    "resp_counts.index"
   ]
  },
  {
   "cell_type": "code",
   "execution_count": 59,
   "id": "4faffaf5-53ac-4a57-b45b-c2caa9e76dc5",
   "metadata": {
    "scrolled": true
   },
   "outputs": [
    {
     "data": {
      "text/plain": [
       "Text(0.5, 1.0, 'Churn distribution in our dataset')"
      ]
     },
     "execution_count": 59,
     "metadata": {},
     "output_type": "execute_result"
    },
    {
     "data": {
      "image/png": "[encoded data removed]",
      "text/plain": [
       "<Figure size 1000x400 with 1 Axes>"
      ]
     },
     "metadata": {},
     "output_type": "display_data"
    }
   ],
   "source": [
    "plt.pie(resp_counts.values,labels=resp_counts.index,pctdistance=0.85,explode=[0.05,0.05])\n",
    "circ = plt.Circle((0,0),0.7,fc='white')\n",
    "fig = plt.gcf()\n",
    "fig.gca().add_artist(circ)\n",
    "plt.title('Churn distribution in our dataset')"
   ]
  },
  {
   "cell_type": "code",
   "execution_count": 76,
   "id": "bcb88c3d-1296-4138-9d2b-441c3f2e192f",
   "metadata": {},
   "outputs": [],
   "source": [
    "mod_dec_tree = DecisionTreeClassifier()"
   ]
  },
  {
   "cell_type": "code",
   "execution_count": 77,
   "id": "dd4768a7-daf4-4e6b-8e84-e671e7d1c130",
   "metadata": {},
   "outputs": [],
   "source": [
    "mod_dec_tree = mod_dec_tree.fit(x_train,y_train)"
   ]
  },
  {
   "cell_type": "code",
   "execution_count": 79,
   "id": "d82d8eeb-dcd2-49e8-ae9d-86bcac7fe6d2",
   "metadata": {},
   "outputs": [],
   "source": [
    "pred_tree = mod_dec_tree.predict(x_test)"
   ]
  },
  {
   "cell_type": "code",
   "execution_count": 81,
   "id": "5cdccb83-daa1-4447-aacc-6ec7678775ca",
   "metadata": {},
   "outputs": [
    {
     "name": "stdout",
     "output_type": "stream",
     "text": [
      "              precision    recall  f1-score   support\n",
      "\n",
      "           0       0.90      0.90      0.90        73\n",
      "           1       0.22      0.22      0.22         9\n",
      "\n",
      "    accuracy                           0.83        82\n",
      "   macro avg       0.56      0.56      0.56        82\n",
      "weighted avg       0.83      0.83      0.83        82\n",
      "\n"
     ]
    }
   ],
   "source": [
    "print(classification_report(y_test,pred_tree))"
   ]
  },
  {
   "cell_type": "code",
   "execution_count": 99,
   "id": "5c037283-eeb8-4763-9ff4-8eb7039334cb",
   "metadata": {},
   "outputs": [
    {
     "data": {
      "text/plain": [
       "[Text(0.26865671641791045, 0.95, 'Good Response on Phone <= 2.5\\ngini = 0.263\\nsamples = 122\\nvalue = [103, 19]\\nclass = 0'),\n",
       " Text(0.11940298507462686, 0.85, 'Distance to residence <= 7.5\\ngini = 0.245\\nsamples = 7\\nvalue = [1, 6]\\nclass = 1'),\n",
       " Text(0.05970149253731343, 0.75, 'gini = 0.0\\nsamples = 6\\nvalue = [0, 6]\\nclass = 1'),\n",
       " Text(0.1791044776119403, 0.75, 'gini = 0.0\\nsamples = 1\\nvalue = [1, 0]\\nclass = 0'),\n",
       " Text(0.417910447761194, 0.85, 'Errors in Passbook entries <= 4.5\\ngini = 0.201\\nsamples = 115\\nvalue = [102, 13]\\nclass = 0'),\n",
       " Text(0.29850746268656714, 0.75, 'Distance to residence <= 7.5\\ngini = 0.494\\nsamples = 9\\nvalue = [5, 4]\\nclass = 0'),\n",
       " Text(0.23880597014925373, 0.65, 'Enough parking place <= 1.5\\ngini = 0.278\\nsamples = 6\\nvalue = [5, 1]\\nclass = 0'),\n",
       " Text(0.1791044776119403, 0.55, 'gini = 0.0\\nsamples = 1\\nvalue = [0, 1]\\nclass = 1'),\n",
       " Text(0.29850746268656714, 0.55, 'gini = 0.0\\nsamples = 5\\nvalue = [5, 0]\\nclass = 0'),\n",
       " Text(0.3582089552238806, 0.65, 'gini = 0.0\\nsamples = 3\\nvalue = [0, 3]\\nclass = 1'),\n",
       " Text(0.5373134328358209, 0.75, 'Distance to residence <= 1.0\\ngini = 0.155\\nsamples = 106\\nvalue = [97, 9]\\nclass = 0'),\n",
       " Text(0.47761194029850745, 0.65, 'gini = 0.0\\nsamples = 2\\nvalue = [0, 2]\\nclass = 1'),\n",
       " Text(0.5970149253731343, 0.65, 'Immediate attenttion <= 0.5\\ngini = 0.126\\nsamples = 104\\nvalue = [97, 7]\\nclass = 0'),\n",
       " Text(0.5373134328358209, 0.55, 'gini = 0.0\\nsamples = 1\\nvalue = [0, 1]\\nclass = 1'),\n",
       " Text(0.6567164179104478, 0.55, 'Branch_B5 <= 0.5\\ngini = 0.11\\nsamples = 103\\nvalue = [97, 6]\\nclass = 0'),\n",
       " Text(0.4925373134328358, 0.45, 'Branch_B8 <= 0.5\\ngini = 0.081\\nsamples = 95\\nvalue = [91, 4]\\nclass = 0'),\n",
       " Text(0.34328358208955223, 0.35, 'Time to sanction loan <= 9.5\\ngini = 0.045\\nsamples = 86\\nvalue = [84, 2]\\nclass = 0'),\n",
       " Text(0.22388059701492538, 0.25, 'Time to clear outstation cheques <= 8.5\\ngini = 0.024\\nsamples = 81\\nvalue = [80, 1]\\nclass = 0'),\n",
       " Text(0.16417910447761194, 0.15, 'gini = 0.0\\nsamples = 72\\nvalue = [72, 0]\\nclass = 0'),\n",
       " Text(0.2835820895522388, 0.15, 'Immediate attenttion <= 5.5\\ngini = 0.198\\nsamples = 9\\nvalue = [8, 1]\\nclass = 0'),\n",
       " Text(0.22388059701492538, 0.05, 'gini = 0.0\\nsamples = 1\\nvalue = [0, 1]\\nclass = 1'),\n",
       " Text(0.34328358208955223, 0.05, 'gini = 0.0\\nsamples = 8\\nvalue = [8, 0]\\nclass = 0'),\n",
       " Text(0.4626865671641791, 0.25, 'Age_20-30 <= 0.5\\ngini = 0.32\\nsamples = 5\\nvalue = [4, 1]\\nclass = 0'),\n",
       " Text(0.40298507462686567, 0.15, 'gini = 0.0\\nsamples = 4\\nvalue = [4, 0]\\nclass = 0'),\n",
       " Text(0.5223880597014925, 0.15, 'gini = 0.0\\nsamples = 1\\nvalue = [0, 1]\\nclass = 1'),\n",
       " Text(0.6417910447761194, 0.35, 'Gender_Male <= 0.5\\ngini = 0.346\\nsamples = 9\\nvalue = [7, 2]\\nclass = 0'),\n",
       " Text(0.582089552238806, 0.25, 'gini = 0.0\\nsamples = 2\\nvalue = [0, 2]\\nclass = 1'),\n",
       " Text(0.7014925373134329, 0.25, 'gini = 0.0\\nsamples = 7\\nvalue = [7, 0]\\nclass = 0'),\n",
       " Text(0.8208955223880597, 0.45, 'Good Response on Phone <= 8.5\\ngini = 0.375\\nsamples = 8\\nvalue = [6, 2]\\nclass = 0'),\n",
       " Text(0.7611940298507462, 0.35, 'gini = 0.0\\nsamples = 5\\nvalue = [5, 0]\\nclass = 0'),\n",
       " Text(0.8805970149253731, 0.35, 'Comfortable seating arrangement <= 4.0\\ngini = 0.444\\nsamples = 3\\nvalue = [1, 2]\\nclass = 1'),\n",
       " Text(0.8208955223880597, 0.25, 'gini = 0.0\\nsamples = 1\\nvalue = [1, 0]\\nclass = 0'),\n",
       " Text(0.9402985074626866, 0.25, 'gini = 0.0\\nsamples = 2\\nvalue = [0, 2]\\nclass = 1')]"
      ]
     },
     "execution_count": 99,
     "metadata": {},
     "output_type": "execute_result"
    },
    {
     "data": {
      "image/png": "[encoded data removed]",
      "text/plain": [
       "<Figure size 2500x1000 with 1 Axes>"
      ]
     },
     "metadata": {},
     "output_type": "display_data"
    }
   ],
   "source": [
    "fig = plt.figure(figsize=(25,10))\n",
    "plot_tree(mod_dec_tree,feature_names=x_train.columns,class_names=['0','1'],filled=True)"
   ]
  },
  {
   "cell_type": "code",
   "execution_count": 82,
   "id": "c8fda641-3861-4d8b-9a06-42f8c854f294",
   "metadata": {},
   "outputs": [
    {
     "data": {
      "text/plain": [
       "0.8292682926829268"
      ]
     },
     "execution_count": 82,
     "metadata": {},
     "output_type": "execute_result"
    }
   ],
   "source": [
    "accuracy_score(y_test,pred_tree)"
   ]
  },
  {
   "cell_type": "markdown",
   "id": "f7e43899-ed74-4ca5-9ee5-cc5cc2c31976",
   "metadata": {},
   "source": [
    "Discarding the Logistic Regression Model due to occurence of convergence problems and the Hauck-Donner phenomenon."
   ]
  }
 ],
 "metadata": {
  "kernelspec": {
   "display_name": "Python 3 (ipykernel)",
   "language": "python",
   "name": "python3"
  },
  "language_info": {
   "codemirror_mode": {
    "name": "ipython",
    "version": 3
   },
   "file_extension": ".py",
   "mimetype": "text/x-python",
   "name": "python",
   "nbconvert_exporter": "python",
   "pygments_lexer": "ipython3",
   "version": "3.11.8"
  }
 },
 "nbformat": 4,
 "nbformat_minor": 5
}
