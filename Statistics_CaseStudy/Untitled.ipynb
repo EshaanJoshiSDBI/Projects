{
 "cells": [
  {
   "cell_type": "code",
   "execution_count": 1,
   "id": "38ed8ed1-8ee2-4a0a-bdcc-669e63b8e11a",
   "metadata": {},
   "outputs": [],
   "source": [
    "df = read.csv('Bank_Churn_trainingdata.csv')"
   ]
  },
  {
   "cell_type": "code",
   "execution_count": 2,
   "id": "91252d13-6bbd-49da-a4ed-6002169d55fc",
   "metadata": {},
   "outputs": [],
   "source": [
    "df = df[,2:length(df)]"
   ]
  },
  {
   "cell_type": "code",
   "execution_count": 3,
   "id": "450f1363-d052-4c8a-83c2-0d0245d86361",
   "metadata": {},
   "outputs": [],
   "source": [
    "y = read.csv('Bank_Churn_trainingdata_y.csv')"
   ]
  },
  {
   "cell_type": "code",
   "execution_count": 4,
   "id": "b6425690-434a-48c6-8eab-a4bd548dda49",
   "metadata": {},
   "outputs": [],
   "source": [
    "df = merge(df,y)"
   ]
  },
  {
   "cell_type": "code",
   "execution_count": 5,
   "id": "5c7e13cf-0c70-4dcf-a821-e28f26a6a5e0",
   "metadata": {},
   "outputs": [
    {
     "data": {
      "text/html": [
       "<table class=\"dataframe\">\n",
       "<caption>A data.frame: 6 × 39</caption>\n",
       "<thead>\n",
       "\t<tr><th></th><th scope=col>Pleasant.Ambiance</th><th scope=col>Comfortable.seating.arrangement</th><th scope=col>Immediate.attenttion</th><th scope=col>Good.Response.on.Phone</th><th scope=col>Errors.in.Passbook.entries</th><th scope=col>Time.to.issue.cheque.book</th><th scope=col>Time.to.sanction.loan</th><th scope=col>Time.to.clear.outstation.cheques</th><th scope=col>Issue.of.clean.currency.notes</th><th scope=col>Facility.to.pay.bills</th><th scope=col>⋯</th><th scope=col>Occupation_Student</th><th scope=col>Age_20.30</th><th scope=col>Age_30.40</th><th scope=col>Age_40.58</th><th scope=col>Age_.20</th><th scope=col>Age_.58</th><th scope=col>Gender_Female</th><th scope=col>Gender_Male</th><th scope=col>X</th><th scope=col>Response</th></tr>\n",
       "\t<tr><th></th><th scope=col>&lt;int&gt;</th><th scope=col>&lt;int&gt;</th><th scope=col>&lt;int&gt;</th><th scope=col>&lt;int&gt;</th><th scope=col>&lt;int&gt;</th><th scope=col>&lt;int&gt;</th><th scope=col>&lt;int&gt;</th><th scope=col>&lt;int&gt;</th><th scope=col>&lt;int&gt;</th><th scope=col>&lt;int&gt;</th><th scope=col>⋯</th><th scope=col>&lt;int&gt;</th><th scope=col>&lt;int&gt;</th><th scope=col>&lt;int&gt;</th><th scope=col>&lt;int&gt;</th><th scope=col>&lt;int&gt;</th><th scope=col>&lt;int&gt;</th><th scope=col>&lt;int&gt;</th><th scope=col>&lt;int&gt;</th><th scope=col>&lt;int&gt;</th><th scope=col>&lt;int&gt;</th></tr>\n",
       "</thead>\n",
       "<tbody>\n",
       "\t<tr><th scope=row>1</th><td>5</td><td>2</td><td>9</td><td>10</td><td>5</td><td>7</td><td>2</td><td>6</td><td>2</td><td>5</td><td>⋯</td><td>0</td><td>0</td><td>0</td><td>1</td><td>0</td><td>0</td><td>0</td><td>1</td><td>77</td><td>0</td></tr>\n",
       "\t<tr><th scope=row>2</th><td>8</td><td>4</td><td>3</td><td> 6</td><td>8</td><td>8</td><td>5</td><td>4</td><td>8</td><td>7</td><td>⋯</td><td>0</td><td>0</td><td>0</td><td>0</td><td>0</td><td>1</td><td>1</td><td>0</td><td>77</td><td>0</td></tr>\n",
       "\t<tr><th scope=row>3</th><td>5</td><td>6</td><td>9</td><td> 8</td><td>5</td><td>9</td><td>8</td><td>6</td><td>8</td><td>7</td><td>⋯</td><td>0</td><td>0</td><td>1</td><td>0</td><td>0</td><td>0</td><td>0</td><td>1</td><td>77</td><td>0</td></tr>\n",
       "\t<tr><th scope=row>4</th><td>4</td><td>7</td><td>6</td><td> 7</td><td>4</td><td>4</td><td>5</td><td>5</td><td>5</td><td>5</td><td>⋯</td><td>0</td><td>0</td><td>1</td><td>0</td><td>0</td><td>0</td><td>0</td><td>1</td><td>77</td><td>0</td></tr>\n",
       "\t<tr><th scope=row>5</th><td>7</td><td>1</td><td>8</td><td> 8</td><td>8</td><td>8</td><td>9</td><td>7</td><td>7</td><td>8</td><td>⋯</td><td>0</td><td>1</td><td>0</td><td>0</td><td>0</td><td>0</td><td>0</td><td>1</td><td>77</td><td>0</td></tr>\n",
       "\t<tr><th scope=row>6</th><td>8</td><td>6</td><td>5</td><td> 7</td><td>7</td><td>9</td><td>6</td><td>4</td><td>8</td><td>7</td><td>⋯</td><td>0</td><td>0</td><td>1</td><td>0</td><td>0</td><td>0</td><td>0</td><td>1</td><td>77</td><td>0</td></tr>\n",
       "</tbody>\n",
       "</table>\n"
      ],
      "text/latex": [
       "A data.frame: 6 × 39\n",
       "\\begin{tabular}{r|lllllllllllllllllllll}\n",
       "  & Pleasant.Ambiance & Comfortable.seating.arrangement & Immediate.attenttion & Good.Response.on.Phone & Errors.in.Passbook.entries & Time.to.issue.cheque.book & Time.to.sanction.loan & Time.to.clear.outstation.cheques & Issue.of.clean.currency.notes & Facility.to.pay.bills & ⋯ & Occupation\\_Student & Age\\_20.30 & Age\\_30.40 & Age\\_40.58 & Age\\_.20 & Age\\_.58 & Gender\\_Female & Gender\\_Male & X & Response\\\\\n",
       "  & <int> & <int> & <int> & <int> & <int> & <int> & <int> & <int> & <int> & <int> & ⋯ & <int> & <int> & <int> & <int> & <int> & <int> & <int> & <int> & <int> & <int>\\\\\n",
       "\\hline\n",
       "\t1 & 5 & 2 & 9 & 10 & 5 & 7 & 2 & 6 & 2 & 5 & ⋯ & 0 & 0 & 0 & 1 & 0 & 0 & 0 & 1 & 77 & 0\\\\\n",
       "\t2 & 8 & 4 & 3 &  6 & 8 & 8 & 5 & 4 & 8 & 7 & ⋯ & 0 & 0 & 0 & 0 & 0 & 1 & 1 & 0 & 77 & 0\\\\\n",
       "\t3 & 5 & 6 & 9 &  8 & 5 & 9 & 8 & 6 & 8 & 7 & ⋯ & 0 & 0 & 1 & 0 & 0 & 0 & 0 & 1 & 77 & 0\\\\\n",
       "\t4 & 4 & 7 & 6 &  7 & 4 & 4 & 5 & 5 & 5 & 5 & ⋯ & 0 & 0 & 1 & 0 & 0 & 0 & 0 & 1 & 77 & 0\\\\\n",
       "\t5 & 7 & 1 & 8 &  8 & 8 & 8 & 9 & 7 & 7 & 8 & ⋯ & 0 & 1 & 0 & 0 & 0 & 0 & 0 & 1 & 77 & 0\\\\\n",
       "\t6 & 8 & 6 & 5 &  7 & 7 & 9 & 6 & 4 & 8 & 7 & ⋯ & 0 & 0 & 1 & 0 & 0 & 0 & 0 & 1 & 77 & 0\\\\\n",
       "\\end{tabular}\n"
      ],
      "text/markdown": [
       "\n",
       "A data.frame: 6 × 39\n",
       "\n",
       "| <!--/--> | Pleasant.Ambiance &lt;int&gt; | Comfortable.seating.arrangement &lt;int&gt; | Immediate.attenttion &lt;int&gt; | Good.Response.on.Phone &lt;int&gt; | Errors.in.Passbook.entries &lt;int&gt; | Time.to.issue.cheque.book &lt;int&gt; | Time.to.sanction.loan &lt;int&gt; | Time.to.clear.outstation.cheques &lt;int&gt; | Issue.of.clean.currency.notes &lt;int&gt; | Facility.to.pay.bills &lt;int&gt; | ⋯ ⋯ | Occupation_Student &lt;int&gt; | Age_20.30 &lt;int&gt; | Age_30.40 &lt;int&gt; | Age_40.58 &lt;int&gt; | Age_.20 &lt;int&gt; | Age_.58 &lt;int&gt; | Gender_Female &lt;int&gt; | Gender_Male &lt;int&gt; | X &lt;int&gt; | Response &lt;int&gt; |\n",
       "|---|---|---|---|---|---|---|---|---|---|---|---|---|---|---|---|---|---|---|---|---|---|\n",
       "| 1 | 5 | 2 | 9 | 10 | 5 | 7 | 2 | 6 | 2 | 5 | ⋯ | 0 | 0 | 0 | 1 | 0 | 0 | 0 | 1 | 77 | 0 |\n",
       "| 2 | 8 | 4 | 3 |  6 | 8 | 8 | 5 | 4 | 8 | 7 | ⋯ | 0 | 0 | 0 | 0 | 0 | 1 | 1 | 0 | 77 | 0 |\n",
       "| 3 | 5 | 6 | 9 |  8 | 5 | 9 | 8 | 6 | 8 | 7 | ⋯ | 0 | 0 | 1 | 0 | 0 | 0 | 0 | 1 | 77 | 0 |\n",
       "| 4 | 4 | 7 | 6 |  7 | 4 | 4 | 5 | 5 | 5 | 5 | ⋯ | 0 | 0 | 1 | 0 | 0 | 0 | 0 | 1 | 77 | 0 |\n",
       "| 5 | 7 | 1 | 8 |  8 | 8 | 8 | 9 | 7 | 7 | 8 | ⋯ | 0 | 1 | 0 | 0 | 0 | 0 | 0 | 1 | 77 | 0 |\n",
       "| 6 | 8 | 6 | 5 |  7 | 7 | 9 | 6 | 4 | 8 | 7 | ⋯ | 0 | 0 | 1 | 0 | 0 | 0 | 0 | 1 | 77 | 0 |\n",
       "\n"
      ],
      "text/plain": [
       "  Pleasant.Ambiance Comfortable.seating.arrangement Immediate.attenttion\n",
       "1 5                 2                               9                   \n",
       "2 8                 4                               3                   \n",
       "3 5                 6                               9                   \n",
       "4 4                 7                               6                   \n",
       "5 7                 1                               8                   \n",
       "6 8                 6                               5                   \n",
       "  Good.Response.on.Phone Errors.in.Passbook.entries Time.to.issue.cheque.book\n",
       "1 10                     5                          7                        \n",
       "2  6                     8                          8                        \n",
       "3  8                     5                          9                        \n",
       "4  7                     4                          4                        \n",
       "5  8                     8                          8                        \n",
       "6  7                     7                          9                        \n",
       "  Time.to.sanction.loan Time.to.clear.outstation.cheques\n",
       "1 2                     6                               \n",
       "2 5                     4                               \n",
       "3 8                     6                               \n",
       "4 5                     5                               \n",
       "5 9                     7                               \n",
       "6 6                     4                               \n",
       "  Issue.of.clean.currency.notes Facility.to.pay.bills ⋯ Occupation_Student\n",
       "1 2                             5                     ⋯ 0                 \n",
       "2 8                             7                     ⋯ 0                 \n",
       "3 8                             7                     ⋯ 0                 \n",
       "4 5                             5                     ⋯ 0                 \n",
       "5 7                             8                     ⋯ 0                 \n",
       "6 8                             7                     ⋯ 0                 \n",
       "  Age_20.30 Age_30.40 Age_40.58 Age_.20 Age_.58 Gender_Female Gender_Male X \n",
       "1 0         0         1         0       0       0             1           77\n",
       "2 0         0         0         0       1       1             0           77\n",
       "3 0         1         0         0       0       0             1           77\n",
       "4 0         1         0         0       0       0             1           77\n",
       "5 1         0         0         0       0       0             1           77\n",
       "6 0         1         0         0       0       0             1           77\n",
       "  Response\n",
       "1 0       \n",
       "2 0       \n",
       "3 0       \n",
       "4 0       \n",
       "5 0       \n",
       "6 0       "
      ]
     },
     "metadata": {},
     "output_type": "display_data"
    }
   ],
   "source": [
    "head(df)"
   ]
  },
  {
   "cell_type": "code",
   "execution_count": 6,
   "id": "802bacf7-b163-43d9-8e7b-a69f52442298",
   "metadata": {},
   "outputs": [
    {
     "name": "stderr",
     "output_type": "stream",
     "text": [
      "Warning message:\n",
      "“glm.fit: algorithm did not converge”\n",
      "Warning message:\n",
      "“glm.fit: fitted probabilities numerically 0 or 1 occurred”\n"
     ]
    }
   ],
   "source": [
    "mod = glm('Response ~ .',data=df,family = 'binomial')"
   ]
  },
  {
   "cell_type": "code",
   "execution_count": 7,
   "id": "37301880-3f68-4b8a-ae53-f05cbca23e4c",
   "metadata": {},
   "outputs": [
    {
     "data": {
      "text/plain": [
       "\n",
       "Call:\n",
       "glm(formula = \"Response ~ .\", family = \"binomial\", data = df)\n",
       "\n",
       "Coefficients: (3 not defined because of singularities)\n",
       "                                   Estimate Std. Error z value Pr(>|z|)\n",
       "(Intercept)                      -1.919e+03  1.596e+04  -0.120    0.904\n",
       "Pleasant.Ambiance                -3.516e-16  1.110e+02   0.000    1.000\n",
       "Comfortable.seating.arrangement   4.129e-16  9.655e+01   0.000    1.000\n",
       "Immediate.attenttion             -2.666e-16  9.573e+01   0.000    1.000\n",
       "Good.Response.on.Phone            1.311e-16  8.954e+01   0.000    1.000\n",
       "Errors.in.Passbook.entries        8.629e-17  1.008e+02   0.000    1.000\n",
       "Time.to.issue.cheque.book        -4.595e-17  8.482e+01   0.000    1.000\n",
       "Time.to.sanction.loan             8.284e-17  9.676e+01   0.000    1.000\n",
       "Time.to.clear.outstation.cheques -1.844e-16  9.222e+01   0.000    1.000\n",
       "Issue.of.clean.currency.notes    -3.497e-16  1.222e+02   0.000    1.000\n",
       "Facility.to.pay.bills             2.035e-16  1.278e+02   0.000    1.000\n",
       "Distance.to.residence             1.043e-16  9.307e+01   0.000    1.000\n",
       "Distance.to.workplace            -3.328e-16  1.115e+02   0.000    1.000\n",
       "Courteous.staff.behaviour        -5.820e-18  9.802e+01   0.000    1.000\n",
       "Enough.parking.place              4.744e-16  1.115e+02   0.000    1.000\n",
       "Branch_B1                         1.479e-15  7.167e+02   0.000    1.000\n",
       "Branch_B10                        1.605e-16  6.869e+02   0.000    1.000\n",
       "Branch_B2                         5.966e-16  7.268e+02   0.000    1.000\n",
       "Branch_B3                         1.280e-15  6.825e+02   0.000    1.000\n",
       "Branch_B4                         1.371e-15  7.138e+02   0.000    1.000\n",
       "Branch_B5                         1.209e-15  7.991e+02   0.000    1.000\n",
       "Branch_B6                         2.820e-15  7.106e+02   0.000    1.000\n",
       "Branch_B7                         1.186e-16  6.682e+02   0.000    1.000\n",
       "Branch_B8                        -6.924e-16  7.014e+02   0.000    1.000\n",
       "Branch_B9                                NA         NA      NA       NA\n",
       "Occupation_Business               2.475e-15  5.639e+02   0.000    1.000\n",
       "Occupation_Defence               -2.004e-15  1.881e+03   0.000    1.000\n",
       "Occupation_Government.Service     2.653e-15  5.850e+02   0.000    1.000\n",
       "Occupation_Housewife              1.918e-15  7.149e+02   0.000    1.000\n",
       "Occupation_Private.Service       -2.280e-16  6.056e+02   0.000    1.000\n",
       "Occupation_Student                1.080e-15  1.726e+03   0.000    1.000\n",
       "Age_20.30                         9.984e-17  5.179e+02   0.000    1.000\n",
       "Age_30.40                        -2.507e-15  5.414e+02   0.000    1.000\n",
       "Age_40.58                        -5.314e-16  4.880e+02   0.000    1.000\n",
       "Age_.20                          -1.374e-15  2.082e+03   0.000    1.000\n",
       "Age_.58                                  NA         NA      NA       NA\n",
       "Gender_Female                    -5.556e-16  4.588e+02   0.000    1.000\n",
       "Gender_Male                              NA         NA      NA       NA\n",
       "X                                 1.087e+01  9.022e+01   0.121    0.904\n",
       "\n",
       "(Dispersion parameter for binomial family taken to be 1)\n",
       "\n",
       "    Null deviance: 1.2876e+04  on 14883  degrees of freedom\n",
       "Residual deviance: 4.0206e-05  on 14848  degrees of freedom\n",
       "AIC: 72\n",
       "\n",
       "Number of Fisher Scoring iterations: 25\n"
      ]
     },
     "metadata": {},
     "output_type": "display_data"
    }
   ],
   "source": [
    "summary(mod)"
   ]
  }
 ],
 "metadata": {
  "kernelspec": {
   "display_name": "R",
   "language": "R",
   "name": "ir"
  },
  "language_info": {
   "codemirror_mode": "r",
   "file_extension": ".r",
   "mimetype": "text/x-r-source",
   "name": "R",
   "pygments_lexer": "r",
   "version": "4.3.3"
  }
 },
 "nbformat": 4,
 "nbformat_minor": 5
}
